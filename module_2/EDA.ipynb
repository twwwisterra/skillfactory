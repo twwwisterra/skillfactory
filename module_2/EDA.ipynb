{
 "cells": [
  {
   "cell_type": "code",
   "execution_count": 2,
   "metadata": {
    "collapsed": true
   },
   "outputs": [],
   "source": [
    "import pandas as pd\n",
    "import matplotlib.pyplot as plt\n",
    "import seaborn as sns\n",
    "from itertools import combinations\n",
    "from scipy.stats import ttest_ind\n",
    "\n",
    "pd.set_option('display.max_rows', 50) # по\n",
    "pd.set_option('display.max_columns', 50) #\n",
    "\n",
    "students = pd.read_csv('stud_math.csv')"
   ]
  },
  {
   "cell_type": "markdown",
   "source": [
    "# EDA: Предсказание оценки по математике"
   ],
   "metadata": {
    "collapsed": false
   }
  },
  {
   "cell_type": "markdown",
   "source": [
    "### Легенда:\n",
    "\n",
    "1 school — аббревиатура школы, в которой учится ученик\n",
    "\n",
    "2 sex — пол ученика ('F' - женский, 'M' - мужской)\n",
    "\n",
    "3 age — возраст ученика (от 15 до 22)\n",
    "\n",
    "4 address — тип адреса ученика ('U' - городской, 'R' - за городом)\n",
    "\n",
    "5 famsize — размер семьи('LE3' <= 3, 'GT3' >3)\n",
    "\n",
    "6 Pstatus — статус совместного жилья родителей ('T' - живут вместе 'A' - раздельно)\n",
    "\n",
    "7 Medu — образование матери (0 - нет, 1 - 4 класса, 2 - 5-9 классы, 3 - среднее специальное или 11 классов, 4 - высшее)\n",
    "\n",
    "8 Fedu — образование отца (0 - нет, 1 - 4 класса, 2 - 5-9 классы, 3 - среднее специальное или 11 классов, 4 - высшее)\n",
    "\n",
    "9 Mjob — работа матери ('teacher' - учитель, 'health' - сфера здравоохранения, 'services' - гос служба, 'at_home' - не работает, 'other' - другое)\n",
    "\n",
    "10 Fjob — работа отца ('teacher' - учитель, 'health' - сфера здравоохранения, 'services' - гос служба, 'at_home' - не работает, 'other' - другое)\n",
    "\n",
    "11 reason — причина выбора школы ('home' - близость к дому, 'reputation' - репутация школы, 'course' - образовательная программа, 'other' - другое)\n",
    "\n",
    "12 guardian — опекун ('mother' - мать, 'father' - отец, 'other' - другое)\n",
    "\n",
    "13 traveltime — время в пути до школы (1 - <15 мин., 2 - 15-30 мин., 3 - 30-60 мин., 4 - >60 мин.)\n",
    "\n",
    "14 studytime — время на учёбу помимо школы в неделю (1 - <2 часов, 2 - 2-5 часов, 3 - 5-10 часов, 4 - >10 часов)\n",
    "\n",
    "15 failures — количество внеучебных неудач (n, если 1<=n<=3, иначе 0)\n",
    "\n",
    "16 schoolsup — дополнительная образовательная поддержка (yes или no)\n",
    "\n",
    "17 famsup — семейная образовательная поддержка (yes или no)\n",
    "\n",
    "18 paid — дополнительные платные занятия по математике (yes или no)\n",
    "\n",
    "19 activities — дополнительные внеучебные занятия (yes или no)\n",
    "\n",
    "20 nursery — посещал детский сад (yes или no)\n",
    "\n",
    "21 higher — хочет получить высшее образование (yes или no)\n",
    "\n",
    "22 internet — наличие интернета дома (yes или no)\n",
    "\n",
    "23 romantic — в романтических отношениях (yes или no)\n",
    "\n",
    "24 famrel — семейные отношения (от 1 - очень плохо до 5 - очень хорошо)\n",
    "\n",
    "25 freetime — свободное время после школы (от 1 - очень мало до 5 - очень мого)\n",
    "\n",
    "26 goout — проведение времени с друзьями (от 1 - очень мало до 5 - очень много)\n",
    "\n",
    "27 health — текущее состояние здоровья (от 1 - очень плохо до 5 - очень хорошо)\n",
    "\n",
    "28 absences — количество пропущенных занятий\n",
    "\n",
    "29 score — баллы по госэкзамену по математике\n"
   ],
   "metadata": {
    "collapsed": false
   }
  },
  {
   "cell_type": "markdown",
   "source": [
    "## Пре Процессинг"
   ],
   "metadata": {
    "collapsed": false
   }
  },
  {
   "cell_type": "code",
   "execution_count": 3,
   "outputs": [],
   "source": [
    "def get_field_info(dataframe, column_name, min_repeats=10):\n",
    "    '''получаем данные по колонкам'''\n",
    "\n",
    "    dataframe[column_name] = dataframe[column_name].apply(lambda x: None if type(x) == str and x.strip() == '' else x)\n",
    "    print('\\nValue counts:', pd.DataFrame(dataframe[column_name].value_counts()))\n",
    "    print('\\nUnique values:', dataframe[column_name].nunique())\n",
    "    print(\"\\nAppeared more then {} times:\".format(min_repeats),\n",
    "          (dataframe[column_name].value_counts()>min_repeats).sum())\n",
    "    print('\\nGeneral info:')\n",
    "    dataframe.loc[:, [column_name]].info()\n",
    "\n",
    "def empty_to_none(dataframe, column_name):\n",
    "    '''заменяем пустую строку на None'''\n",
    "    return dataframe[column_name].astype(str).apply(lambda x: None if type(x) == str and x.strip() == '' else x)\n",
    "\n",
    "def get_stat_values(dataframe, column_name, draw=False, bins=20):\n",
    "    median = dataframe[column_name].median()\n",
    "    IQR = dataframe[column_name].quantile(0.75) - dataframe[column_name].quantile(0.25)\n",
    "    perc25 = dataframe[column_name].quantile(0.25)\n",
    "    perc75 = dataframe[column_name].quantile(0.75)\n",
    "    print(\n",
    "        'Медиана: {},'.format(median),\n",
    "        '25-й перцентиль: {},'.format(perc25),\n",
    "        '75-й перцентиль: {},'.format(perc75),\n",
    "        'IQR: {}, '.format(IQR),\n",
    "        '\\nГраницы выбросов: [{f}, {l}].'.format(f=perc25 - 1.5*IQR, l=perc75 + 1.5*IQR)\n",
    "    )\n",
    "    if draw is True:\n",
    "        dataframe[column_name].loc[dataframe[column_name].between(perc25 - 1.5*IQR, perc75 + 1.5*IQR)]\\\n",
    "        .hist(bins = bins, range = (dataframe[column_name].min(), dataframe[column_name].max()), label = 'IQR')\n",
    "\n",
    "def group_absences(number):\n",
    "    return \\\n",
    "             1 if number == 0 \\\n",
    "        else 2 if 0 < number < 5 \\\n",
    "        else 3 if 5 <= number < 10 \\\n",
    "        else 4 if 10 <= number < 20 \\\n",
    "        else 5\n",
    "\n",
    "def get_boxplot_by_score(dataframe, column):\n",
    "    fig, ax = plt.subplots(figsize = (14, 4))\n",
    "    sns.boxplot(x=column, y='score',\n",
    "                data=dataframe.loc[dataframe.loc[:, column].isin(dataframe.loc[:, column].value_counts().index[:10])],\n",
    "               ax=ax)\n",
    "    plt.xticks(rotation=45)\n",
    "    ax.set_title('Boxplot for ' + column)\n",
    "    plt.show()\n",
    "\n",
    "def get_stat_dif(dataframe, column):\n",
    "    '''находим статистически значимые различия по колонкам'''\n",
    "    cols = dataframe.loc[:, column].value_counts().index[:10]\n",
    "    combinations_all = list(combinations(cols, 2))\n",
    "    for comb in combinations_all:\n",
    "        if ttest_ind(dataframe.loc[dataframe.loc[:, column] == comb[0], 'score'],\n",
    "                        dataframe.loc[dataframe.loc[:, column] == comb[1], 'score']).pvalue \\\n",
    "            <= 0.05/len(combinations_all): # Учли поправку Бонферони\n",
    "            print('Найдены статистически значимые различия для колонки ', column)\n",
    "            break\n"
   ],
   "metadata": {
    "collapsed": false,
    "pycharm": {
     "name": "#%%\n"
    }
   }
  },
  {
   "cell_type": "markdown",
   "source": [
    "### Базовая информация по датасету"
   ],
   "metadata": {
    "collapsed": false
   }
  },
  {
   "cell_type": "code",
   "execution_count": 4,
   "outputs": [
    {
     "name": "stdout",
     "output_type": "stream",
     "text": [
      "<class 'pandas.core.frame.DataFrame'>\n",
      "RangeIndex: 395 entries, 0 to 394\n",
      "Data columns (total 30 columns):\n",
      " #   Column               Non-Null Count  Dtype  \n",
      "---  ------               --------------  -----  \n",
      " 0   school               395 non-null    object \n",
      " 1   sex                  395 non-null    object \n",
      " 2   age                  395 non-null    int64  \n",
      " 3   address              378 non-null    object \n",
      " 4   famsize              368 non-null    object \n",
      " 5   Pstatus              350 non-null    object \n",
      " 6   Medu                 392 non-null    float64\n",
      " 7   Fedu                 371 non-null    float64\n",
      " 8   Mjob                 376 non-null    object \n",
      " 9   Fjob                 359 non-null    object \n",
      " 10  reason               378 non-null    object \n",
      " 11  guardian             364 non-null    object \n",
      " 12  traveltime           367 non-null    float64\n",
      " 13  studytime            388 non-null    float64\n",
      " 14  failures             373 non-null    float64\n",
      " 15  schoolsup            386 non-null    object \n",
      " 16  famsup               356 non-null    object \n",
      " 17  paid                 355 non-null    object \n",
      " 18  activities           381 non-null    object \n",
      " 19  nursery              379 non-null    object \n",
      " 20  studytime, granular  388 non-null    float64\n",
      " 21  higher               375 non-null    object \n",
      " 22  internet             361 non-null    object \n",
      " 23  romantic             364 non-null    object \n",
      " 24  famrel               368 non-null    float64\n",
      " 25  freetime             384 non-null    float64\n",
      " 26  goout                387 non-null    float64\n",
      " 27  health               380 non-null    float64\n",
      " 28  absences             383 non-null    float64\n",
      " 29  score                389 non-null    float64\n",
      "dtypes: float64(12), int64(1), object(17)\n",
      "memory usage: 92.7+ KB\n"
     ]
    },
    {
     "data": {
      "text/plain": "Index(['school', 'sex', 'age', 'address', 'famsize', 'Pstatus', 'Medu', 'Fedu',\n       'Mjob', 'Fjob', 'reason', 'guardian', 'traveltime', 'studytime',\n       'failures', 'schoolsup', 'famsup', 'paid', 'activities', 'nursery',\n       'granular', 'higher', 'internet', 'romantic', 'famrel', 'freetime',\n       'goout', 'health', 'absences', 'score'],\n      dtype='object')"
     },
     "execution_count": 4,
     "metadata": {},
     "output_type": "execute_result"
    }
   ],
   "source": [
    "students.info()\n",
    "\n",
    "'''переименовываем одну из колонок для удобства'''\n",
    "students.rename(columns={'studytime, granular': 'granular'}, inplace=True)\n",
    "students.columns"
   ],
   "metadata": {
    "collapsed": false,
    "pycharm": {
     "name": "#%%\n"
    }
   }
  },
  {
   "cell_type": "markdown",
   "source": [
    "### Проверяем данные по колонкам (начинаем со score поскольку там есть неполные данные)"
   ],
   "metadata": {
    "collapsed": false
   }
  },
  {
   "cell_type": "markdown",
   "source": [
    "#### score"
   ],
   "metadata": {
    "collapsed": false
   }
  },
  {
   "cell_type": "code",
   "execution_count": 5,
   "outputs": [
    {
     "name": "stdout",
     "output_type": "stream",
     "text": [
      "\n",
      "Value counts:        score\n",
      "50.0      54\n",
      "55.0      46\n",
      "0.0       37\n",
      "75.0      33\n",
      "65.0      31\n",
      "40.0      31\n",
      "60.0      31\n",
      "70.0      27\n",
      "45.0      27\n",
      "80.0      16\n",
      "30.0      15\n",
      "90.0      12\n",
      "35.0       9\n",
      "25.0       7\n",
      "85.0       6\n",
      "95.0       5\n",
      "100.0      1\n",
      "20.0       1\n",
      "\n",
      "Unique values: 18\n",
      "\n",
      "Appeared more then 10 times: 12\n",
      "\n",
      "General info:\n",
      "<class 'pandas.core.frame.DataFrame'>\n",
      "RangeIndex: 395 entries, 0 to 394\n",
      "Data columns (total 1 columns):\n",
      " #   Column  Non-Null Count  Dtype  \n",
      "---  ------  --------------  -----  \n",
      " 0   score   389 non-null    float64\n",
      "dtypes: float64(1)\n",
      "memory usage: 3.2 KB\n",
      "\n",
      "Value counts:        score\n",
      "50.0      54\n",
      "55.0      46\n",
      "0.0       37\n",
      "75.0      33\n",
      "65.0      31\n",
      "40.0      31\n",
      "60.0      31\n",
      "70.0      27\n",
      "45.0      27\n",
      "80.0      16\n",
      "30.0      15\n",
      "90.0      12\n",
      "35.0       9\n",
      "25.0       7\n",
      "85.0       6\n",
      "95.0       5\n",
      "100.0      1\n",
      "20.0       1\n",
      "\n",
      "Unique values: 18\n",
      "\n",
      "Appeared more then 10 times: 12\n",
      "\n",
      "General info:\n",
      "<class 'pandas.core.frame.DataFrame'>\n",
      "RangeIndex: 389 entries, 0 to 388\n",
      "Data columns (total 1 columns):\n",
      " #   Column  Non-Null Count  Dtype  \n",
      "---  ------  --------------  -----  \n",
      " 0   score   389 non-null    float64\n",
      "dtypes: float64(1)\n",
      "memory usage: 3.2 KB\n"
     ]
    },
    {
     "data": {
      "text/plain": "' Данные есть для 389 студентов из 395. Поскольку данное поле является основным для анализа,\\n    убираем записи студентов для которых нет данных по оценке.\\n    Отчистка данных не требуется '"
     },
     "execution_count": 5,
     "metadata": {},
     "output_type": "execute_result"
    }
   ],
   "source": [
    "get_field_info(students, 'score')\n",
    "students_scored = students.query('score >= 0').reset_index()\n",
    "del students_scored['index'] # удаляю колонку индекса\n",
    "del students_scored['granular'] # для этого типа данных нет описания, удаляю\n",
    "\n",
    "get_field_info(students_scored, 'score')\n",
    "''' Данные есть для 389 студентов из 395. Поскольку данное поле является основным для анализа,\n",
    "    убираем записи студентов для которых нет данных по оценке.\n",
    "    Отчистка данных не требуется '''"
   ],
   "metadata": {
    "collapsed": false,
    "pycharm": {
     "name": "#%%\n"
    }
   }
  },
  {
   "cell_type": "code",
   "execution_count": 6,
   "outputs": [
    {
     "name": "stdout",
     "output_type": "stream",
     "text": [
      "Медиана: 55.0, 25-й перцентиль: 40.0, 75-й перцентиль: 70.0, IQR: 30.0,  \n",
      "Границы выбросов: [-5.0, 115.0].\n"
     ]
    },
    {
     "data": {
      "text/plain": "<Figure size 432x288 with 1 Axes>",
      "image/png": "[encoded data removed]"
     },
     "metadata": {
      "needs_background": "light"
     },
     "output_type": "display_data"
    }
   ],
   "source": [
    "get_stat_values(students_scored, 'score', draw=True)"
   ],
   "metadata": {
    "collapsed": false,
    "pycharm": {
     "name": "#%%\n"
    }
   }
  },
  {
   "cell_type": "code",
   "execution_count": 7,
   "outputs": [
    {
     "data": {
      "text/plain": "' Судя по данным шкала оценки по математике 100 бальная с шагом 5.\\n\\n    Оценки распределены со смещением влево.\\n    Аномальным кажется получение минимального (нулевого) балла 10% студентов. При этом отсутствуют студенты\\n    получившие оценки в интервале 0 > x > 20, что еще больше подчеркивает изолированность этой группы.\\n\\n    Можно предположить, что получение нулевого балла не связано с самим итоговым тестированием (экзаменом),\\n    по видимому мы имеем дело с двумя зависимостями и двумя группами студентов:\\n        1. Студенты, к которым применялась обычная система оценки. Для которых график распределения оценок\\n        близок к нормальному.\\n        2. Студенты, получившие нулевой балл и условия попадания в данную группу. Возможно они вообще не были допущены\\n        до экзамена, или были допущены, но их оценивали не так как прочих студентов.\\n\\n    Для разделения данных групп я ввожу колонку \\'score_group\\' поскольку считаю что для данных групп критерии влияющие на\\n    оценку могут отличаться и для анализа 1ой группы оценка \"0\" - является выбросом, мешающим оценить факторы влияющие\\n    на балл.\\n\\n    Полагая, что группа №2 выходит за рамки данного исследования, корреляционный анализ будет проведен для группы №1,\\n    с использованием query(\\'score_group == 1\\')\\n\\n    Также интересно наличие выраженного \"плато\" в интервале от 40 до 80 баллов. Это может быть связано с тем, что\\n    экзаменаторы с одной стороны \"дотягивают\" одних студентов до 40, а с другой неохотно дают оценку выше 80 баллов.\\n    С другой стороны это также может быть связано с методом экзаменации, например, есть базовый блок задач,\\n    знакомых большинству экзаменуемых, и задачи повышенной сложности, которые большинство студентов среднего\\n    уровня решить не может.\\n    '"
     },
     "execution_count": 7,
     "metadata": {},
     "output_type": "execute_result"
    },
    {
     "data": {
      "text/plain": "<Figure size 432x288 with 1 Axes>",
      "image/png": "[encoded data removed]"
     },
     "metadata": {
      "needs_background": "light"
     },
     "output_type": "display_data"
    }
   ],
   "source": [
    "students_scored.query('score > 0').boxplot(column='score')\n",
    "\n",
    "''' Судя по данным шкала оценки по математике 100 бальная с шагом 5.\n",
    "\n",
    "    Оценки распределены со смещением влево.\n",
    "    Аномальным кажется получение минимального (нулевого) балла 10% студентов. При этом отсутствуют студенты\n",
    "    получившие оценки в интервале 0 > x > 20, что еще больше подчеркивает изолированность этой группы.\n",
    "\n",
    "    Можно предположить, что получение нулевого балла не связано с самим итоговым тестированием (экзаменом),\n",
    "    по видимому мы имеем дело с двумя зависимостями и двумя группами студентов:\n",
    "        1. Студенты, к которым применялась обычная система оценки. Для которых график распределения оценок\n",
    "        близок к нормальному.\n",
    "        2. Студенты, получившие нулевой балл и условия попадания в данную группу. Возможно они вообще не были допущены\n",
    "        до экзамена, или были допущены, но их оценивали не так как прочих студентов.\n",
    "\n",
    "    Для разделения данных групп я ввожу колонку 'score_group' поскольку считаю что для данных групп критерии влияющие на\n",
    "    оценку могут отличаться и для анализа 1ой группы оценка \"0\" - является выбросом, мешающим оценить факторы влияющие\n",
    "    на балл.\n",
    "\n",
    "    Полагая, что группа №2 выходит за рамки данного исследования, корреляционный анализ будет проведен для группы №1,\n",
    "    с использованием query('score_group == 1')\n",
    "\n",
    "    Также интересно наличие выраженного \"плато\" в интервале от 40 до 80 баллов. Это может быть связано с тем, что\n",
    "    экзаменаторы с одной стороны \"дотягивают\" одних студентов до 40, а с другой неохотно дают оценку выше 80 баллов.\n",
    "    С другой стороны это также может быть связано с методом экзаменации, например, есть базовый блок задач,\n",
    "    знакомых большинству экзаменуемых, и задачи повышенной сложности, которые большинство студентов среднего\n",
    "    уровня решить не может.\n",
    "    '''"
   ],
   "metadata": {
    "collapsed": false,
    "pycharm": {
     "name": "#%%\n"
    }
   }
  },
  {
   "cell_type": "code",
   "execution_count": 8,
   "outputs": [
    {
     "name": "stdout",
     "output_type": "stream",
     "text": [
      "Медиана: 55.0, 25-й перцентиль: 45.0, 75-й перцентиль: 70.0, IQR: 25.0,  \n",
      "Границы выбросов: [7.5, 107.5].\n"
     ]
    },
    {
     "data": {
      "text/plain": "<Figure size 432x288 with 1 Axes>",
      "image/png": "[encoded data removed]"
     },
     "metadata": {
      "needs_background": "light"
     },
     "output_type": "display_data"
    }
   ],
   "source": [
    "'''данные по оценкам для студентов получивших более 0 баллов'''\n",
    "students_scored['score_group'] = students_scored['score'].apply(lambda x: 1 if x > 0 else 2)\n",
    "get_stat_values(students_scored.query('score_group == 1'), 'score', draw=True)"
   ],
   "metadata": {
    "collapsed": false,
    "pycharm": {
     "name": "#%%\n"
    }
   }
  },
  {
   "cell_type": "markdown",
   "source": [
    "#### school"
   ],
   "metadata": {
    "collapsed": false
   }
  },
  {
   "cell_type": "code",
   "execution_count": 9,
   "outputs": [
    {
     "name": "stdout",
     "output_type": "stream",
     "text": [
      "\n",
      "Value counts:     school\n",
      "GP     344\n",
      "MS      45\n",
      "\n",
      "Unique values: 2\n",
      "\n",
      "Appeared more then 10 times: 2\n",
      "\n",
      "General info:\n",
      "<class 'pandas.core.frame.DataFrame'>\n",
      "RangeIndex: 389 entries, 0 to 388\n",
      "Data columns (total 1 columns):\n",
      " #   Column  Non-Null Count  Dtype \n",
      "---  ------  --------------  ----- \n",
      " 0   school  389 non-null    object\n",
      "dtypes: object(1)\n",
      "memory usage: 3.2+ KB\n"
     ]
    },
    {
     "data": {
      "text/plain": "' Есть данные по двум школам, данные присутствуют для всех студентов\\n    Очистка данных не требуется'"
     },
     "execution_count": 9,
     "metadata": {},
     "output_type": "execute_result"
    }
   ],
   "source": [
    "get_field_info(students_scored, 'school')\n",
    "''' Есть данные по двум школам, данные присутствуют для всех студентов\n",
    "    Очистка данных не требуется'''"
   ],
   "metadata": {
    "collapsed": false,
    "pycharm": {
     "name": "#%%\n"
    }
   }
  },
  {
   "cell_type": "markdown",
   "source": [
    "#### sex"
   ],
   "metadata": {
    "collapsed": false
   }
  },
  {
   "cell_type": "code",
   "execution_count": 10,
   "outputs": [
    {
     "name": "stdout",
     "output_type": "stream",
     "text": [
      "\n",
      "Value counts:    sex\n",
      "F  204\n",
      "M  185\n",
      "\n",
      "Unique values: 2\n",
      "\n",
      "Appeared more then 10 times: 2\n",
      "\n",
      "General info:\n",
      "<class 'pandas.core.frame.DataFrame'>\n",
      "RangeIndex: 389 entries, 0 to 388\n",
      "Data columns (total 1 columns):\n",
      " #   Column  Non-Null Count  Dtype \n",
      "---  ------  --------------  ----- \n",
      " 0   sex     389 non-null    object\n",
      "dtypes: object(1)\n",
      "memory usage: 3.2+ KB\n"
     ]
    },
    {
     "data": {
      "text/plain": "' Также полные данные, ничего неожиданного\\n    Очистка данных не требуется'"
     },
     "execution_count": 10,
     "metadata": {},
     "output_type": "execute_result"
    }
   ],
   "source": [
    "get_field_info(students_scored, 'sex')\n",
    "''' Также полные данные, ничего неожиданного\n",
    "    Очистка данных не требуется'''"
   ],
   "metadata": {
    "collapsed": false,
    "pycharm": {
     "name": "#%%\n"
    }
   }
  },
  {
   "cell_type": "markdown",
   "source": [
    "#### age"
   ],
   "metadata": {
    "collapsed": false
   }
  },
  {
   "cell_type": "code",
   "execution_count": 11,
   "outputs": [
    {
     "name": "stdout",
     "output_type": "stream",
     "text": [
      "\n",
      "Value counts:     age\n",
      "16  103\n",
      "17   98\n",
      "15   82\n",
      "18   80\n",
      "19   21\n",
      "20    3\n",
      "22    1\n",
      "21    1\n",
      "\n",
      "Unique values: 8\n",
      "\n",
      "Appeared more then 10 times: 5\n",
      "\n",
      "General info:\n",
      "<class 'pandas.core.frame.DataFrame'>\n",
      "RangeIndex: 389 entries, 0 to 388\n",
      "Data columns (total 1 columns):\n",
      " #   Column  Non-Null Count  Dtype\n",
      "---  ------  --------------  -----\n",
      " 0   age     389 non-null    int64\n",
      "dtypes: int64(1)\n",
      "memory usage: 3.2 KB\n",
      "Медиана: 17.0, 25-й перцентиль: 16.0, 75-й перцентиль: 18.0, IQR: 2.0,  \n",
      "Границы выбросов: [13.0, 21.0].\n"
     ]
    },
    {
     "data": {
      "text/plain": "' Есть данные по возрасту для всех студентов в интервале от 15 до 22, ничего неожиданного.\\n    Очистка данных не требуется. 22 года выходит за границу выбросов, однако я не считаю это выбросом в данным случае'"
     },
     "execution_count": 11,
     "metadata": {},
     "output_type": "execute_result"
    },
    {
     "data": {
      "text/plain": "<Figure size 432x288 with 1 Axes>",
      "image/png": "[encoded data removed]"
     },
     "metadata": {
      "needs_background": "light"
     },
     "output_type": "display_data"
    }
   ],
   "source": [
    "get_field_info(students_scored, 'age')\n",
    "get_stat_values(students_scored, 'age', draw=True, bins=7)\n",
    "''' Есть данные по возрасту для всех студентов в интервале от 15 до 22, ничего неожиданного.\n",
    "    Очистка данных не требуется. 22 года выходит за границу выбросов, однако я не считаю это выбросом в данным случае'''"
   ],
   "metadata": {
    "collapsed": false,
    "pycharm": {
     "name": "#%%\n"
    }
   }
  },
  {
   "cell_type": "markdown",
   "source": [
    "#### address"
   ],
   "metadata": {
    "collapsed": false
   }
  },
  {
   "cell_type": "code",
   "execution_count": 12,
   "outputs": [
    {
     "name": "stdout",
     "output_type": "stream",
     "text": [
      "\n",
      "Value counts:    address\n",
      "U      291\n",
      "R       83\n",
      "\n",
      "Unique values: 2\n",
      "\n",
      "Appeared more then 10 times: 2\n",
      "\n",
      "General info:\n",
      "<class 'pandas.core.frame.DataFrame'>\n",
      "RangeIndex: 389 entries, 0 to 388\n",
      "Data columns (total 1 columns):\n",
      " #   Column   Non-Null Count  Dtype \n",
      "---  ------   --------------  ----- \n",
      " 0   address  374 non-null    object\n",
      "dtypes: object(1)\n",
      "memory usage: 3.2+ KB\n"
     ]
    },
    {
     "data": {
      "text/plain": "' Данные есть для 374 студентов из 389.\\n    Очистка данных не требуется '"
     },
     "execution_count": 12,
     "metadata": {},
     "output_type": "execute_result"
    }
   ],
   "source": [
    "get_field_info(students_scored, 'address')\n",
    "''' Данные есть для 374 студентов из 389.\n",
    "    Очистка данных не требуется '''"
   ],
   "metadata": {
    "collapsed": false,
    "pycharm": {
     "name": "#%%\n"
    }
   }
  },
  {
   "cell_type": "markdown",
   "source": [
    "#### famsize"
   ],
   "metadata": {
    "collapsed": false
   }
  },
  {
   "cell_type": "code",
   "execution_count": 13,
   "outputs": [
    {
     "name": "stdout",
     "output_type": "stream",
     "text": [
      "\n",
      "Value counts:      famsize\n",
      "GT3      255\n",
      "LE3      107\n",
      "\n",
      "Unique values: 2\n",
      "\n",
      "Appeared more then 10 times: 2\n",
      "\n",
      "General info:\n",
      "<class 'pandas.core.frame.DataFrame'>\n",
      "RangeIndex: 389 entries, 0 to 388\n",
      "Data columns (total 1 columns):\n",
      " #   Column   Non-Null Count  Dtype \n",
      "---  ------   --------------  ----- \n",
      " 0   famsize  362 non-null    object\n",
      "dtypes: object(1)\n",
      "memory usage: 3.2+ KB\n"
     ]
    },
    {
     "data": {
      "text/plain": "' Данные есть для 362 студентов из 389.\\n    Очистка данных не требуется '"
     },
     "execution_count": 13,
     "metadata": {},
     "output_type": "execute_result"
    }
   ],
   "source": [
    "get_field_info(students_scored, 'famsize')\n",
    "''' Данные есть для 362 студентов из 389.\n",
    "    Очистка данных не требуется '''"
   ],
   "metadata": {
    "collapsed": false,
    "pycharm": {
     "name": "#%%\n"
    }
   }
  },
  {
   "cell_type": "markdown",
   "source": [
    "#### Pstatus"
   ],
   "metadata": {
    "collapsed": false
   }
  },
  {
   "cell_type": "code",
   "execution_count": 14,
   "outputs": [
    {
     "name": "stdout",
     "output_type": "stream",
     "text": [
      "\n",
      "Value counts:    Pstatus\n",
      "T      308\n",
      "A       36\n",
      "\n",
      "Unique values: 2\n",
      "\n",
      "Appeared more then 10 times: 2\n",
      "\n",
      "General info:\n",
      "<class 'pandas.core.frame.DataFrame'>\n",
      "RangeIndex: 389 entries, 0 to 388\n",
      "Data columns (total 1 columns):\n",
      " #   Column   Non-Null Count  Dtype \n",
      "---  ------   --------------  ----- \n",
      " 0   Pstatus  344 non-null    object\n",
      "dtypes: object(1)\n",
      "memory usage: 3.2+ KB\n"
     ]
    },
    {
     "data": {
      "text/plain": "' Данные есть 344 студентов из 389.\\n    Очистка данных не требуется '"
     },
     "execution_count": 14,
     "metadata": {},
     "output_type": "execute_result"
    }
   ],
   "source": [
    "get_field_info(students_scored, 'Pstatus')\n",
    "''' Данные есть 344 студентов из 389.\n",
    "    Очистка данных не требуется '''"
   ],
   "metadata": {
    "collapsed": false,
    "pycharm": {
     "name": "#%%\n"
    }
   }
  },
  {
   "cell_type": "markdown",
   "source": [
    "#### Medu"
   ],
   "metadata": {
    "collapsed": false
   }
  },
  {
   "cell_type": "code",
   "execution_count": 15,
   "outputs": [
    {
     "name": "stdout",
     "output_type": "stream",
     "text": [
      "\n",
      "Value counts:      Medu\n",
      "4.0   131\n",
      "2.0   100\n",
      "3.0    96\n",
      "1.0    56\n",
      "0.0     3\n",
      "\n",
      "Unique values: 5\n",
      "\n",
      "Appeared more then 10 times: 4\n",
      "\n",
      "General info:\n",
      "<class 'pandas.core.frame.DataFrame'>\n",
      "RangeIndex: 389 entries, 0 to 388\n",
      "Data columns (total 1 columns):\n",
      " #   Column  Non-Null Count  Dtype  \n",
      "---  ------  --------------  -----  \n",
      " 0   Medu    386 non-null    float64\n",
      "dtypes: float64(1)\n",
      "memory usage: 3.2 KB\n"
     ]
    },
    {
     "data": {
      "text/plain": "' Данные есть для 386 студентов из 389.\\n    Очистка данных не требуется '"
     },
     "execution_count": 15,
     "metadata": {},
     "output_type": "execute_result"
    }
   ],
   "source": [
    "get_field_info(students_scored, 'Medu')\n",
    "''' Данные есть для 386 студентов из 389.\n",
    "    Очистка данных не требуется '''"
   ],
   "metadata": {
    "collapsed": false,
    "pycharm": {
     "name": "#%%\n"
    }
   }
  },
  {
   "cell_type": "markdown",
   "source": [
    "#### Fedu"
   ],
   "metadata": {
    "collapsed": false
   }
  },
  {
   "cell_type": "code",
   "execution_count": 16,
   "outputs": [
    {
     "name": "stdout",
     "output_type": "stream",
     "text": [
      "\n",
      "Value counts:      Fedu\n",
      "2.0   105\n",
      "3.0    94\n",
      "4.0    88\n",
      "1.0    75\n",
      "0.0     2\n",
      "\n",
      "Unique values: 5\n",
      "\n",
      "Appeared more then 10 times: 4\n",
      "\n",
      "General info:\n",
      "<class 'pandas.core.frame.DataFrame'>\n",
      "RangeIndex: 389 entries, 0 to 388\n",
      "Data columns (total 1 columns):\n",
      " #   Column  Non-Null Count  Dtype  \n",
      "---  ------  --------------  -----  \n",
      " 0   Fedu    364 non-null    float64\n",
      "dtypes: float64(1)\n",
      "memory usage: 3.2 KB\n"
     ]
    },
    {
     "data": {
      "text/plain": "' Данные есть для 364 студентов из 389.\\n    Одна запись содержала неправильный код для типа образования - 40,\\n    колонка очищена от значений выходящих за рамки интервала от 0 до 4'"
     },
     "execution_count": 16,
     "metadata": {},
     "output_type": "execute_result"
    }
   ],
   "source": [
    "students_scored.Fedu = students_scored.Fedu.apply(lambda x: x if 0 <= x <= 4 else None)\n",
    "get_field_info(students_scored, 'Fedu')\n",
    "''' Данные есть для 364 студентов из 389.\n",
    "    Одна запись содержала неправильный код для типа образования - 40,\n",
    "    колонка очищена от значений выходящих за рамки интервала от 0 до 4'''"
   ],
   "metadata": {
    "collapsed": false,
    "pycharm": {
     "name": "#%%\n"
    }
   }
  },
  {
   "cell_type": "markdown",
   "source": [
    "#### Mjob"
   ],
   "metadata": {
    "collapsed": false
   }
  },
  {
   "cell_type": "code",
   "execution_count": 17,
   "outputs": [
    {
     "name": "stdout",
     "output_type": "stream",
     "text": [
      "\n",
      "Value counts:           Mjob\n",
      "other      127\n",
      "services    98\n",
      "at_home     58\n",
      "teacher     55\n",
      "health      32\n",
      "\n",
      "Unique values: 5\n",
      "\n",
      "Appeared more then 10 times: 5\n",
      "\n",
      "General info:\n",
      "<class 'pandas.core.frame.DataFrame'>\n",
      "RangeIndex: 389 entries, 0 to 388\n",
      "Data columns (total 1 columns):\n",
      " #   Column  Non-Null Count  Dtype \n",
      "---  ------  --------------  ----- \n",
      " 0   Mjob    370 non-null    object\n",
      "dtypes: object(1)\n",
      "memory usage: 3.2+ KB\n"
     ]
    },
    {
     "data": {
      "text/plain": "' Данные есть для 370 студентов из 389.\\n    Очистка данных не требуется '"
     },
     "execution_count": 17,
     "metadata": {},
     "output_type": "execute_result"
    }
   ],
   "source": [
    "get_field_info(students_scored, 'Mjob')\n",
    "''' Данные есть для 370 студентов из 389.\n",
    "    Очистка данных не требуется '''"
   ],
   "metadata": {
    "collapsed": false,
    "pycharm": {
     "name": "#%%\n"
    }
   }
  },
  {
   "cell_type": "markdown",
   "source": [
    "#### Fjob"
   ],
   "metadata": {
    "collapsed": false
   }
  },
  {
   "cell_type": "code",
   "execution_count": 18,
   "outputs": [
    {
     "name": "stdout",
     "output_type": "stream",
     "text": [
      "\n",
      "Value counts:           Fjob\n",
      "other      194\n",
      "services    99\n",
      "teacher     29\n",
      "at_home     16\n",
      "health      15\n",
      "\n",
      "Unique values: 5\n",
      "\n",
      "Appeared more then 10 times: 5\n",
      "\n",
      "General info:\n",
      "<class 'pandas.core.frame.DataFrame'>\n",
      "RangeIndex: 389 entries, 0 to 388\n",
      "Data columns (total 1 columns):\n",
      " #   Column  Non-Null Count  Dtype \n",
      "---  ------  --------------  ----- \n",
      " 0   Fjob    353 non-null    object\n",
      "dtypes: object(1)\n",
      "memory usage: 3.2+ KB\n"
     ]
    },
    {
     "data": {
      "text/plain": "' Данные есть для 353 студентов из 389.\\n    Очистка данных не требуется '"
     },
     "execution_count": 18,
     "metadata": {},
     "output_type": "execute_result"
    }
   ],
   "source": [
    "get_field_info(students_scored, 'Fjob')\n",
    "''' Данные есть для 353 студентов из 389.\n",
    "    Очистка данных не требуется '''"
   ],
   "metadata": {
    "collapsed": false,
    "pycharm": {
     "name": "#%%\n"
    }
   }
  },
  {
   "cell_type": "markdown",
   "source": [
    "#### reason"
   ],
   "metadata": {
    "collapsed": false
   }
  },
  {
   "cell_type": "code",
   "execution_count": 19,
   "outputs": [
    {
     "name": "stdout",
     "output_type": "stream",
     "text": [
      "\n",
      "Value counts:             reason\n",
      "course         135\n",
      "reputation     102\n",
      "home           101\n",
      "other           34\n",
      "\n",
      "Unique values: 4\n",
      "\n",
      "Appeared more then 10 times: 4\n",
      "\n",
      "General info:\n",
      "<class 'pandas.core.frame.DataFrame'>\n",
      "RangeIndex: 389 entries, 0 to 388\n",
      "Data columns (total 1 columns):\n",
      " #   Column  Non-Null Count  Dtype \n",
      "---  ------  --------------  ----- \n",
      " 0   reason  372 non-null    object\n",
      "dtypes: object(1)\n",
      "memory usage: 3.2+ KB\n"
     ]
    },
    {
     "data": {
      "text/plain": "' Данные есть для 372 студентов из 389.\\n    Отчистка данных не требуется '"
     },
     "execution_count": 19,
     "metadata": {},
     "output_type": "execute_result"
    }
   ],
   "source": [
    "get_field_info(students_scored, 'reason')\n",
    "''' Данные есть для 372 студентов из 389.\n",
    "    Отчистка данных не требуется '''"
   ],
   "metadata": {
    "collapsed": false,
    "pycharm": {
     "name": "#%%\n"
    }
   }
  },
  {
   "cell_type": "markdown",
   "source": [
    "#### guardian"
   ],
   "metadata": {
    "collapsed": false
   }
  },
  {
   "cell_type": "code",
   "execution_count": 20,
   "outputs": [
    {
     "name": "stdout",
     "output_type": "stream",
     "text": [
      "\n",
      "Value counts:         guardian\n",
      "mother       248\n",
      "father        86\n",
      "other         24\n",
      "\n",
      "Unique values: 3\n",
      "\n",
      "Appeared more then 10 times: 3\n",
      "\n",
      "General info:\n",
      "<class 'pandas.core.frame.DataFrame'>\n",
      "RangeIndex: 389 entries, 0 to 388\n",
      "Data columns (total 1 columns):\n",
      " #   Column    Non-Null Count  Dtype \n",
      "---  ------    --------------  ----- \n",
      " 0   guardian  358 non-null    object\n",
      "dtypes: object(1)\n",
      "memory usage: 3.2+ KB\n"
     ]
    },
    {
     "data": {
      "text/plain": "' Данные есть для 358 студентов из 389.\\n    Отчистка данных не требуется '"
     },
     "execution_count": 20,
     "metadata": {},
     "output_type": "execute_result"
    }
   ],
   "source": [
    "get_field_info(students_scored, 'guardian')\n",
    "''' Данные есть для 358 студентов из 389.\n",
    "    Отчистка данных не требуется '''"
   ],
   "metadata": {
    "collapsed": false,
    "pycharm": {
     "name": "#%%\n"
    }
   }
  },
  {
   "cell_type": "markdown",
   "source": [
    "#### traveltime"
   ],
   "metadata": {
    "collapsed": false
   }
  },
  {
   "cell_type": "code",
   "execution_count": 41,
   "outputs": [
    {
     "name": "stdout",
     "output_type": "stream",
     "text": [
      "\n",
      "Value counts:      traveltime\n",
      "1.0         239\n",
      "2.0          94\n",
      "3.0          21\n",
      "4.0           7\n",
      "\n",
      "Unique values: 4\n",
      "\n",
      "Appeared more then 10 times: 3\n",
      "\n",
      "General info:\n",
      "<class 'pandas.core.frame.DataFrame'>\n",
      "RangeIndex: 389 entries, 0 to 388\n",
      "Data columns (total 1 columns):\n",
      " #   Column      Non-Null Count  Dtype  \n",
      "---  ------      --------------  -----  \n",
      " 0   traveltime  361 non-null    float64\n",
      "dtypes: float64(1)\n",
      "memory usage: 3.2 KB\n",
      "Медиана: 1.0, 25-й перцентиль: 1.0, 75-й перцентиль: 2.0, IQR: 1.0,  \n",
      "Границы выбросов: [-0.5, 3.5].\n"
     ]
    },
    {
     "data": {
      "text/plain": "' Данные есть для 361 студентов из 389.\\n    Отчистка данных не требуется\\n    В данном случае я не считаю значения выходящие за границы выбросов - выбросами, поскольку:\\n    а. данные сгруппированы\\n    б. я не вижу чтобы они были получены в результате ошибки\\n    в. данные могут быть важны для анализа'"
     },
     "execution_count": 41,
     "metadata": {},
     "output_type": "execute_result"
    },
    {
     "data": {
      "text/plain": "<Figure size 432x288 with 1 Axes>",
      "image/png": "[encoded data removed]"
     },
     "metadata": {
      "needs_background": "light"
     },
     "output_type": "display_data"
    }
   ],
   "source": [
    "get_field_info(students_scored, 'traveltime')\n",
    "get_stat_values(students_scored, 'traveltime', draw=True, bins=4)\n",
    "''' Данные есть для 361 студентов из 389.\n",
    "    Отчистка данных не требуется\n",
    "    В данном случае я не считаю значения выходящие за границы выбросов - выбросами, поскольку:\n",
    "    а. данные сгруппированы\n",
    "    б. я не вижу чтобы они были получены в результате ошибки\n",
    "    в. данные могут быть важны для анализа'''"
   ],
   "metadata": {
    "collapsed": false,
    "pycharm": {
     "name": "#%%\n"
    }
   }
  },
  {
   "cell_type": "markdown",
   "source": [
    "#### studytime"
   ],
   "metadata": {
    "collapsed": false
   }
  },
  {
   "cell_type": "code",
   "execution_count": 42,
   "outputs": [
    {
     "name": "stdout",
     "output_type": "stream",
     "text": [
      "\n",
      "Value counts:      studytime\n",
      "2.0        189\n",
      "1.0        103\n",
      "3.0         63\n",
      "4.0         27\n",
      "\n",
      "Unique values: 4\n",
      "\n",
      "Appeared more then 10 times: 4\n",
      "\n",
      "General info:\n",
      "<class 'pandas.core.frame.DataFrame'>\n",
      "RangeIndex: 389 entries, 0 to 388\n",
      "Data columns (total 1 columns):\n",
      " #   Column     Non-Null Count  Dtype  \n",
      "---  ------     --------------  -----  \n",
      " 0   studytime  382 non-null    float64\n",
      "dtypes: float64(1)\n",
      "memory usage: 3.2 KB\n",
      "Медиана: 2.0, 25-й перцентиль: 1.0, 75-й перцентиль: 2.0, IQR: 1.0,  \n",
      "Границы выбросов: [-0.5, 3.5].\n"
     ]
    },
    {
     "data": {
      "text/plain": "' Данные есть для 382 студентов из 389.\\n    Отчистка данных не требуется\\n    В данном случае я не считаю значения выходящие за границы выбросов - выбросами, поскольку:\\n    а. данные сгруппированы\\n    б. я не вижу чтобы они были получены в результате ошибки\\n    в. данные могут быть важны для анализа'"
     },
     "execution_count": 42,
     "metadata": {},
     "output_type": "execute_result"
    },
    {
     "data": {
      "text/plain": "<Figure size 432x288 with 1 Axes>",
      "image/png": "[encoded data removed]"
     },
     "metadata": {
      "needs_background": "light"
     },
     "output_type": "display_data"
    }
   ],
   "source": [
    "get_field_info(students_scored, 'studytime')\n",
    "get_stat_values(students_scored, 'studytime', draw=True, bins=4)\n",
    "\n",
    "''' Данные есть для 382 студентов из 389.\n",
    "    Отчистка данных не требуется\n",
    "    В данном случае я не считаю значения выходящие за границы выбросов - выбросами, поскольку:\n",
    "    а. данные сгруппированы\n",
    "    б. я не вижу чтобы они были получены в результате ошибки\n",
    "    в. данные могут быть важны для анализа'''"
   ],
   "metadata": {
    "collapsed": false,
    "pycharm": {
     "name": "#%%\n"
    }
   }
  },
  {
   "cell_type": "markdown",
   "source": [
    "#### failures"
   ],
   "metadata": {
    "collapsed": false
   }
  },
  {
   "cell_type": "code",
   "execution_count": 43,
   "outputs": [
    {
     "name": "stdout",
     "output_type": "stream",
     "text": [
      "\n",
      "Value counts:      failures\n",
      "0.0       290\n",
      "1.0        48\n",
      "2.0        15\n",
      "3.0        14\n",
      "\n",
      "Unique values: 4\n",
      "\n",
      "Appeared more then 10 times: 4\n",
      "\n",
      "General info:\n",
      "<class 'pandas.core.frame.DataFrame'>\n",
      "RangeIndex: 389 entries, 0 to 388\n",
      "Data columns (total 1 columns):\n",
      " #   Column    Non-Null Count  Dtype  \n",
      "---  ------    --------------  -----  \n",
      " 0   failures  367 non-null    float64\n",
      "dtypes: float64(1)\n",
      "memory usage: 3.2 KB\n",
      "Медиана: 0.0, 25-й перцентиль: 0.0, 75-й перцентиль: 0.0, IQR: 0.0,  \n",
      "Границы выбросов: [0.0, 0.0].\n"
     ]
    },
    {
     "data": {
      "text/plain": "' Данные есть для 367 студентов из 389.\\n    Отчистка данных не требуется\\n    В данном случае я не считаю значения выходящие за границы выбросов - выбросами, поскольку:\\n    а. данные сгруппированы\\n    б. я не вижу чтобы они были получены в результате ошибки\\n    в. данные могут быть важны для анализа'"
     },
     "execution_count": 43,
     "metadata": {},
     "output_type": "execute_result"
    },
    {
     "data": {
      "text/plain": "<Figure size 432x288 with 1 Axes>",
      "image/png": "[encoded data removed]"
     },
     "metadata": {
      "needs_background": "light"
     },
     "output_type": "display_data"
    }
   ],
   "source": [
    "get_field_info(students_scored, 'failures')\n",
    "get_stat_values(students_scored, 'failures', draw=True, bins=4)\n",
    "\n",
    "''' Данные есть для 367 студентов из 389.\n",
    "    Отчистка данных не требуется\n",
    "    В данном случае я не считаю значения выходящие за границы выбросов - выбросами, поскольку:\n",
    "    а. данные сгруппированы\n",
    "    б. я не вижу чтобы они были получены в результате ошибки\n",
    "    в. данные могут быть важны для анализа'''"
   ],
   "metadata": {
    "collapsed": false,
    "pycharm": {
     "name": "#%%\n"
    }
   }
  },
  {
   "cell_type": "markdown",
   "source": [
    "#### schoolsup"
   ],
   "metadata": {
    "collapsed": false
   }
  },
  {
   "cell_type": "code",
   "execution_count": 24,
   "outputs": [
    {
     "name": "stdout",
     "output_type": "stream",
     "text": [
      "\n",
      "Value counts:      schoolsup\n",
      "no         331\n",
      "yes         49\n",
      "\n",
      "Unique values: 2\n",
      "\n",
      "Appeared more then 10 times: 2\n",
      "\n",
      "General info:\n",
      "<class 'pandas.core.frame.DataFrame'>\n",
      "RangeIndex: 389 entries, 0 to 388\n",
      "Data columns (total 1 columns):\n",
      " #   Column     Non-Null Count  Dtype \n",
      "---  ------     --------------  ----- \n",
      " 0   schoolsup  380 non-null    object\n",
      "dtypes: object(1)\n",
      "memory usage: 3.2+ KB\n"
     ]
    },
    {
     "data": {
      "text/plain": "' Данные есть для 380 студентов из 389.\\n    Отчистка данных не требуется '"
     },
     "execution_count": 24,
     "metadata": {},
     "output_type": "execute_result"
    }
   ],
   "source": [
    "get_field_info(students_scored, 'schoolsup')\n",
    "''' Данные есть для 380 студентов из 389.\n",
    "    Отчистка данных не требуется '''"
   ],
   "metadata": {
    "collapsed": false,
    "pycharm": {
     "name": "#%%\n"
    }
   }
  },
  {
   "cell_type": "markdown",
   "source": [
    "#### famsup"
   ],
   "metadata": {
    "collapsed": false
   }
  },
  {
   "cell_type": "code",
   "execution_count": 25,
   "outputs": [
    {
     "name": "stdout",
     "output_type": "stream",
     "text": [
      "\n",
      "Value counts:      famsup\n",
      "yes     216\n",
      "no      135\n",
      "\n",
      "Unique values: 2\n",
      "\n",
      "Appeared more then 10 times: 2\n",
      "\n",
      "General info:\n",
      "<class 'pandas.core.frame.DataFrame'>\n",
      "RangeIndex: 389 entries, 0 to 388\n",
      "Data columns (total 1 columns):\n",
      " #   Column  Non-Null Count  Dtype \n",
      "---  ------  --------------  ----- \n",
      " 0   famsup  351 non-null    object\n",
      "dtypes: object(1)\n",
      "memory usage: 3.2+ KB\n"
     ]
    },
    {
     "data": {
      "text/plain": "' Данные есть для 351 студентов из 389.\\n    Отчистка данных не требуется '"
     },
     "execution_count": 25,
     "metadata": {},
     "output_type": "execute_result"
    }
   ],
   "source": [
    "get_field_info(students_scored, 'famsup')\n",
    "''' Данные есть для 351 студентов из 389.\n",
    "    Отчистка данных не требуется '''"
   ],
   "metadata": {
    "collapsed": false,
    "pycharm": {
     "name": "#%%\n"
    }
   }
  },
  {
   "cell_type": "markdown",
   "source": [
    "#### paid"
   ],
   "metadata": {
    "collapsed": false
   }
  },
  {
   "cell_type": "code",
   "execution_count": 26,
   "outputs": [
    {
     "name": "stdout",
     "output_type": "stream",
     "text": [
      "\n",
      "Value counts:      paid\n",
      "no    197\n",
      "yes   153\n",
      "\n",
      "Unique values: 2\n",
      "\n",
      "Appeared more then 10 times: 2\n",
      "\n",
      "General info:\n",
      "<class 'pandas.core.frame.DataFrame'>\n",
      "RangeIndex: 389 entries, 0 to 388\n",
      "Data columns (total 1 columns):\n",
      " #   Column  Non-Null Count  Dtype \n",
      "---  ------  --------------  ----- \n",
      " 0   paid    350 non-null    object\n",
      "dtypes: object(1)\n",
      "memory usage: 3.2+ KB\n"
     ]
    },
    {
     "data": {
      "text/plain": "' Данные есть для 350 студентов из 389.\\n    Отчистка данных не требуется '"
     },
     "execution_count": 26,
     "metadata": {},
     "output_type": "execute_result"
    }
   ],
   "source": [
    "get_field_info(students_scored, 'paid')\n",
    "''' Данные есть для 350 студентов из 389.\n",
    "    Отчистка данных не требуется '''"
   ],
   "metadata": {
    "collapsed": false,
    "pycharm": {
     "name": "#%%\n"
    }
   }
  },
  {
   "cell_type": "markdown",
   "source": [
    "#### activities"
   ],
   "metadata": {
    "collapsed": false
   }
  },
  {
   "cell_type": "code",
   "execution_count": 27,
   "outputs": [
    {
     "name": "stdout",
     "output_type": "stream",
     "text": [
      "\n",
      "Value counts:      activities\n",
      "yes         192\n",
      "no          183\n",
      "\n",
      "Unique values: 2\n",
      "\n",
      "Appeared more then 10 times: 2\n",
      "\n",
      "General info:\n",
      "<class 'pandas.core.frame.DataFrame'>\n",
      "RangeIndex: 389 entries, 0 to 388\n",
      "Data columns (total 1 columns):\n",
      " #   Column      Non-Null Count  Dtype \n",
      "---  ------      --------------  ----- \n",
      " 0   activities  375 non-null    object\n",
      "dtypes: object(1)\n",
      "memory usage: 3.2+ KB\n"
     ]
    },
    {
     "data": {
      "text/plain": "' Данные есть для 375 студентов из 389.\\n    Отчистка данных не требуется '"
     },
     "execution_count": 27,
     "metadata": {},
     "output_type": "execute_result"
    }
   ],
   "source": [
    "get_field_info(students_scored, 'activities')\n",
    "''' Данные есть для 375 студентов из 389.\n",
    "    Отчистка данных не требуется '''"
   ],
   "metadata": {
    "collapsed": false,
    "pycharm": {
     "name": "#%%\n"
    }
   }
  },
  {
   "cell_type": "markdown",
   "source": [
    "#### nursery"
   ],
   "metadata": {
    "collapsed": false
   }
  },
  {
   "cell_type": "code",
   "execution_count": 28,
   "outputs": [
    {
     "name": "stdout",
     "output_type": "stream",
     "text": [
      "\n",
      "Value counts:      nursery\n",
      "yes      297\n",
      "no        77\n",
      "\n",
      "Unique values: 2\n",
      "\n",
      "Appeared more then 10 times: 2\n",
      "\n",
      "General info:\n",
      "<class 'pandas.core.frame.DataFrame'>\n",
      "RangeIndex: 389 entries, 0 to 388\n",
      "Data columns (total 1 columns):\n",
      " #   Column   Non-Null Count  Dtype \n",
      "---  ------   --------------  ----- \n",
      " 0   nursery  374 non-null    object\n",
      "dtypes: object(1)\n",
      "memory usage: 3.2+ KB\n"
     ]
    },
    {
     "data": {
      "text/plain": "' Данные есть для 374 студентов из 389.\\n    Отчистка данных не требуется '"
     },
     "execution_count": 28,
     "metadata": {},
     "output_type": "execute_result"
    }
   ],
   "source": [
    "get_field_info(students_scored, 'nursery')\n",
    "''' Данные есть для 374 студентов из 389.\n",
    "    Отчистка данных не требуется '''"
   ],
   "metadata": {
    "collapsed": false,
    "pycharm": {
     "name": "#%%\n"
    }
   }
  },
  {
   "cell_type": "markdown",
   "source": [
    "#### higher"
   ],
   "metadata": {
    "collapsed": false
   }
  },
  {
   "cell_type": "code",
   "execution_count": 29,
   "outputs": [
    {
     "name": "stdout",
     "output_type": "stream",
     "text": [
      "\n",
      "Value counts:      higher\n",
      "yes     350\n",
      "no       19\n",
      "\n",
      "Unique values: 2\n",
      "\n",
      "Appeared more then 10 times: 2\n",
      "\n",
      "General info:\n",
      "<class 'pandas.core.frame.DataFrame'>\n",
      "RangeIndex: 389 entries, 0 to 388\n",
      "Data columns (total 1 columns):\n",
      " #   Column  Non-Null Count  Dtype \n",
      "---  ------  --------------  ----- \n",
      " 0   higher  369 non-null    object\n",
      "dtypes: object(1)\n",
      "memory usage: 3.2+ KB\n"
     ]
    },
    {
     "data": {
      "text/plain": "' Данные есть для 369 студентов из 389.\\n    Отчистка данных не требуется '"
     },
     "execution_count": 29,
     "metadata": {},
     "output_type": "execute_result"
    }
   ],
   "source": [
    "get_field_info(students_scored, 'higher')\n",
    "''' Данные есть для 369 студентов из 389.\n",
    "    Отчистка данных не требуется '''"
   ],
   "metadata": {
    "collapsed": false,
    "pycharm": {
     "name": "#%%\n"
    }
   }
  },
  {
   "cell_type": "markdown",
   "source": [
    "#### internet"
   ],
   "metadata": {
    "collapsed": false
   }
  },
  {
   "cell_type": "code",
   "execution_count": 30,
   "outputs": [
    {
     "name": "stdout",
     "output_type": "stream",
     "text": [
      "\n",
      "Value counts:      internet\n",
      "yes       300\n",
      "no         55\n",
      "\n",
      "Unique values: 2\n",
      "\n",
      "Appeared more then 10 times: 2\n",
      "\n",
      "General info:\n",
      "<class 'pandas.core.frame.DataFrame'>\n",
      "RangeIndex: 389 entries, 0 to 388\n",
      "Data columns (total 1 columns):\n",
      " #   Column    Non-Null Count  Dtype \n",
      "---  ------    --------------  ----- \n",
      " 0   internet  355 non-null    object\n",
      "dtypes: object(1)\n",
      "memory usage: 3.2+ KB\n"
     ]
    },
    {
     "data": {
      "text/plain": "' Данные есть для 355 студентов из 389.\\n    Отчистка данных не требуется '"
     },
     "execution_count": 30,
     "metadata": {},
     "output_type": "execute_result"
    }
   ],
   "source": [
    "get_field_info(students_scored, 'internet')\n",
    "''' Данные есть для 355 студентов из 389.\n",
    "    Отчистка данных не требуется '''"
   ],
   "metadata": {
    "collapsed": false,
    "pycharm": {
     "name": "#%%\n"
    }
   }
  },
  {
   "cell_type": "markdown",
   "source": [
    "#### romantic"
   ],
   "metadata": {
    "collapsed": false
   }
  },
  {
   "cell_type": "code",
   "execution_count": 31,
   "outputs": [
    {
     "name": "stdout",
     "output_type": "stream",
     "text": [
      "\n",
      "Value counts:      romantic\n",
      "no        235\n",
      "yes       123\n",
      "\n",
      "Unique values: 2\n",
      "\n",
      "Appeared more then 10 times: 2\n",
      "\n",
      "General info:\n",
      "<class 'pandas.core.frame.DataFrame'>\n",
      "RangeIndex: 389 entries, 0 to 388\n",
      "Data columns (total 1 columns):\n",
      " #   Column    Non-Null Count  Dtype \n",
      "---  ------    --------------  ----- \n",
      " 0   romantic  358 non-null    object\n",
      "dtypes: object(1)\n",
      "memory usage: 3.2+ KB\n"
     ]
    },
    {
     "data": {
      "text/plain": "' Данные есть для 358 студентов из 389.\\n    Отчистка данных не требуется '"
     },
     "execution_count": 31,
     "metadata": {},
     "output_type": "execute_result"
    }
   ],
   "source": [
    "get_field_info(students_scored, 'romantic')\n",
    "''' Данные есть для 358 студентов из 389.\n",
    "    Отчистка данных не требуется '''"
   ],
   "metadata": {
    "collapsed": false,
    "pycharm": {
     "name": "#%%\n"
    }
   }
  },
  {
   "cell_type": "markdown",
   "source": [
    "#### famrel"
   ],
   "metadata": {
    "collapsed": false
   }
  },
  {
   "cell_type": "code",
   "execution_count": 49,
   "outputs": [
    {
     "name": "stdout",
     "output_type": "stream",
     "text": [
      "\n",
      "Value counts:      famrel\n",
      "2.0     105\n",
      "3.0      94\n",
      "4.0      88\n",
      "1.0      77\n",
      "\n",
      "Unique values: 4\n",
      "\n",
      "Appeared more then 10 times: 4\n",
      "\n",
      "General info:\n",
      "<class 'pandas.core.frame.DataFrame'>\n",
      "RangeIndex: 389 entries, 0 to 388\n",
      "Data columns (total 1 columns):\n",
      " #   Column  Non-Null Count  Dtype  \n",
      "---  ------  --------------  -----  \n",
      " 0   famrel  364 non-null    float64\n",
      "dtypes: float64(1)\n",
      "memory usage: 3.2 KB\n",
      "Медиана: 2.5, 25-й перцентиль: 2.0, 75-й перцентиль: 3.0, IQR: 1.0,  \n",
      "Границы выбросов: [0.5, 4.5].\n"
     ]
    },
    {
     "data": {
      "text/plain": "' Данные есть для 364 студентов из 389.\\n    Одно из значений было как -1, решено приводить нулвые и отрицательные значения к 1,\\n    поскольку предполагается, что подразумевались крайне плохие отношения\\n    Примечательно, что никто из студентов не оценил внутрисемейные отношения как \"5 - очень хорошие\"\\n    Распредение нормалньое, выбросов нет.'"
     },
     "execution_count": 49,
     "metadata": {},
     "output_type": "execute_result"
    },
    {
     "data": {
      "text/plain": "<Figure size 432x288 with 1 Axes>",
      "image/png": "[encoded data removed]"
     },
     "metadata": {
      "needs_background": "light"
     },
     "output_type": "display_data"
    }
   ],
   "source": [
    "students_scored.famrel = students_scored.Fedu.apply(lambda x: x if 1 <= x <= 5 else 1 if x < 1 else None)\n",
    "get_field_info(students_scored, 'famrel')\n",
    "get_stat_values(students_scored, 'famrel', draw=True, bins=4)\n",
    "\n",
    "''' Данные есть для 364 студентов из 389.\n",
    "    Одно из значений было как -1, решено приводить нулвые и отрицательные значения к 1,\n",
    "    поскольку предполагается, что подразумевались крайне плохие отношения\n",
    "    Примечательно, что никто из студентов не оценил внутрисемейные отношения как \"5 - очень хорошие\"\n",
    "    Распредение нормалньое, выбросов нет.'''"
   ],
   "metadata": {
    "collapsed": false,
    "pycharm": {
     "name": "#%%\n"
    }
   }
  },
  {
   "cell_type": "markdown",
   "source": [
    "#### freetime"
   ],
   "metadata": {
    "collapsed": false
   }
  },
  {
   "cell_type": "code",
   "execution_count": 46,
   "outputs": [
    {
     "name": "stdout",
     "output_type": "stream",
     "text": [
      "\n",
      "Value counts:      freetime\n",
      "3.0       152\n",
      "4.0       110\n",
      "2.0        63\n",
      "5.0        37\n",
      "1.0        18\n",
      "\n",
      "Unique values: 5\n",
      "\n",
      "Appeared more then 10 times: 5\n",
      "\n",
      "General info:\n",
      "<class 'pandas.core.frame.DataFrame'>\n",
      "RangeIndex: 389 entries, 0 to 388\n",
      "Data columns (total 1 columns):\n",
      " #   Column    Non-Null Count  Dtype  \n",
      "---  ------    --------------  -----  \n",
      " 0   freetime  380 non-null    float64\n",
      "dtypes: float64(1)\n",
      "memory usage: 3.2 KB\n",
      "Медиана: 3.0, 25-й перцентиль: 3.0, 75-й перцентиль: 4.0, IQR: 1.0,  \n",
      "Границы выбросов: [1.5, 5.5].\n"
     ]
    },
    {
     "data": {
      "text/plain": "' Данные есть для 380 студентов из 389.\\n    Отчистка данных не требуется\\n    В данном случае я не считаю значения выходящие за границы выбросов - выбросами, поскольку:\\n    а. данные сгруппированы\\n    б. я не вижу чтобы они были получены в результате ошибки\\n    в. данные могут быть важны для анализа'"
     },
     "execution_count": 46,
     "metadata": {},
     "output_type": "execute_result"
    },
    {
     "data": {
      "text/plain": "<Figure size 432x288 with 1 Axes>",
      "image/png": "[encoded data removed]"
     },
     "metadata": {
      "needs_background": "light"
     },
     "output_type": "display_data"
    }
   ],
   "source": [
    "get_field_info(students_scored, 'freetime')\n",
    "get_stat_values(students_scored, 'freetime', draw=True, bins=5)\n",
    "''' Данные есть для 380 студентов из 389.\n",
    "    Отчистка данных не требуется\n",
    "    В данном случае я не считаю значения выходящие за границы выбросов - выбросами, поскольку:\n",
    "    а. данные сгруппированы\n",
    "    б. я не вижу чтобы они были получены в результате ошибки\n",
    "    в. данные могут быть важны для анализа'''"
   ],
   "metadata": {
    "collapsed": false,
    "pycharm": {
     "name": "#%%\n"
    }
   }
  },
  {
   "cell_type": "markdown",
   "source": [
    "#### goout"
   ],
   "metadata": {
    "collapsed": false
   }
  },
  {
   "cell_type": "code",
   "execution_count": 50,
   "outputs": [
    {
     "name": "stdout",
     "output_type": "stream",
     "text": [
      "\n",
      "Value counts:      goout\n",
      "3.0    126\n",
      "2.0    101\n",
      "4.0     81\n",
      "5.0     51\n",
      "1.0     23\n",
      "\n",
      "Unique values: 5\n",
      "\n",
      "Appeared more then 10 times: 5\n",
      "\n",
      "General info:\n",
      "<class 'pandas.core.frame.DataFrame'>\n",
      "RangeIndex: 389 entries, 0 to 388\n",
      "Data columns (total 1 columns):\n",
      " #   Column  Non-Null Count  Dtype  \n",
      "---  ------  --------------  -----  \n",
      " 0   goout   382 non-null    float64\n",
      "dtypes: float64(1)\n",
      "memory usage: 3.2 KB\n",
      "Медиана: 3.0, 25-й перцентиль: 2.0, 75-й перцентиль: 4.0, IQR: 2.0,  \n",
      "Границы выбросов: [-1.0, 7.0].\n"
     ]
    },
    {
     "data": {
      "text/plain": "' Данные есть для 382 студентов из 389.\\n    Отчистка данных не требуется\\n    В данном случае я не считаю значения выходящие за границы выбросов - выбросами, поскольку:\\n    а. данные сгруппированы\\n    б. я не вижу чтобы они были получены в результате ошибки\\n    в. данные могут быть важны для анализа '"
     },
     "execution_count": 50,
     "metadata": {},
     "output_type": "execute_result"
    },
    {
     "data": {
      "text/plain": "<Figure size 432x288 with 1 Axes>",
      "image/png": "[encoded data removed]"
     },
     "metadata": {
      "needs_background": "light"
     },
     "output_type": "display_data"
    }
   ],
   "source": [
    "get_field_info(students_scored, 'goout')\n",
    "get_stat_values(students_scored, 'goout', draw=True, bins=5)\n",
    "\n",
    "''' Данные есть для 382 студентов из 389.\n",
    "    Отчистка данных не требуется\n",
    "    Распредение нормальное, выбросов нет '''"
   ],
   "metadata": {
    "collapsed": false,
    "pycharm": {
     "name": "#%%\n"
    }
   }
  },
  {
   "cell_type": "markdown",
   "source": [
    "#### health"
   ],
   "metadata": {
    "collapsed": false
   }
  },
  {
   "cell_type": "code",
   "execution_count": 52,
   "outputs": [
    {
     "name": "stdout",
     "output_type": "stream",
     "text": [
      "\n",
      "Value counts:      health\n",
      "5.0     137\n",
      "3.0      88\n",
      "4.0      60\n",
      "1.0      47\n",
      "2.0      42\n",
      "\n",
      "Unique values: 5\n",
      "\n",
      "Appeared more then 10 times: 5\n",
      "\n",
      "General info:\n",
      "<class 'pandas.core.frame.DataFrame'>\n",
      "RangeIndex: 389 entries, 0 to 388\n",
      "Data columns (total 1 columns):\n",
      " #   Column  Non-Null Count  Dtype  \n",
      "---  ------  --------------  -----  \n",
      " 0   health  374 non-null    float64\n",
      "dtypes: float64(1)\n",
      "memory usage: 3.2 KB\n",
      "Медиана: 4.0, 25-й перцентиль: 3.0, 75-й перцентиль: 5.0, IQR: 2.0,  \n",
      "Границы выбросов: [0.0, 8.0].\n"
     ]
    },
    {
     "data": {
      "text/plain": "' Данные есть для 374 студентов из 389.\\n    Отчистка данных не требуется\\n    В данном случае я не считаю значения выходящие за границы выбросов - выбросами, поскольку:\\n    а. данные сгруппированы\\n    б. я не вижу чтобы они были получены в результате ошибки\\n    в. данные могут быть важны для анализа '"
     },
     "execution_count": 52,
     "metadata": {},
     "output_type": "execute_result"
    },
    {
     "data": {
      "text/plain": "<Figure size 432x288 with 1 Axes>",
      "image/png": "[encoded data removed]"
     },
     "metadata": {
      "needs_background": "light"
     },
     "output_type": "display_data"
    }
   ],
   "source": [
    "get_field_info(students_scored, 'health')\n",
    "get_stat_values(students_scored, 'health', draw=True, bins=5)\n",
    "''' Данные есть для 374 студентов из 389.\n",
    "    Отчистка данных не требуется\n",
    "    Распределение со смещением вправо, выбросов нет. '''"
   ],
   "metadata": {
    "collapsed": false,
    "pycharm": {
     "name": "#%%\n"
    }
   }
  },
  {
   "cell_type": "markdown",
   "source": [
    "#### absences"
   ],
   "metadata": {
    "collapsed": false
   }
  },
  {
   "cell_type": "code",
   "execution_count": 36,
   "outputs": [
    {
     "name": "stdout",
     "output_type": "stream",
     "text": [
      "\n",
      "Value counts:        absences\n",
      "0.0         110\n",
      "2.0          60\n",
      "4.0          52\n",
      "6.0          30\n",
      "8.0          20\n",
      "10.0         17\n",
      "12.0         12\n",
      "14.0         12\n",
      "3.0           7\n",
      "16.0          7\n",
      "7.0           6\n",
      "5.0           5\n",
      "18.0          5\n",
      "20.0          4\n",
      "22.0          3\n",
      "9.0           3\n",
      "1.0           3\n",
      "15.0          2\n",
      "13.0          2\n",
      "11.0          2\n",
      "25.0          1\n",
      "54.0          1\n",
      "385.0         1\n",
      "26.0          1\n",
      "56.0          1\n",
      "24.0          1\n",
      "212.0         1\n",
      "21.0          1\n",
      "75.0          1\n",
      "30.0          1\n",
      "19.0          1\n",
      "38.0          1\n",
      "40.0          1\n",
      "23.0          1\n",
      "17.0          1\n",
      "28.0          1\n",
      "\n",
      "Unique values: 36\n",
      "\n",
      "Appeared more then 10 times: 8\n",
      "\n",
      "General info:\n",
      "<class 'pandas.core.frame.DataFrame'>\n",
      "RangeIndex: 389 entries, 0 to 388\n",
      "Data columns (total 1 columns):\n",
      " #   Column    Non-Null Count  Dtype  \n",
      "---  ------    --------------  -----  \n",
      " 0   absences  378 non-null    float64\n",
      "dtypes: float64(1)\n",
      "memory usage: 3.2 KB\n",
      "Медиана: 4.0, 25-й перцентиль: 0.0, 75-й перцентиль: 8.0, IQR: 8.0,  \n",
      "Границы выбросов: [-12.0, 20.0].\n",
      "\n",
      "Value counts:    absences_grouped\n",
      "2               122\n",
      "1               110\n",
      "3                64\n",
      "4                61\n",
      "5                32\n",
      "\n",
      "Unique values: 5\n",
      "\n",
      "Appeared more then 10 times: 5\n",
      "\n",
      "General info:\n",
      "<class 'pandas.core.frame.DataFrame'>\n",
      "RangeIndex: 389 entries, 0 to 388\n",
      "Data columns (total 1 columns):\n",
      " #   Column            Non-Null Count  Dtype\n",
      "---  ------            --------------  -----\n",
      " 0   absences_grouped  389 non-null    int64\n",
      "dtypes: int64(1)\n",
      "memory usage: 3.2 KB\n"
     ]
    }
   ],
   "source": [
    "get_field_info(students_scored, 'absences')\n",
    "get_stat_values(students_scored, 'absences')\n",
    "\n",
    "''' Данные есть для 378 студентов из 389.\n",
    "    Отчистка данных не требуется\n",
    "    Есть выбросы, часть студентов имеет значительно большее число прогулов чем остальные.\n",
    "    Я считаю что в данном случае имеет смысл таже сгруппировать данные, как это сделано в предыдущих случаях,\n",
    "    а не считать прогулы количественно, группировка:\n",
    "    1 - x = 0\n",
    "    2 - 0 < x < 5\n",
    "    3 - 5 <= x < 10\n",
    "    4 - 10 <= x < 20\n",
    "    5 - x >= 20\n",
    "    '''\n",
    "\n",
    "students_scored['absences_grouped'] = students_scored['absences']\\\n",
    "    .apply(lambda x: group_absences(x) if type(x) == float else None)\n",
    "\n",
    "get_field_info(students_scored, 'absences_grouped')"
   ],
   "metadata": {
    "collapsed": false,
    "pycharm": {
     "name": "#%%\n"
    }
   }
  },
  {
   "cell_type": "code",
   "execution_count": 37,
   "outputs": [
    {
     "data": {
      "text/plain": "                  absences_grouped  score_group\nabsences_grouped          1.000000    -0.339879\nscore_group              -0.339879     1.000000",
      "text/html": "<div>\n<style scoped>\n    .dataframe tbody tr th:only-of-type {\n        vertical-align: middle;\n    }\n\n    .dataframe tbody tr th {\n        vertical-align: top;\n    }\n\n    .dataframe thead th {\n        text-align: right;\n    }\n</style>\n<table border=\"1\" class=\"dataframe\">\n  <thead>\n    <tr style=\"text-align: right;\">\n      <th></th>\n      <th>absences_grouped</th>\n      <th>score_group</th>\n    </tr>\n  </thead>\n  <tbody>\n    <tr>\n      <th>absences_grouped</th>\n      <td>1.000000</td>\n      <td>-0.339879</td>\n    </tr>\n    <tr>\n      <th>score_group</th>\n      <td>-0.339879</td>\n      <td>1.000000</td>\n    </tr>\n  </tbody>\n</table>\n</div>"
     },
     "execution_count": 37,
     "metadata": {},
     "output_type": "execute_result"
    }
   ],
   "source": [
    "''' существует корреляция между получением нулевого балла и количеством пропусков'''\n",
    "students_scored[['absences_grouped', 'score_group']].corr()"
   ],
   "metadata": {
    "collapsed": false,
    "pycharm": {
     "name": "#%%\n"
    }
   }
  },
  {
   "cell_type": "markdown",
   "source": [
    "### Корреляционный анализ"
   ],
   "metadata": {
    "collapsed": false,
    "pycharm": {
     "name": "#%% md\n"
    }
   }
  },
  {
   "cell_type": "markdown",
   "source": [
    "#### Числовые данные"
   ],
   "metadata": {
    "collapsed": false
   }
  },
  {
   "cell_type": "code",
   "execution_count": 38,
   "outputs": [
    {
     "data": {
      "text/plain": "                     score       age  traveltime  studytime  absences_grouped\nscore             1.000000 -0.131542   -0.075516   0.142055         -0.169161\nage              -0.131542  1.000000    0.095370  -0.011426          0.201097\ntraveltime       -0.075516  0.095370    1.000000  -0.101490         -0.022682\nstudytime         0.142055 -0.011426   -0.101490   1.000000         -0.070098\nabsences_grouped -0.169161  0.201097   -0.022682  -0.070098          1.000000",
      "text/html": "<div>\n<style scoped>\n    .dataframe tbody tr th:only-of-type {\n        vertical-align: middle;\n    }\n\n    .dataframe tbody tr th {\n        vertical-align: top;\n    }\n\n    .dataframe thead th {\n        text-align: right;\n    }\n</style>\n<table border=\"1\" class=\"dataframe\">\n  <thead>\n    <tr style=\"text-align: right;\">\n      <th></th>\n      <th>score</th>\n      <th>age</th>\n      <th>traveltime</th>\n      <th>studytime</th>\n      <th>absences_grouped</th>\n    </tr>\n  </thead>\n  <tbody>\n    <tr>\n      <th>score</th>\n      <td>1.000000</td>\n      <td>-0.131542</td>\n      <td>-0.075516</td>\n      <td>0.142055</td>\n      <td>-0.169161</td>\n    </tr>\n    <tr>\n      <th>age</th>\n      <td>-0.131542</td>\n      <td>1.000000</td>\n      <td>0.095370</td>\n      <td>-0.011426</td>\n      <td>0.201097</td>\n    </tr>\n    <tr>\n      <th>traveltime</th>\n      <td>-0.075516</td>\n      <td>0.095370</td>\n      <td>1.000000</td>\n      <td>-0.101490</td>\n      <td>-0.022682</td>\n    </tr>\n    <tr>\n      <th>studytime</th>\n      <td>0.142055</td>\n      <td>-0.011426</td>\n      <td>-0.101490</td>\n      <td>1.000000</td>\n      <td>-0.070098</td>\n    </tr>\n    <tr>\n      <th>absences_grouped</th>\n      <td>-0.169161</td>\n      <td>0.201097</td>\n      <td>-0.022682</td>\n      <td>-0.070098</td>\n      <td>1.000000</td>\n    </tr>\n  </tbody>\n</table>\n</div>"
     },
     "execution_count": 38,
     "metadata": {},
     "output_type": "execute_result"
    }
   ],
   "source": [
    "''' Я не отнес Medu и Fedu к числовым данным, поскольку считаю что в данном случае корреляция не покажет\n",
    "    реальной картины, среднее специальное техническое образование родителя может помочь больше чем высшее\n",
    "    историческое\n",
    "\n",
    "    Также я не отнес к числовым данным критерии выраженные числом, но отражающиее лишь субъективное восприятие,\n",
    "    такие как famrel или freetime, поскольку внутренняя шакала ощущения у всех разная и для кого-то 4 часа с друьзями\n",
    "    это много а для кого-то мало, что приводит к необъективной группировке времени'''\n",
    "\n",
    "students_scored.query('score_group == 1')\\\n",
    "    [['score', 'age', 'traveltime', 'studytime', 'absences_grouped']].corr()"
   ],
   "metadata": {
    "collapsed": false,
    "pycharm": {
     "name": "#%%\n"
    }
   }
  },
  {
   "cell_type": "markdown",
   "source": [
    "Наблюдается положительная корреляция между временем затраченным на учебу и оценкой.\n",
    "\n",
    "Наблюдается отрецательная корреляция между возрастом и оценкой - молодые студенты сдают экзамены лучше.\n",
    "\n",
    "Наблюдается отрецательная корреляция между количеством пропущенных занятий и оценкой - те кто пропускает чаще,\n",
    "в среднем имеют худшие оценки.\n",
    "\n",
    "Будет убрано из набора данных: traveltime, поскольку её корреляция с оценкой представляется незначительной.\n"
   ],
   "metadata": {
    "collapsed": false,
    "pycharm": {
     "name": "#%% md\n"
    }
   }
  },
  {
   "cell_type": "code",
   "execution_count": 39,
   "outputs": [
    {
     "data": {
      "text/plain": "<Figure size 1008x288 with 1 Axes>",
      "image/png": "[encoded data removed]"
     },
     "metadata": {
      "needs_background": "light"
     },
     "output_type": "display_data"
    },
    {
     "data": {
      "text/plain": "<Figure size 1008x288 with 1 Axes>",
      "image/png": "[encoded data removed]"
     },
     "metadata": {
      "needs_background": "light"
     },
     "output_type": "display_data"
    },
    {
     "data": {
      "text/plain": "<Figure size 1008x288 with 1 Axes>",
      "image/png": "[encoded data removed]"
     },
     "metadata": {
      "needs_background": "light"
     },
     "output_type": "display_data"
    },
    {
     "data": {
      "text/plain": "<Figure size 1008x288 with 1 Axes>",
      "image/png": "[encoded data removed]"
     },
     "metadata": {
      "needs_background": "light"
     },
     "output_type": "display_data"
    },
    {
     "data": {
      "text/plain": "<Figure size 1008x288 with 1 Axes>",
      "image/png": "[encoded data removed]"
     },
     "metadata": {
      "needs_background": "light"
     },
     "output_type": "display_data"
    },
    {
     "data": {
      "text/plain": "<Figure size 1008x288 with 1 Axes>",
      "image/png": "[encoded data removed]"
     },
     "metadata": {
      "needs_background": "light"
     },
     "output_type": "display_data"
    },
    {
     "data": {
      "text/plain": "<Figure size 1008x288 with 1 Axes>",
      "image/png": "[encoded data removed]"
     },
     "metadata": {
      "needs_background": "light"
     },
     "output_type": "display_data"
    },
    {
     "data": {
      "text/plain": "<Figure size 1008x288 with 1 Axes>",
      "image/png": "[encoded data removed]"
     },
     "metadata": {
      "needs_background": "light"
     },
     "output_type": "display_data"
    },
    {
     "data": {
      "text/plain": "<Figure size 1008x288 with 1 Axes>",
      "image/png": "[encoded data removed]"
     },
     "metadata": {
      "needs_background": "light"
     },
     "output_type": "display_data"
    },
    {
     "data": {
      "text/plain": "<Figure size 1008x288 with 1 Axes>",
      "image/png": "[encoded data removed]"
     },
     "metadata": {
      "needs_background": "light"
     },
     "output_type": "display_data"
    },
    {
     "data": {
      "text/plain": "<Figure size 1008x288 with 1 Axes>",
      "image/png": "[encoded data removed]"
     },
     "metadata": {
      "needs_background": "light"
     },
     "output_type": "display_data"
    },
    {
     "data": {
      "text/plain": "<Figure size 1008x288 with 1 Axes>",
      "image/png": "[encoded data removed]"
     },
     "metadata": {
      "needs_background": "light"
     },
     "output_type": "display_data"
    },
    {
     "data": {
      "text/plain": "<Figure size 1008x288 with 1 Axes>",
      "image/png": "[encoded data removed]"
     },
     "metadata": {
      "needs_background": "light"
     },
     "output_type": "display_data"
    },
    {
     "data": {
      "text/plain": "<Figure size 1008x288 with 1 Axes>",
      "image/png": "[encoded data removed]"
     },
     "metadata": {
      "needs_background": "light"
     },
     "output_type": "display_data"
    },
    {
     "data": {
      "text/plain": "<Figure size 1008x288 with 1 Axes>",
      "image/png": "[encoded data removed]"
     },
     "metadata": {
      "needs_background": "light"
     },
     "output_type": "display_data"
    },
    {
     "data": {
      "text/plain": "<Figure size 1008x288 with 1 Axes>",
      "image/png": "[encoded data removed]"
     },
     "metadata": {
      "needs_background": "light"
     },
     "output_type": "display_data"
    },
    {
     "data": {
      "text/plain": "<Figure size 1008x288 with 1 Axes>",
      "image/png": "[encoded data removed]"
     },
     "metadata": {
      "needs_background": "light"
     },
     "output_type": "display_data"
    },
    {
     "data": {
      "text/plain": "<Figure size 1008x288 with 1 Axes>",
      "image/png": "[encoded data removed]"
     },
     "metadata": {
      "needs_background": "light"
     },
     "output_type": "display_data"
    },
    {
     "data": {
      "text/plain": "<Figure size 1008x288 with 1 Axes>",
      "image/png": "[encoded data removed]"
     },
     "metadata": {
      "needs_background": "light"
     },
     "output_type": "display_data"
    },
    {
     "data": {
      "text/plain": "<Figure size 1008x288 with 1 Axes>",
      "image/png": "[encoded data removed]"
     },
     "metadata": {
      "needs_background": "light"
     },
     "output_type": "display_data"
    },
    {
     "data": {
      "text/plain": "<Figure size 1008x288 with 1 Axes>",
      "image/png": "[encoded data removed]"
     },
     "metadata": {
      "needs_background": "light"
     },
     "output_type": "display_data"
    },
    {
     "data": {
      "text/plain": "<Figure size 1008x288 with 1 Axes>",
      "image/png": "[encoded data removed]"
     },
     "metadata": {
      "needs_background": "light"
     },
     "output_type": "display_data"
    },
    {
     "data": {
      "text/plain": "<Figure size 1008x288 with 1 Axes>",
      "image/png": "[encoded data removed]"
     },
     "metadata": {
      "needs_background": "light"
     },
     "output_type": "display_data"
    },
    {
     "data": {
      "text/plain": "<Figure size 1008x288 with 1 Axes>",
      "image/png": "[encoded data removed]"
     },
     "metadata": {
      "needs_background": "light"
     },
     "output_type": "display_data"
    },
    {
     "name": "stdout",
     "output_type": "stream",
     "text": [
      "Найдены статистически значимые различия для колонки  address\n",
      "Найдены статистически значимые различия для колонки  Medu\n",
      "Найдены статистически значимые различия для колонки  Fedu\n",
      "Найдены статистически значимые различия для колонки  Mjob\n",
      "Найдены статистически значимые различия для колонки  Fjob\n",
      "Найдены статистически значимые различия для колонки  failures\n",
      "Найдены статистически значимые различия для колонки  schoolsup\n",
      "Найдены статистически значимые различия для колонки  famrel\n",
      "Найдены статистически значимые различия для колонки  goout\n"
     ]
    }
   ],
   "source": [
    "for column in ['school', 'sex', 'address', 'famsize', 'Pstatus', 'Medu', 'Fedu', 'Mjob', 'Fjob',\n",
    "               'reason', 'guardian', 'failures', 'schoolsup', 'famsup', 'paid', 'activities', 'nursery',\n",
    "               'higher', 'internet', 'romantic', 'famrel', 'freetime', 'goout', 'health']:\n",
    "    get_boxplot_by_score(students_scored.query('score_group == 1'), column)\n",
    "\n",
    "for column in ['school', 'sex', 'address', 'famsize', 'Pstatus', 'Medu', 'Fedu', 'Mjob', 'Fjob',\n",
    "               'reason', 'guardian', 'failures', 'schoolsup', 'famsup', 'paid', 'activities', 'nursery',\n",
    "               'higher', 'internet', 'romantic', 'famrel', 'freetime', 'goout', 'health']:\n",
    "    get_stat_dif(students_scored.query('score_group == 1'), column)"
   ],
   "metadata": {
    "collapsed": false,
    "pycharm": {
     "name": "#%%\n"
    }
   }
  },
  {
   "cell_type": "markdown",
   "source": [
    "Учащиеся школы GP в среднем имеют немного лучший балл по математике.\n",
    "\n",
    "Несколько уучше сдают экзамены студенты живщие в городе, по сравнению с тем кто живет за городом.\n",
    "\n",
    "Наблюдается влияние образования и профессии родителей, особоенно ярко видно влияние профессии отца.\n",
    "\n",
    "Явно видно влияние количества внеучебных неудач.\n",
    "\n",
    "Доп. образовательная поддержку имеет влияение на оценку, однако негативную. Студены получющие поддержку сдают экзамены\n",
    "хуже.\n",
    "\n",
    "Отношения в семье влияют на оценку.\n",
    "\n",
    "Нежелание получить высшее образование серьезно влияет на оценку. Хотя количество студентов не желающих получить высшее\n",
    "образование очень невелико в процентном выражении, ~5%.\n",
    "\n",
    "Также видно некоторое влияние на оценку количества времени проведенного с друзьями, здоровья.\n",
    "\n",
    "Девочки в целом имеют лучшие оценки чем мальчики, но не имеет смысла рекомендовать смену пола как изменение условий\n",
    "жизни для улучшения оценки по математике.\n",
    "\n",
    "Будут убраны из набора данных: sex, famsize, Pstatus, reason, guardian, famsup, paid, activities, nursery,\n",
    "internet, romantic, freetime.\n"
   ],
   "metadata": {
    "collapsed": false
   }
  },
  {
   "cell_type": "code",
   "execution_count": 53,
   "outputs": [
    {
     "data": {
      "text/plain": "     score  age school  studytime  absences_grouped address  Medu  Fedu  \\\n0     30.0   18     GP        2.0                 3       U   4.0   4.0   \n1     30.0   17     GP        2.0                 2       U   1.0   1.0   \n2     50.0   15     GP        2.0                 4       U   1.0   1.0   \n3     75.0   15     GP        3.0                 2       U   4.0   2.0   \n4     50.0   16     GP        2.0                 2       U   3.0   3.0   \n..     ...  ...    ...        ...               ...     ...   ...   ...   \n384   45.0   20     MS        2.0                 5       U   2.0   2.0   \n385   80.0   17     MS        1.0                 2       U   3.0   1.0   \n386   35.0   21     MS        1.0                 2       R   1.0   1.0   \n387   50.0   18     MS        1.0                 1       R   3.0   2.0   \n388   45.0   19     MS        1.0                 3       U   1.0   1.0   \n\n         Mjob      Fjob  failures schoolsup higher  famrel  health  goout  \n0     at_home   teacher       0.0       yes    yes     4.0     3.0    4.0  \n1     at_home     other       0.0        no    yes     1.0     3.0    3.0  \n2     at_home     other       3.0       yes    yes     1.0     3.0    2.0  \n3      health       NaN       0.0        no    yes     2.0     5.0    2.0  \n4       other     other       0.0        no    yes     3.0     5.0    2.0  \n..        ...       ...       ...       ...    ...     ...     ...    ...  \n384  services  services       2.0        no    yes     2.0     4.0    4.0  \n385  services  services       0.0        no    yes     1.0     2.0    5.0  \n386     other     other       3.0       NaN    NaN     1.0     3.0    3.0  \n387  services     other       0.0        no    yes     2.0     5.0    1.0  \n388     other   at_home       0.0       NaN    yes     1.0     5.0    3.0  \n\n[389 rows x 16 columns]",
      "text/html": "<div>\n<style scoped>\n    .dataframe tbody tr th:only-of-type {\n        vertical-align: middle;\n    }\n\n    .dataframe tbody tr th {\n        vertical-align: top;\n    }\n\n    .dataframe thead th {\n        text-align: right;\n    }\n</style>\n<table border=\"1\" class=\"dataframe\">\n  <thead>\n    <tr style=\"text-align: right;\">\n      <th></th>\n      <th>score</th>\n      <th>age</th>\n      <th>school</th>\n      <th>studytime</th>\n      <th>absences_grouped</th>\n      <th>address</th>\n      <th>Medu</th>\n      <th>Fedu</th>\n      <th>Mjob</th>\n      <th>Fjob</th>\n      <th>failures</th>\n      <th>schoolsup</th>\n      <th>higher</th>\n      <th>famrel</th>\n      <th>health</th>\n      <th>goout</th>\n    </tr>\n  </thead>\n  <tbody>\n    <tr>\n      <th>0</th>\n      <td>30.0</td>\n      <td>18</td>\n      <td>GP</td>\n      <td>2.0</td>\n      <td>3</td>\n      <td>U</td>\n      <td>4.0</td>\n      <td>4.0</td>\n      <td>at_home</td>\n      <td>teacher</td>\n      <td>0.0</td>\n      <td>yes</td>\n      <td>yes</td>\n      <td>4.0</td>\n      <td>3.0</td>\n      <td>4.0</td>\n    </tr>\n    <tr>\n      <th>1</th>\n      <td>30.0</td>\n      <td>17</td>\n      <td>GP</td>\n      <td>2.0</td>\n      <td>2</td>\n      <td>U</td>\n      <td>1.0</td>\n      <td>1.0</td>\n      <td>at_home</td>\n      <td>other</td>\n      <td>0.0</td>\n      <td>no</td>\n      <td>yes</td>\n      <td>1.0</td>\n      <td>3.0</td>\n      <td>3.0</td>\n    </tr>\n    <tr>\n      <th>2</th>\n      <td>50.0</td>\n      <td>15</td>\n      <td>GP</td>\n      <td>2.0</td>\n      <td>4</td>\n      <td>U</td>\n      <td>1.0</td>\n      <td>1.0</td>\n      <td>at_home</td>\n      <td>other</td>\n      <td>3.0</td>\n      <td>yes</td>\n      <td>yes</td>\n      <td>1.0</td>\n      <td>3.0</td>\n      <td>2.0</td>\n    </tr>\n    <tr>\n      <th>3</th>\n      <td>75.0</td>\n      <td>15</td>\n      <td>GP</td>\n      <td>3.0</td>\n      <td>2</td>\n      <td>U</td>\n      <td>4.0</td>\n      <td>2.0</td>\n      <td>health</td>\n      <td>NaN</td>\n      <td>0.0</td>\n      <td>no</td>\n      <td>yes</td>\n      <td>2.0</td>\n      <td>5.0</td>\n      <td>2.0</td>\n    </tr>\n    <tr>\n      <th>4</th>\n      <td>50.0</td>\n      <td>16</td>\n      <td>GP</td>\n      <td>2.0</td>\n      <td>2</td>\n      <td>U</td>\n      <td>3.0</td>\n      <td>3.0</td>\n      <td>other</td>\n      <td>other</td>\n      <td>0.0</td>\n      <td>no</td>\n      <td>yes</td>\n      <td>3.0</td>\n      <td>5.0</td>\n      <td>2.0</td>\n    </tr>\n    <tr>\n      <th>...</th>\n      <td>...</td>\n      <td>...</td>\n      <td>...</td>\n      <td>...</td>\n      <td>...</td>\n      <td>...</td>\n      <td>...</td>\n      <td>...</td>\n      <td>...</td>\n      <td>...</td>\n      <td>...</td>\n      <td>...</td>\n      <td>...</td>\n      <td>...</td>\n      <td>...</td>\n      <td>...</td>\n    </tr>\n    <tr>\n      <th>384</th>\n      <td>45.0</td>\n      <td>20</td>\n      <td>MS</td>\n      <td>2.0</td>\n      <td>5</td>\n      <td>U</td>\n      <td>2.0</td>\n      <td>2.0</td>\n      <td>services</td>\n      <td>services</td>\n      <td>2.0</td>\n      <td>no</td>\n      <td>yes</td>\n      <td>2.0</td>\n      <td>4.0</td>\n      <td>4.0</td>\n    </tr>\n    <tr>\n      <th>385</th>\n      <td>80.0</td>\n      <td>17</td>\n      <td>MS</td>\n      <td>1.0</td>\n      <td>2</td>\n      <td>U</td>\n      <td>3.0</td>\n      <td>1.0</td>\n      <td>services</td>\n      <td>services</td>\n      <td>0.0</td>\n      <td>no</td>\n      <td>yes</td>\n      <td>1.0</td>\n      <td>2.0</td>\n      <td>5.0</td>\n    </tr>\n    <tr>\n      <th>386</th>\n      <td>35.0</td>\n      <td>21</td>\n      <td>MS</td>\n      <td>1.0</td>\n      <td>2</td>\n      <td>R</td>\n      <td>1.0</td>\n      <td>1.0</td>\n      <td>other</td>\n      <td>other</td>\n      <td>3.0</td>\n      <td>NaN</td>\n      <td>NaN</td>\n      <td>1.0</td>\n      <td>3.0</td>\n      <td>3.0</td>\n    </tr>\n    <tr>\n      <th>387</th>\n      <td>50.0</td>\n      <td>18</td>\n      <td>MS</td>\n      <td>1.0</td>\n      <td>1</td>\n      <td>R</td>\n      <td>3.0</td>\n      <td>2.0</td>\n      <td>services</td>\n      <td>other</td>\n      <td>0.0</td>\n      <td>no</td>\n      <td>yes</td>\n      <td>2.0</td>\n      <td>5.0</td>\n      <td>1.0</td>\n    </tr>\n    <tr>\n      <th>388</th>\n      <td>45.0</td>\n      <td>19</td>\n      <td>MS</td>\n      <td>1.0</td>\n      <td>3</td>\n      <td>U</td>\n      <td>1.0</td>\n      <td>1.0</td>\n      <td>other</td>\n      <td>at_home</td>\n      <td>0.0</td>\n      <td>NaN</td>\n      <td>yes</td>\n      <td>1.0</td>\n      <td>5.0</td>\n      <td>3.0</td>\n    </tr>\n  </tbody>\n</table>\n<p>389 rows × 16 columns</p>\n</div>"
     },
     "execution_count": 53,
     "metadata": {},
     "output_type": "execute_result"
    }
   ],
   "source": [
    "students_result = students_scored[['score', 'age', 'school', 'studytime', 'absences_grouped',\n",
    "                                   'address', 'Medu', 'Fedu', 'Mjob', 'Fjob', 'failures',\n",
    "                                   'schoolsup', 'higher', 'famrel', 'health', 'goout']]"
   ],
   "metadata": {
    "collapsed": false,
    "pycharm": {
     "name": "#%%\n"
    }
   }
  },
  {
   "cell_type": "markdown",
   "source": [
    "## Выводы\n",
    "\n",
    "Судя по данным шкала оценки по математике 100 бальная с шагом 5.\n",
    "\n",
    "Аномальным кажется получение минимального (нулевого) балла 10% студентов. При этом отсутствуют студенты\n",
    "получившие оценки в интервале 0 > x > 20, что еще больше подчеркивает изолированность этой группы.\n",
    "\n",
    "Можно предположить, что получение нулевого балла не связано с самим итоговым тестированием (экзаменом),\n",
    "по видимому мы имеем дело с двумя зависимостями и двумя группами студентов:\n",
    "    1. Студенты, к которым применялась обычная система оценки. Для которых график распределения оценок\n",
    "    близок к нормальному.\n",
    "    2. Студенты, получившие нулевой балл и условия попадания в данную группу. Возможно они вообще не были допущены\n",
    "    до экзамена, или были допущены, но их оценивали не так как прочих студентов.\n",
    "\n",
    "Для разделения данных групп я ввожу колонку 'score_group' поскольку считаю что для данных групп критерии влияющие на\n",
    "оценку могут отличаться и для анализа 1ой группы оценка \"0\" - является выбросом, мешающим оценить факторы влияющие\n",
    "на балл.\n",
    "\n",
    "Полагая, что группа №2 выходит за рамки данного исследования, корреляционный анализ будет проведен для группы №1,\n",
    "с использованием query('score_group == 1')\n",
    "\n",
    "Также интересно наличие выраженного \"плато\" в интервале от 40 до 80 баллов. Это может быть связано с тем, что\n",
    "экзаменаторы с одной стороны \"дотягивают\" одних студентов до 40, а с другой неохотно дают оценку выше 80 баллов.\n",
    "С другой стороны это также может быть связано с методом экзаменации, например, есть базовый блок задач,\n",
    "знакомых большинству экзаменуемых, и задачи повышенной сложности, которые большинство студентов среднего\n",
    "уровня решить не может.\n",
    "\n",
    "В том что касается влияния различных факторов на оценку, похоже что оно (влияние) комплексное, то есть не существует\n",
    "одной определяющей причины. Вообще было трудно выделить фактры которые однозначно не влияют на оценку, и я решил\n",
    "отобрать те для которых влиянение более выраженно исходя из того что я вижу.\n",
    "\n",
    "Очень предварительно я бы сгруппировал и расположил их в следующем порядке по степени влияния:\n",
    "    1. внеучебные проблемы\n",
    "    2. учебная мотивация студента (желание тратить время на учебу)\n",
    "    3. влияние семьи\n",
    "    4. прочие факторы"
   ],
   "metadata": {
    "collapsed": false
   }
  }
 ],
 "metadata": {
  "kernelspec": {
   "display_name": "Python 3",
   "language": "python",
   "name": "python3"
  },
  "language_info": {
   "codemirror_mode": {
    "name": "ipython",
    "version": 2
   },
   "file_extension": ".py",
   "mimetype": "text/x-python",
   "name": "python",
   "nbconvert_exporter": "python",
   "pygments_lexer": "ipython2",
   "version": "2.7.6"
  }
 },
 "nbformat": 4,
 "nbformat_minor": 0
}