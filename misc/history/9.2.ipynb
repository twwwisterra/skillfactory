{
 "cells": [
  {
   "cell_type": "code",
   "execution_count": 3,
   "metadata": {
    "collapsed": true
   },
   "outputs": [],
   "source": [
    "import pandas as pd\n",
    "import numpy as np\n",
    "\n"
   ]
  },
  {
   "cell_type": "code",
   "execution_count": 4,
   "outputs": [
    {
     "data": {
      "text/plain": "array([[  1. ,  57. ,  71. , 127. , 141. , 197. , 211. , 267. , 281. ],\n       [  0.5,  28.5,  35.5,  63.5,  70.5,  98.5, 105.5, 133.5, 140.5],\n       [-99. , -43. , -29. ,  27. ,  41. ,  97. , 111. , 167. , 181. ]])"
     },
     "execution_count": 4,
     "metadata": {},
     "output_type": "execute_result"
    }
   ],
   "source": [
    "my_secret = [x for x in range(1, 301, 7) if x%10 == 7 or x%10 == 1]\n",
    "np.array([my_secret, [x/2 for x in my_secret], [x-100 for x in my_secret]])"
   ],
   "metadata": {
    "collapsed": false,
    "pycharm": {
     "name": "#%%\n"
    }
   }
  },
  {
   "cell_type": "code",
   "execution_count": 11,
   "outputs": [
    {
     "data": {
      "text/plain": "array([12, 47])"
     },
     "execution_count": 11,
     "metadata": {},
     "output_type": "execute_result"
    }
   ],
   "source": [
    "my_array = np.array([[1,2,3,4], [10,11,12,13], [45,46,47,48]])\n",
    "my_array[1:3, 2]"
   ],
   "metadata": {
    "collapsed": false,
    "pycharm": {
     "name": "#%%\n"
    }
   }
  },
  {
   "cell_type": "code",
   "execution_count": 79,
   "outputs": [
    {
     "data": {
      "text/plain": "3154.332495807108"
     },
     "execution_count": 79,
     "metadata": {},
     "output_type": "execute_result"
    }
   ],
   "source": [
    "first_line = [x*y for x in range(2, 100, 6) for y in range (7, 1, -2)]\n",
    "second_line = [x ** 0.5 for x in range(1000, 1101, 2)]\n",
    "third_line = [x**2 for x in range(51)]\n",
    "\n",
    "big_secret = np.array([first_line, second_line, third_line, second_line, first_line])\n",
    "sum(big_secret[:, -1])"
   ],
   "metadata": {
    "collapsed": false,
    "pycharm": {
     "name": "#%%\n"
    }
   }
  },
  {
   "cell_type": "code",
   "execution_count": 19,
   "outputs": [
    {
     "data": {
      "text/plain": "121.37188663699624"
     },
     "execution_count": 19,
     "metadata": {},
     "output_type": "execute_result"
    }
   ],
   "source": [
    "sum(np.diagonal(big_secret[:5]))\n"
   ],
   "metadata": {
    "collapsed": false,
    "pycharm": {
     "name": "#%%\n"
    }
   }
  },
  {
   "cell_type": "code",
   "execution_count": 32,
   "outputs": [
    {
     "data": {
      "text/plain": "341505315559.2347"
     },
     "execution_count": 32,
     "metadata": {},
     "output_type": "execute_result"
    }
   ],
   "source": [
    "np.prod(np.diagonal(big_secret[:, -5:]))\n"
   ],
   "metadata": {
    "collapsed": false,
    "pycharm": {
     "name": "#%%\n"
    }
   }
  },
  {
   "cell_type": "code",
   "execution_count": 41,
   "outputs": [
    {
     "name": "stdout",
     "output_type": "stream",
     "text": [
      "[[88 59  4 24 92 79]\n",
      " [22 69 39 62  6 55]\n",
      " [10  8 74 27 72 10]\n",
      " [25  1 91 70 93 14]]\n",
      "[[39 62]\n",
      " [74 27]]\n"
     ]
    }
   ],
   "source": [
    "my_array = np.random.randint(1, 100, (4, 6))\n",
    "print(my_array)\n",
    "my_slice = my_array[1:3, 2:4]\n",
    "print(my_slice)\n",
    "my_slice[:] = 0"
   ],
   "metadata": {
    "collapsed": false,
    "pycharm": {
     "name": "#%%\n"
    }
   }
  },
  {
   "cell_type": "code",
   "execution_count": 83,
   "outputs": [
    {
     "name": "stdout",
     "output_type": "stream",
     "text": [
      "[[1.40000000e+01 1.00000000e+01 6.00000000e+00 5.60000000e+01\n",
      "  4.00000000e+01 2.40000000e+01 9.80000000e+01 7.00000000e+01\n",
      "  4.20000000e+01 1.40000000e+02 1.00000000e+02 6.00000000e+01\n",
      "  1.82000000e+02 1.30000000e+02 7.80000000e+01 2.24000000e+02\n",
      "  1.60000000e+02 9.60000000e+01 2.66000000e+02 1.90000000e+02\n",
      "  1.14000000e+02 3.08000000e+02 2.20000000e+02 1.32000000e+02\n",
      "  3.50000000e+02 2.50000000e+02 1.50000000e+02 3.92000000e+02\n",
      "  2.80000000e+02 1.68000000e+02 4.34000000e+02 3.10000000e+02\n",
      "  1.86000000e+02 4.76000000e+02 3.40000000e+02 2.04000000e+02\n",
      "  5.18000000e+02 3.70000000e+02 2.22000000e+02 5.60000000e+02\n",
      "  4.00000000e+02 2.40000000e+02 6.02000000e+02 4.30000000e+02\n",
      "  2.58000000e+02 6.44000000e+02 4.60000000e+02 2.76000000e+02\n",
      "  6.86000000e+02 4.90000000e+02 2.94000000e+02]\n",
      " [3.16227766e+01 3.16543836e+01 3.16859590e+01 3.17175031e+01\n",
      "  3.17490157e+01 3.17804972e+01 3.18119474e+01 3.18433667e+01\n",
      "  3.18747549e+01 3.19061123e+01 3.19374388e+01 3.19687347e+01\n",
      "  3.20000000e+01 3.20312348e+01 3.20624391e+01 3.20936131e+01\n",
      "  3.21247568e+01 3.21558704e+01 3.21869539e+01 3.22180074e+01\n",
      "  3.22490310e+01 3.22800248e+01 3.23109888e+01 3.23419233e+01\n",
      "  3.23728281e+01 3.24037035e+01 3.24345495e+01 3.24653662e+01\n",
      "  3.24961536e+01 3.25269119e+01 3.25576412e+01 3.25883415e+01\n",
      "  3.26190129e+01 3.26496554e+01 3.26802693e+01 3.27108545e+01\n",
      "  3.27414111e+01 3.27719392e+01 3.28024389e+01 3.28329103e+01\n",
      "  3.28633535e+01 3.28937684e+01 3.29241553e+01 3.29545141e+01\n",
      "  3.29848450e+01 3.30151480e+01 3.30454233e+01 3.30756708e+01\n",
      "  3.31058907e+01 3.31360831e+01 3.31662479e+01]\n",
      " [0.00000000e+00 1.00000000e+00 4.00000000e+00 9.00000000e+00\n",
      "  1.60000000e+01 2.50000000e+01 3.60000000e+01 4.90000000e+01\n",
      "  6.40000000e+01 8.10000000e+01 1.00000000e+02 1.21000000e+02\n",
      "  1.44000000e+02 1.69000000e+02 1.96000000e+02 2.25000000e+02\n",
      "  2.56000000e+02 2.89000000e+02 3.24000000e+02 3.61000000e+02\n",
      "  4.00000000e+02 4.41000000e+02 4.84000000e+02 5.29000000e+02\n",
      "  5.76000000e+02 6.25000000e+02 6.76000000e+02 7.29000000e+02\n",
      "  7.84000000e+02 8.41000000e+02 9.00000000e+02 9.61000000e+02\n",
      "  1.02400000e+03 1.08900000e+03 1.15600000e+03 1.22500000e+03\n",
      "  1.29600000e+03 1.36900000e+03 1.44400000e+03 1.52100000e+03\n",
      "  1.60000000e+03 1.68100000e+03 1.76400000e+03 1.84900000e+03\n",
      "  1.93600000e+03 2.02500000e+03 2.11600000e+03 2.20900000e+03\n",
      "  2.30400000e+03 2.40100000e+03 2.50000000e+03]\n",
      " [3.16227766e+01 3.16543836e+01 3.16859590e+01 3.17175031e+01\n",
      "  3.17490157e+01 3.17804972e+01 3.18119474e+01 3.18433667e+01\n",
      "  3.18747549e+01 3.19061123e+01 3.19374388e+01 3.19687347e+01\n",
      "  3.20000000e+01 3.20312348e+01 3.20624391e+01 3.20936131e+01\n",
      "  3.21247568e+01 3.21558704e+01 3.21869539e+01 3.22180074e+01\n",
      "  3.22490310e+01 3.22800248e+01 3.23109888e+01 3.23419233e+01\n",
      "  3.23728281e+01 3.24037035e+01 3.24345495e+01 3.24653662e+01\n",
      "  3.24961536e+01 3.25269119e+01 3.25576412e+01 3.25883415e+01\n",
      "  3.26190129e+01 3.26496554e+01 3.26802693e+01 3.27108545e+01\n",
      "  3.27414111e+01 3.27719392e+01 3.28024389e+01 3.28329103e+01\n",
      "  3.28633535e+01 3.28937684e+01 3.29241553e+01 3.29545141e+01\n",
      "  3.29848450e+01 3.30151480e+01 3.30454233e+01 3.30756708e+01\n",
      "  3.31058907e+01 3.31360831e+01 3.31662479e+01]\n",
      " [1.40000000e+01 1.00000000e+01 6.00000000e+00 5.60000000e+01\n",
      "  4.00000000e+01 2.40000000e+01 9.80000000e+01 7.00000000e+01\n",
      "  4.20000000e+01 1.40000000e+02 1.00000000e+02 6.00000000e+01\n",
      "  1.82000000e+02 1.30000000e+02 7.80000000e+01 2.24000000e+02\n",
      "  1.60000000e+02 9.60000000e+01 2.66000000e+02 1.90000000e+02\n",
      "  1.14000000e+02 3.08000000e+02 2.20000000e+02 1.32000000e+02\n",
      "  3.50000000e+02 2.50000000e+02 1.50000000e+02 3.92000000e+02\n",
      "  2.80000000e+02 1.68000000e+02 4.34000000e+02 3.10000000e+02\n",
      "  1.86000000e+02 4.76000000e+02 3.40000000e+02 2.04000000e+02\n",
      "  5.18000000e+02 3.70000000e+02 2.22000000e+02 5.60000000e+02\n",
      "  4.00000000e+02 2.40000000e+02 6.02000000e+02 4.30000000e+02\n",
      "  2.58000000e+02 6.44000000e+02 4.60000000e+02 2.76000000e+02\n",
      "  6.86000000e+02 4.90000000e+02 2.94000000e+02]]\n"
     ]
    }
   ],
   "source": [
    "print(big_secret)\n",
    "\n",
    "even = big_secret[::2,::2]\n",
    "even[:] = -1\n",
    "uneven = big_secret[1::2,1::2]\n",
    "uneven[:] = 1"
   ],
   "metadata": {
    "collapsed": false,
    "pycharm": {
     "name": "#%%\n"
    }
   }
  },
  {
   "cell_type": "code",
   "execution_count": 86,
   "outputs": [
    {
     "data": {
      "text/plain": "-1.0"
     },
     "execution_count": 86,
     "metadata": {},
     "output_type": "execute_result"
    }
   ],
   "source": [
    "sum(np.diagonal(big_secret[:,:5]))\n",
    "np.prod(np.diagonal(big_secret[:, -5:]))\n"
   ],
   "metadata": {
    "collapsed": false,
    "pycharm": {
     "name": "#%%\n"
    }
   }
  },
  {
   "cell_type": "code",
   "execution_count": 87,
   "outputs": [
    {
     "name": "stdout",
     "output_type": "stream",
     "text": [
      "Сумма: [15 21 27]\n",
      "Разность: [9 9 9]\n",
      "Произведение: [ 36  90 162]\n",
      "Частное: [0.25 0.4  0.5 ]\n",
      "Умножение на число: [ 6 12 18]\n"
     ]
    }
   ],
   "source": [
    "a = np.array([3,6,9])\n",
    "b = np.array([12,15,18])\n",
    "\n",
    "result1 = a+bmy_array = np.random.randint(0, 10, (3,4))result2 = b-a\n",
    "result3 = a*b\n",
    "result4 = a/b\n",
    "result5 = a*2\n",
    "print('Сумма: {}\\nРазность: {}\\nПроизведение: {}\\nЧастное: {}\\nУмножение на число: {}'.format(result1, result2, result3, result4, result5))"
   ],
   "metadata": {
    "collapsed": false,
    "pycharm": {
     "name": "#%%\n"
    }
   }
  },
  {
   "cell_type": "code",
   "execution_count": 91,
   "outputs": [
    {
     "name": "stdout",
     "output_type": "stream",
     "text": [
      "[[6 6 6 7]\n",
      " [0 6 9 7]\n",
      " [5 3 8 5]]\n",
      "[[False False False False]\n",
      " [ True False False False]\n",
      " [False  True False False]]\n",
      "[0 3]\n"
     ]
    }
   ],
   "source": [
    "my_array = np.random.randint(0, 10, (3,4))\n",
    "print(my_array)\n",
    "print(my_array<5)\n",
    "print(my_array[my_array<5])"
   ],
   "metadata": {
    "collapsed": false,
    "pycharm": {
     "name": "#%%\n"
    }
   }
  },
  {
   "cell_type": "code",
   "execution_count": 93,
   "outputs": [
    {
     "data": {
      "text/plain": "(100, 3)"
     },
     "execution_count": 93,
     "metadata": {},
     "output_type": "execute_result"
    }
   ],
   "source": [
    "first = [x**(1/2) for x in range(100)]\n",
    "second = [x**(1/3) for x in range(100, 200)]\n",
    "third = [x/y for x in range(200,300,2) for y in [3,5]]\n",
    "\n",
    "great_secret = np.array([first, second, third]).T\n",
    "\n",
    "great_secret.shape\n"
   ],
   "metadata": {
    "collapsed": false,
    "pycharm": {
     "name": "#%%\n"
    }
   }
  },
  {
   "cell_type": "code",
   "execution_count": 95,
   "outputs": [
    {
     "data": {
      "text/plain": "0.16006721889793019"
     },
     "execution_count": 95,
     "metadata": {},
     "output_type": "execute_result"
    }
   ],
   "source": [
    "sum(np.cos(great_secret[0]))"
   ],
   "metadata": {
    "collapsed": false,
    "pycharm": {
     "name": "#%%\n"
    }
   }
  },
  {
   "cell_type": "code",
   "execution_count": 96,
   "outputs": [
    {
     "data": {
      "text/plain": "5470.0"
     },
     "execution_count": 96,
     "metadata": {},
     "output_type": "execute_result"
    }
   ],
   "source": [
    "sum(great_secret[great_secret>50])"
   ],
   "metadata": {
    "collapsed": false,
    "pycharm": {
     "name": "#%%\n"
    }
   }
  },
  {
   "cell_type": "code",
   "execution_count": 103,
   "outputs": [
    {
     "data": {
      "text/plain": "7.0710678118654755"
     },
     "execution_count": 103,
     "metadata": {},
     "output_type": "execute_result"
    }
   ],
   "source": [
    "great_secret.flatten()[150]\n",
    "\n"
   ],
   "metadata": {
    "collapsed": false,
    "pycharm": {
     "name": "#%%\n"
    }
   }
  },
  {
   "cell_type": "code",
   "execution_count": 108,
   "outputs": [
    {
     "data": {
      "text/plain": "115.12148016521353"
     },
     "execution_count": 108,
     "metadata": {},
     "output_type": "execute_result"
    }
   ],
   "source": [
    "sum(np.sort(great_secret, axis=0)[-1])\n",
    "\n"
   ],
   "metadata": {
    "collapsed": false,
    "pycharm": {
     "name": "#%%\n"
    }
   }
  },
  {
   "cell_type": "code",
   "execution_count": 117,
   "outputs": [
    {
     "data": {
      "text/plain": "array([[  1. , 135. ,  34. ,   4. ],\n       [  2. , 160. ,  43. ,   5. ],\n       [  3. , 163. ,  40. ,   4.3],\n       [  4. , 147. ,  44. ,   5. ],\n       [  5. , 138. ,  41. ,   4.7],\n       [  6. , 149. ,  54. ,   3.9],\n       [  7. , 136. ,  39. ,   4.2],\n       [  8. , 154. ,  48. ,   4.9],\n       [  9. , 137. ,  35. ,   3.7],\n       [ 10. , 165. ,  60. ,   4.6]])"
     },
     "execution_count": 117,
     "metadata": {},
     "output_type": "execute_result"
    }
   ],
   "source": [
    "students = np.array([\n",
    "    [1, 135, 34, 4],\n",
    "    [2,\t160, 43, 5],\n",
    "    [3,\t163, 40, 4.3],\n",
    "    [4,\t147, 44, 5],\n",
    "    [5,\t138, 41, 4.7],\n",
    "    [6,\t149, 54, 3.9],\n",
    "    [7,\t136, 39, 4.2],\n",
    "    [8,\t154, 48, 4.9],\n",
    "    [9,\t137, 35, 3.7],\n",
    "    [10, 165, 60, 4.6]])\n",
    "\n",
    "students"
   ],
   "metadata": {
    "collapsed": false,
    "pycharm": {
     "name": "#%%\n"
    }
   }
  },
  {
   "cell_type": "code",
   "execution_count": 118,
   "outputs": [
    {
     "data": {
      "text/plain": "4.430000000000001"
     },
     "execution_count": 118,
     "metadata": {},
     "output_type": "execute_result"
    }
   ],
   "source": [
    "mean = np.mean(students[:,-1])\n",
    "mean\n",
    "\n"
   ],
   "metadata": {
    "collapsed": false,
    "pycharm": {
     "name": "#%%\n"
    }
   }
  },
  {
   "cell_type": "code",
   "execution_count": 121,
   "outputs": [
    {
     "data": {
      "text/plain": "1.7999999999999972"
     },
     "execution_count": 121,
     "metadata": {},
     "output_type": "execute_result"
    }
   ],
   "source": [
    "np.mean(students[:,-2]) - np.median(students[:,-2])"
   ],
   "metadata": {
    "collapsed": false,
    "pycharm": {
     "name": "#%%\n"
    }
   }
  },
  {
   "cell_type": "code",
   "execution_count": 125,
   "outputs": [
    {
     "name": "stdout",
     "output_type": "stream",
     "text": [
      "[[1.         0.64314431]\n",
      " [0.64314431 1.        ]]\n",
      "[[1.         0.46293714]\n",
      " [0.46293714 1.        ]]\n",
      "[[1.         0.29801325]\n",
      " [0.29801325 1.        ]]\n"
     ]
    }
   ],
   "source": [
    "corr_height_mass = np.corrcoef(students[:,1], students[:,2])\n",
    "print(corr_height_mass)\n",
    "\n",
    "corr_height_grades = np.corrcoef(students[:,1], students[:,3])\n",
    "print(corr_height_grades)\n",
    "\n",
    "corr_mass_grades = np.corrcoef(students[:,2], students[:,3])\n",
    "print(corr_mass_grades)"
   ],
   "metadata": {
    "collapsed": false,
    "pycharm": {
     "name": "#%%\n"
    }
   }
  },
  {
   "cell_type": "code",
   "execution_count": 127,
   "outputs": [
    {
     "data": {
      "text/plain": "0.4517742799230607"
     },
     "execution_count": 127,
     "metadata": {},
     "output_type": "execute_result"
    }
   ],
   "source": [
    "std = np.std(students[:,3])\n",
    "std\n"
   ],
   "metadata": {
    "collapsed": false,
    "pycharm": {
     "name": "#%%\n"
    }
   }
  },
  {
   "cell_type": "code",
   "execution_count": 138,
   "outputs": [
    {
     "name": "stdout",
     "output_type": "stream",
     "text": [
      "60.36\n"
     ]
    }
   ],
   "source": [
    "print(np.std(students[:,2])**2)\n",
    "\n",
    "\n"
   ],
   "metadata": {
    "collapsed": false,
    "pycharm": {
     "name": "#%%\n"
    }
   }
  },
  {
   "cell_type": "code",
   "execution_count": 145,
   "outputs": [
    {
     "data": {
      "text/plain": "7.5717184212691455"
     },
     "execution_count": 145,
     "metadata": {},
     "output_type": "execute_result"
    }
   ],
   "source": [
    "my_array = np.array([[1,2,3,4,5],\n",
    "                     [6,7,8,9,10],\n",
    "                     [11,12,13,14,15],\n",
    "                     [16,17,18,19,20],\n",
    "                     [21,22,23,24,25]])\n",
    "my_array[1:-1,1:-1]\n",
    "\n",
    "my_sin = np.sin(my_array)\n",
    "center = my_sin[1:-1,1:-1]\n",
    "center[:] = 1\n",
    "sum(my_sin.flatten())"
   ],
   "metadata": {
    "collapsed": false,
    "pycharm": {
     "name": "#%%\n"
    }
   }
  },
  {
   "cell_type": "code",
   "execution_count": 152,
   "outputs": [
    {
     "data": {
      "text/plain": "2.4057172058139544"
     },
     "execution_count": 152,
     "metadata": {},
     "output_type": "execute_result"
    }
   ],
   "source": [
    "sum(np.reshape(my_sin[:,:4], (10, 2))[:,0])\n",
    "\n"
   ],
   "metadata": {
    "collapsed": false,
    "pycharm": {
     "name": "#%%\n"
    }
   }
  },
  {
   "cell_type": "code",
   "execution_count": 168,
   "outputs": [
    {
     "data": {
      "text/plain": "array([[1.        , 0.99999973],\n       [0.99999973, 1.        ]])"
     },
     "execution_count": 168,
     "metadata": {},
     "output_type": "execute_result"
    }
   ],
   "source": [
    "bigdata = np.array([x**2 for x in range(101, 1001, 2)])\n",
    "np.median(bigdata)\n",
    "np.std(bigdata)\n",
    "\n",
    "np.corrcoef(bigdata[::2], bigdata[1::2])"
   ],
   "metadata": {
    "collapsed": false,
    "pycharm": {
     "name": "#%%\n"
    }
   }
  }
 ],
 "metadata": {
  "kernelspec": {
   "display_name": "Python 3",
   "language": "python",
   "name": "python3"
  },
  "language_info": {
   "codemirror_mode": {
    "name": "ipython",
    "version": 2
   },
   "file_extension": ".py",
   "mimetype": "text/x-python",
   "name": "python",
   "nbconvert_exporter": "python",
   "pygments_lexer": "ipython2",
   "version": "2.7.6"
  }
 },
 "nbformat": 4,
 "nbformat_minor": 0
}