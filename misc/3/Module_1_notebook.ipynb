{
 "cells": [
  {
   "cell_type": "code",
   "execution_count": 2,
   "metadata": {
    "colab": {
     "base_uri": "https://localhost:8080/",
     "height": 85
    },
    "colab_type": "code",
    "id": "zl5g0USZZMvI",
    "outputId": "1a4892f1-2fb9-4a1b-b75b-1592008361f6"
   },
   "outputs": [
    {
     "data": {
      "text/plain": "(array([1.8, 0.2]),\n array([[ 0.70710678, -0.70710678],\n        [ 0.70710678,  0.70710678]]))"
     },
     "execution_count": 2,
     "metadata": {},
     "output_type": "execute_result"
    }
   ],
   "source": [
    "import numpy as np\n",
    "A = np.array(\n",
    "    [[1, 0.8],\n",
    "    [0.8, 1],\n",
    "]) # создаем матрицу 3х3\n",
    "B = np.linalg.eig(A) # находим собственные вектора (с.в.) и собственные числа (с.ч.) через np.linalg.eig\n",
    "B\n",
    "# Обратите внимание, что B - кортеж (tuple). Его компоненты имеют тип np.ndarray, с которыми вы уже должны быть знакомы. \n",
    "# Нулевая компонента B[0] - вектор собственных чисел, а компонента B[1] - матрица, столбцами которой являются \n",
    "# собственные вектора, соответствующие данному числу.; в данном случае собственному числу 13.59373746 \n",
    "# соответствует собственный вектор [0.45145779, 0.62348353, 0.63832135]\n",
    "\n"
   ]
  },
  {
   "cell_type": "code",
   "execution_count": 0,
   "metadata": {
    "colab": {},
    "colab_type": "code",
    "id": "fTnKUWS0nhA5"
   },
   "outputs": [],
   "source": []
  }
 ],
 "metadata": {
  "colab": {
   "name": "Untitled2.ipynb",
   "provenance": [],
   "version": "0.3.2"
  },
  "kernelspec": {
   "display_name": "Python 3",
   "language": "python",
   "name": "python3"
  },
  "language_info": {
   "codemirror_mode": {
    "name": "ipython",
    "version": 3
   },
   "file_extension": ".py",
   "mimetype": "text/x-python",
   "name": "python",
   "nbconvert_exporter": "python",
   "pygments_lexer": "ipython3",
   "version": "3.7.1"
  }
 },
 "nbformat": 4,
 "nbformat_minor": 2
}