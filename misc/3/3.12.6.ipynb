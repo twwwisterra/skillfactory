{
 "cells": [
  {
   "cell_type": "code",
   "execution_count": 6,
   "metadata": {
    "collapsed": true
   },
   "outputs": [
    {
     "name": "stdout",
     "output_type": "stream",
     "text": [
      "<class 'pandas.core.frame.DataFrame'>\n",
      "RangeIndex: 864 entries, 0 to 863\n",
      "Data columns (total 19 columns):\n",
      " #   Column  Non-Null Count  Dtype  \n",
      "---  ------  --------------  -----  \n",
      " 0   0       860 non-null    object \n",
      " 1   1       860 non-null    object \n",
      " 2   2       131 non-null    object \n",
      " 3   3       133 non-null    object \n",
      " 4   4       133 non-null    object \n",
      " 5   5       131 non-null    object \n",
      " 6   6       132 non-null    object \n",
      " 7   7       857 non-null    object \n",
      " 8   8       861 non-null    object \n",
      " 9   9       858 non-null    object \n",
      " 10  10      130 non-null    object \n",
      " 11  11      4 non-null      object \n",
      " 12  12      131 non-null    object \n",
      " 13  13      858 non-null    object \n",
      " 14  14      860 non-null    object \n",
      " 15  15      859 non-null    object \n",
      " 16  16      0 non-null      float64\n",
      " 17  17      131 non-null    object \n",
      " 18  18      132 non-null    object \n",
      "dtypes: float64(1), object(18)\n",
      "memory usage: 128.4+ KB\n"
     ]
    }
   ],
   "source": [
    "import pandas as pd\n",
    "pd.set_option('display.max_columns', None)\n",
    "\n",
    "data = pd.read_excel('Fig3-1.xls', header=None)\n",
    "\n",
    "data.info()"
   ]
  },
  {
   "cell_type": "code",
   "execution_count": 14,
   "outputs": [
    {
     "name": "stdout",
     "output_type": "stream",
     "text": [
      "<class 'pandas.core.frame.DataFrame'>\n",
      "Int64Index: 15 entries, 0 to 25\n",
      "Data columns (total 13 columns):\n",
      " #   Column  Non-Null Count  Dtype  \n",
      "---  ------  --------------  -----  \n",
      " 0   0       0 non-null      float64\n",
      " 1   1       7 non-null      object \n",
      " 2   2       10 non-null     object \n",
      " 3   3       8 non-null      object \n",
      " 4   4       2 non-null      object \n",
      " 5   5       1 non-null      object \n",
      " 6   6       3 non-null      object \n",
      " 7   7       0 non-null      float64\n",
      " 8   8       3 non-null      object \n",
      " 9   9       3 non-null      object \n",
      " 10  10      0 non-null      float64\n",
      " 11  11      7 non-null      object \n",
      " 12  12      4 non-null      object \n",
      "dtypes: float64(3), object(10)\n",
      "memory usage: 1.6+ KB\n"
     ]
    }
   ],
   "source": [
    "url = 'https://lms.skillfactory.ru/assets/courseware/v1/33c6d423497ad69652af34c294c606f0/asset-v1:Skillfactory+DST-PRO+15APR2020+type@asset+block/nakladnaya.xls'\n",
    "data = pd.read_excel(url, header=None, skiprows=2)\n",
    "\n",
    "data = data.dropna(how='all')\n",
    "\n",
    "data.info()"
   ],
   "metadata": {
    "collapsed": false,
    "pycharm": {
     "name": "#%%\n"
    }
   }
  },
  {
   "cell_type": "code",
   "execution_count": 15,
   "outputs": [
    {
     "data": {
      "text/plain": "'5764809'"
     },
     "execution_count": 15,
     "metadata": {},
     "output_type": "execute_result"
    }
   ],
   "source": [
    "data.iloc[0, 4][2:9]"
   ],
   "metadata": {
    "collapsed": false,
    "pycharm": {
     "name": "#%%\n"
    }
   }
  },
  {
   "cell_type": "code",
   "execution_count": 16,
   "outputs": [
    {
     "data": {
      "text/plain": "   0                                  1   \\\n0 NaN                                NaN   \n2 NaN                  Грузоотправитель:   \n4 NaN                   Грузополучатель:   \n6 NaN  Основание для отпуска: Договор №    \n9 NaN                                  №   \n\n                                            2                       3   \\\n0                                          NaN               НАКЛАДНАЯ   \n2                                          NaN  ООО \"Первый строитель\"   \n4                                          NaN     ООО \"Стройка века\"    \n6                                          NaN                     NaN   \n9  Наименование товарно-материальных ценностей                     NaN   \n\n                                  4                      5         6   7   \\\n0  № 5764809  от \"08\" апреля 2018 г.                    NaN       NaN NaN   \n2                                NaN                    NaN       NaN NaN   \n4                                NaN                    NaN       NaN NaN   \n6                                 86  от \"02\"апреля 2018 г.       NaN NaN   \n9                                NaN                    NaN  Ед. изм. NaN   \n\n    8           9   10      11       12  \n0  NaN         NaN NaN     NaN      NaN  \n2  NaN         NaN NaN     NaN      NaN  \n4  NaN         NaN NaN     NaN      NaN  \n6  NaN         NaN NaN     NaN      NaN  \n9  NaN  Количество NaN  Цена,   Сумма,   ",
      "text/html": "<div>\n<style scoped>\n    .dataframe tbody tr th:only-of-type {\n        vertical-align: middle;\n    }\n\n    .dataframe tbody tr th {\n        vertical-align: top;\n    }\n\n    .dataframe thead th {\n        text-align: right;\n    }\n</style>\n<table border=\"1\" class=\"dataframe\">\n  <thead>\n    <tr style=\"text-align: right;\">\n      <th></th>\n      <th>0</th>\n      <th>1</th>\n      <th>2</th>\n      <th>3</th>\n      <th>4</th>\n      <th>5</th>\n      <th>6</th>\n      <th>7</th>\n      <th>8</th>\n      <th>9</th>\n      <th>10</th>\n      <th>11</th>\n      <th>12</th>\n    </tr>\n  </thead>\n  <tbody>\n    <tr>\n      <th>0</th>\n      <td>NaN</td>\n      <td>NaN</td>\n      <td>NaN</td>\n      <td>НАКЛАДНАЯ</td>\n      <td>№ 5764809  от \"08\" апреля 2018 г.</td>\n      <td>NaN</td>\n      <td>NaN</td>\n      <td>NaN</td>\n      <td>NaN</td>\n      <td>NaN</td>\n      <td>NaN</td>\n      <td>NaN</td>\n      <td>NaN</td>\n    </tr>\n    <tr>\n      <th>2</th>\n      <td>NaN</td>\n      <td>Грузоотправитель:</td>\n      <td>NaN</td>\n      <td>ООО \"Первый строитель\"</td>\n      <td>NaN</td>\n      <td>NaN</td>\n      <td>NaN</td>\n      <td>NaN</td>\n      <td>NaN</td>\n      <td>NaN</td>\n      <td>NaN</td>\n      <td>NaN</td>\n      <td>NaN</td>\n    </tr>\n    <tr>\n      <th>4</th>\n      <td>NaN</td>\n      <td>Грузополучатель:</td>\n      <td>NaN</td>\n      <td>ООО \"Стройка века\"</td>\n      <td>NaN</td>\n      <td>NaN</td>\n      <td>NaN</td>\n      <td>NaN</td>\n      <td>NaN</td>\n      <td>NaN</td>\n      <td>NaN</td>\n      <td>NaN</td>\n      <td>NaN</td>\n    </tr>\n    <tr>\n      <th>6</th>\n      <td>NaN</td>\n      <td>Основание для отпуска: Договор №</td>\n      <td>NaN</td>\n      <td>NaN</td>\n      <td>86</td>\n      <td>от \"02\"апреля 2018 г.</td>\n      <td>NaN</td>\n      <td>NaN</td>\n      <td>NaN</td>\n      <td>NaN</td>\n      <td>NaN</td>\n      <td>NaN</td>\n      <td>NaN</td>\n    </tr>\n    <tr>\n      <th>9</th>\n      <td>NaN</td>\n      <td>№</td>\n      <td>Наименование товарно-материальных ценностей</td>\n      <td>NaN</td>\n      <td>NaN</td>\n      <td>NaN</td>\n      <td>Ед. изм.</td>\n      <td>NaN</td>\n      <td>NaN</td>\n      <td>Количество</td>\n      <td>NaN</td>\n      <td>Цена,</td>\n      <td>Сумма,</td>\n    </tr>\n  </tbody>\n</table>\n</div>"
     },
     "execution_count": 16,
     "metadata": {},
     "output_type": "execute_result"
    }
   ],
   "source": [
    "data.head()"
   ],
   "metadata": {
    "collapsed": false,
    "pycharm": {
     "name": "#%%\n"
    }
   }
  },
  {
   "cell_type": "code",
   "execution_count": 17,
   "outputs": [
    {
     "data": {
      "text/plain": "   1                      2   6   9     11     12\n11  1  Велосипед \"Спринтер\"   шт   5  9000  45000\n12  2    Велосипед \"Малютка\"  шт  10  3500  35000",
      "text/html": "<div>\n<style scoped>\n    .dataframe tbody tr th:only-of-type {\n        vertical-align: middle;\n    }\n\n    .dataframe tbody tr th {\n        vertical-align: top;\n    }\n\n    .dataframe thead th {\n        text-align: right;\n    }\n</style>\n<table border=\"1\" class=\"dataframe\">\n  <thead>\n    <tr style=\"text-align: right;\">\n      <th></th>\n      <th>1</th>\n      <th>2</th>\n      <th>6</th>\n      <th>9</th>\n      <th>11</th>\n      <th>12</th>\n    </tr>\n  </thead>\n  <tbody>\n    <tr>\n      <th>11</th>\n      <td>1</td>\n      <td>Велосипед \"Спринтер\"</td>\n      <td>шт</td>\n      <td>5</td>\n      <td>9000</td>\n      <td>45000</td>\n    </tr>\n    <tr>\n      <th>12</th>\n      <td>2</td>\n      <td>Велосипед \"Малютка\"</td>\n      <td>шт</td>\n      <td>10</td>\n      <td>3500</td>\n      <td>35000</td>\n    </tr>\n  </tbody>\n</table>\n</div>"
     },
     "execution_count": 17,
     "metadata": {},
     "output_type": "execute_result"
    }
   ],
   "source": [
    "data.iloc[6:8, :].dropna(axis=1, how='any')"
   ],
   "metadata": {
    "collapsed": false,
    "pycharm": {
     "name": "#%%\n"
    }
   }
  },
  {
   "cell_type": "code",
   "execution_count": 19,
   "outputs": [
    {
     "data": {
      "text/plain": "   1                      2   6   9     11     12\n11  1  Велосипед \"Спринтер\"   шт   5  9000  45000\n12  2    Велосипед \"Малютка\"  шт  10  3500  35000",
      "text/html": "<div>\n<style scoped>\n    .dataframe tbody tr th:only-of-type {\n        vertical-align: middle;\n    }\n\n    .dataframe tbody tr th {\n        vertical-align: top;\n    }\n\n    .dataframe thead th {\n        text-align: right;\n    }\n</style>\n<table border=\"1\" class=\"dataframe\">\n  <thead>\n    <tr style=\"text-align: right;\">\n      <th></th>\n      <th>1</th>\n      <th>2</th>\n      <th>6</th>\n      <th>9</th>\n      <th>11</th>\n      <th>12</th>\n    </tr>\n  </thead>\n  <tbody>\n    <tr>\n      <th>11</th>\n      <td>1</td>\n      <td>Велосипед \"Спринтер\"</td>\n      <td>шт</td>\n      <td>5</td>\n      <td>9000</td>\n      <td>45000</td>\n    </tr>\n    <tr>\n      <th>12</th>\n      <td>2</td>\n      <td>Велосипед \"Малютка\"</td>\n      <td>шт</td>\n      <td>10</td>\n      <td>3500</td>\n      <td>35000</td>\n    </tr>\n  </tbody>\n</table>\n</div>"
     },
     "execution_count": 19,
     "metadata": {},
     "output_type": "execute_result"
    }
   ],
   "source": [
    "data.iloc[6:8, [1, 2, 6, 9, 11, 12]]"
   ],
   "metadata": {
    "collapsed": false,
    "pycharm": {
     "name": "#%%\n"
    }
   }
  },
  {
   "cell_type": "code",
   "execution_count": 20,
   "outputs": [
    {
     "data": {
      "text/plain": "   1                      2   6   9     11     12\n11  1  Велосипед \"Спринтер\"   шт   5  9000  45000\n12  2    Велосипед \"Малютка\"  шт  10  3500  35000",
      "text/html": "<div>\n<style scoped>\n    .dataframe tbody tr th:only-of-type {\n        vertical-align: middle;\n    }\n\n    .dataframe tbody tr th {\n        vertical-align: top;\n    }\n\n    .dataframe thead th {\n        text-align: right;\n    }\n</style>\n<table border=\"1\" class=\"dataframe\">\n  <thead>\n    <tr style=\"text-align: right;\">\n      <th></th>\n      <th>1</th>\n      <th>2</th>\n      <th>6</th>\n      <th>9</th>\n      <th>11</th>\n      <th>12</th>\n    </tr>\n  </thead>\n  <tbody>\n    <tr>\n      <th>11</th>\n      <td>1</td>\n      <td>Велосипед \"Спринтер\"</td>\n      <td>шт</td>\n      <td>5</td>\n      <td>9000</td>\n      <td>45000</td>\n    </tr>\n    <tr>\n      <th>12</th>\n      <td>2</td>\n      <td>Велосипед \"Малютка\"</td>\n      <td>шт</td>\n      <td>10</td>\n      <td>3500</td>\n      <td>35000</td>\n    </tr>\n  </tbody>\n</table>\n</div>"
     },
     "execution_count": 20,
     "metadata": {},
     "output_type": "execute_result"
    }
   ],
   "source": [
    "data.iloc[6:8, :].dropna(axis=1, how='all')\n"
   ],
   "metadata": {
    "collapsed": false,
    "pycharm": {
     "name": "#%%\n"
    }
   }
  }
 ],
 "metadata": {
  "kernelspec": {
   "display_name": "Python 3",
   "language": "python",
   "name": "python3"
  },
  "language_info": {
   "codemirror_mode": {
    "name": "ipython",
    "version": 2
   },
   "file_extension": ".py",
   "mimetype": "text/x-python",
   "name": "python",
   "nbconvert_exporter": "python",
   "pygments_lexer": "ipython2",
   "version": "2.7.6"
  }
 },
 "nbformat": 4,
 "nbformat_minor": 0
}