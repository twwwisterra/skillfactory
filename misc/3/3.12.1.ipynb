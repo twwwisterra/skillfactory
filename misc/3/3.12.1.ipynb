{
 "cells": [
  {
   "cell_type": "code",
   "execution_count": 69,
   "metadata": {
    "collapsed": true
   },
   "outputs": [
    {
     "data": {
      "text/plain": "17"
     },
     "execution_count": 69,
     "metadata": {},
     "output_type": "execute_result"
    }
   ],
   "source": [
    "import json\n",
    "from pprint import pprint\n",
    "from collections import defaultdict, Counter\n",
    "import pandas as pd\n",
    "\n",
    "with open('data/data.json') as file:\n",
    "    recipes = json.load(file)\n",
    "\n",
    "len(recipes[-1]['ingredients'])"
   ]
  },
  {
   "cell_type": "code",
   "execution_count": 70,
   "outputs": [
    {
     "name": "stdout",
     "output_type": "stream",
     "text": [
      "[['tomato sauce',\n",
      "  'shredded carrots',\n",
      "  'spinach',\n",
      "  'part-skim mozzarella cheese',\n",
      "  'italian seasoning',\n",
      "  'english muffins, split and toasted',\n",
      "  'chopped onion',\n",
      "  'vegetable oil cooking spray',\n",
      "  'chopped green bell pepper']]\n"
     ]
    }
   ],
   "source": [
    "pprint([x['ingredients'] for x in recipes if x['id'] == 17636])"
   ],
   "metadata": {
    "collapsed": false,
    "pycharm": {
     "name": "#%%\n"
    }
   }
  },
  {
   "cell_type": "code",
   "execution_count": 71,
   "outputs": [
    {
     "name": "stdout",
     "output_type": "stream",
     "text": [
      "[14]\n"
     ]
    }
   ],
   "source": [
    "pprint([len(x['ingredients']) for x in recipes if x['id'] == 42013])"
   ],
   "metadata": {
    "collapsed": false,
    "pycharm": {
     "name": "#%%\n"
    }
   }
  },
  {
   "cell_type": "code",
   "execution_count": 72,
   "outputs": [
    {
     "name": "stdout",
     "output_type": "stream",
     "text": [
      "[['eggs',\n",
      "  'russet potatoes',\n",
      "  'mexican chorizo',\n",
      "  'black beans',\n",
      "  'salsa',\n",
      "  'canola oil',\n",
      "  'colby cheese',\n",
      "  'black olives',\n",
      "  'sour cream',\n",
      "  'avocado',\n",
      "  'half & half',\n",
      "  'goat cheese']]\n"
     ]
    }
   ],
   "source": [
    "pprint([x['ingredients'] for x in recipes if x['id'] == 23629])"
   ],
   "metadata": {
    "collapsed": false,
    "pycharm": {
     "name": "#%%\n"
    }
   }
  },
  {
   "cell_type": "code",
   "execution_count": 73,
   "outputs": [
    {
     "data": {
      "text/plain": "{'bacon', 'bread slices', 'carrots'}"
     },
     "execution_count": 73,
     "metadata": {},
     "output_type": "execute_result"
    }
   ],
   "source": [
    "ingredients_check = {'bacon', 'bread slices', 'buttermilk', 'red beets', 'mozzarella cheese', 'carrots'}\n",
    "\n",
    "ingredients = set()\n",
    "for ingredient_list in [x['ingredients'] for x in recipes if x['cuisine'] == 'russian']:\n",
    "    for ingredient in ingredient_list:\n",
    "        ingredients.add(ingredient)\n",
    "\n",
    "ingredients_check.difference(ingredients)"
   ],
   "metadata": {
    "collapsed": false,
    "pycharm": {
     "name": "#%%\n"
    }
   }
  },
  {
   "cell_type": "code",
   "execution_count": 74,
   "outputs": [
    {
     "name": "stdout",
     "output_type": "stream",
     "text": [
      "[('romaine lettuce', 10259),\n",
      " ('black olives', 10259),\n",
      " ('grape tomatoes', 10259),\n",
      " ('garlic', 10259),\n",
      " ('pepper', 10259)]\n",
      "684\n"
     ]
    }
   ],
   "source": [
    "food = []\n",
    "ingredients = set()\n",
    "for ingredient_list, rid in [(x['ingredients'], x['id']) for x in recipes]:\n",
    "    for ingredient in ingredient_list:\n",
    "        food.append((ingredient, rid))\n",
    "\n",
    "pprint(food[0:5])\n",
    "\n",
    "c_ingredients = Counter([x[0] for x in food])\n",
    "\n",
    "i = 0\n",
    "for key, value in c_ingredients.items():\n",
    "    if value == 1: i+=1\n",
    "\n",
    "print(i)\n",
    "\n",
    "\n"
   ],
   "metadata": {
    "collapsed": false,
    "pycharm": {
     "name": "#%%\n"
    }
   }
  },
  {
   "cell_type": "code",
   "execution_count": 79,
   "outputs": [
    {
     "name": "stdout",
     "output_type": "stream",
     "text": [
      "      id      cuisine  ingredients  uncook medium shrimp, peel and devein  \\\n",
      "0  10259        greek            9                                      0   \n",
      "1  25693  southern_us           11                                      0   \n",
      "2  20130     filipino           12                                      0   \n",
      "3  22213       indian            4                                      0   \n",
      "4  13162       indian           20                                      0   \n",
      "\n",
      "   oysters  mango  skinless chicken thighs  cinnamon sugar  grated orange  \\\n",
      "0        0      0                        0               0              0   \n",
      "1        0      0                        0               0              0   \n",
      "2        0      0                        0               0              0   \n",
      "3        0      0                        0               0              0   \n",
      "4        0      0                        0               0              0   \n",
      "\n",
      "   cranberry sauce  ...  coconut aminos  swiss cheese  black bean sauce  pork  \\\n",
      "0                0  ...               0             0                 0     0   \n",
      "1                0  ...               0             0                 0     0   \n",
      "2                0  ...               0             0                 0     0   \n",
      "3                0  ...               0             0                 0     0   \n",
      "4                0  ...               0             0                 0     0   \n",
      "\n",
      "   instant yeast  black mustard seeds  beef  yellow squash  wonton wrappers  \\\n",
      "0              0                    0     0              0                0   \n",
      "1              0                    0     0              0                0   \n",
      "2              0                    0     0              0                0   \n",
      "3              0                    0     0              0                0   \n",
      "4              0                    0     0              0                0   \n",
      "\n",
      "   coriander seeds  \n",
      "0                0  \n",
      "1                0  \n",
      "2                0  \n",
      "3                0  \n",
      "4                0  \n",
      "\n",
      "[5 rows x 1321 columns]\n",
      "[]\n",
      "hello\n"
     ]
    }
   ],
   "source": [
    "def find_item(cell):\n",
    "    if item in cell:\n",
    "        return 1\n",
    "    return 0\n",
    "\n",
    "def make_list(cell):\n",
    "    result = []\n",
    "    for i in ingredients:\n",
    "        if cell[i].iloc[0] == 1:\n",
    "            result.append(i)\n",
    "    return result\n",
    "\n",
    "ingredients = set()\n",
    "for ingredient_list in [x['ingredients'] for x in recipes]:\n",
    "    for ingredient in ingredient_list:\n",
    "        ingredients.add(ingredient)\n",
    "\n",
    "df = pd.DataFrame(recipes)\n",
    "\n",
    "for item in ingredients:\n",
    "   df[item] = df['ingredients'].apply(find_item)\n",
    "\n",
    "df['ingredients'] = df['ingredients'].apply(len)\n",
    "\n",
    "print(df.head(5))\n",
    "\n",
    "ids = list(df['id'].unique())\n",
    "ingredients = list(df.columns)[3:]\n",
    "\n",
    "new_recipes = []\n",
    "for current_id in ids:\n",
    "    cuisine = df[df['id'] == current_id]['cuisine'].iloc[0]\n",
    "    current_ingredients = make_list(df[df['id'] == current_id])\n",
    "    current_recipe = {'cuisine': cuisine, 'id': int(current_id), 'ingredients': current_ingredients}\n",
    "    new_recipes.append(current_recipe)\n",
    "\n",
    "with open(\"new_recipes.json\", \"w\") as write_file:\n",
    "    json.dump(new_recipes, write_file)"
   ],
   "metadata": {
    "collapsed": false,
    "pycharm": {
     "name": "#%%\n"
    }
   }
  }
 ],
 "metadata": {
  "kernelspec": {
   "display_name": "Python 3",
   "language": "python",
   "name": "python3"
  },
  "language_info": {
   "codemirror_mode": {
    "name": "ipython",
    "version": 2
   },
   "file_extension": ".py",
   "mimetype": "text/x-python",
   "name": "python",
   "nbconvert_exporter": "python",
   "pygments_lexer": "ipython2",
   "version": "2.7.6"
  }
 },
 "nbformat": 4,
 "nbformat_minor": 0
}