{
 "cells": [
  {
   "cell_type": "code",
   "execution_count": 17,
   "metadata": {
    "collapsed": true
   },
   "outputs": [
    {
     "name": "stdout",
     "output_type": "stream",
     "text": [
      "Average department revenue forDanon: 700000\n"
     ]
    }
   ],
   "source": [
    "class DepartmentReport:\n",
    "\n",
    "    def __init__(self, company_name):\n",
    "        self.revenues = []\n",
    "        self.company_name = company_name\n",
    "\n",
    "    def add_revenue(self, amount):\n",
    "        self.revenues.append(amount)\n",
    "\n",
    "    def average_revenue(self):\n",
    "        avg = round(sum(self.revenues)/len(self.revenues))\n",
    "        return f'Average department revenue for{self.company_name}: {avg}'\n",
    "\n",
    "report = DepartmentReport(\"Danon\")\n",
    "report.add_revenue(1_000_000)\n",
    "report.add_revenue(400_000)\n",
    "\n",
    "print(report.average_revenue())"
   ]
  },
  {
   "cell_type": "code",
   "execution_count": 18,
   "outputs": [
    {
     "data": {
      "text/plain": "4"
     },
     "execution_count": 18,
     "metadata": {},
     "output_type": "execute_result"
    }
   ],
   "source": [
    "class IntDataFrame:\n",
    "    def __init__(self, values_list):\n",
    "        self.values_list = values_list\n",
    "        self.to_int()\n",
    "\n",
    "    def to_int(self):\n",
    "        self.values_list = [int(value) for value in self.values_list]\n",
    "\n",
    "    def count(self):\n",
    "        return len([x for x in self.values_list if x != 0])\n",
    "\n",
    "    def unique(self):\n",
    "        return len(set(self.values_list))\n",
    "\n",
    "\n",
    "\n",
    "df = IntDataFrame([4.7, 4, 3, 0, 2.4, 0.3, 4])\n",
    "\n",
    "df.count()\n",
    "# => 5\n",
    "df.unique()\n",
    "# => 4"
   ],
   "metadata": {
    "collapsed": false,
    "pycharm": {
     "name": "#%%\n"
    }
   }
  },
  {
   "cell_type": "code",
   "execution_count": 19,
   "outputs": [
    {
     "data": {
      "text/plain": "'System started'"
     },
     "execution_count": 19,
     "metadata": {},
     "output_type": "execute_result"
    }
   ],
   "source": [
    "class OwnLogger:\n",
    "    def __init__(self):\n",
    "        self.archive = []\n",
    "\n",
    "    def log(self, message, level):\n",
    "        self.archive.append({'msg': message, 'level': level})\n",
    "\n",
    "    def show_last(self, level='all'):\n",
    "        if level != 'all':\n",
    "            result = [x['msg'] for x in self.archive if x['level'] == level]\n",
    "        else:\n",
    "            result = [x['msg'] for x in self.archive]\n",
    "\n",
    "        if len(result) > 0:\n",
    "            return result[len(result)-1]\n",
    "        else:\n",
    "            return\n",
    "\n",
    "\n",
    "\n",
    "logger = OwnLogger()\n",
    "logger.log(\"System started\", \"info\")\n",
    "logger.show_last(\"error\")\n",
    "# => None\n",
    "# Некоторые интерпретаторы Python могут не выводить None, тогда в этой проверке у вас будет пустая строка\n",
    "logger.log(\"Connection instable\", \"warning\")\n",
    "logger.log(\"Connection lost\", \"error\")\n",
    "\n",
    "logger.show_last()\n",
    "# => Connection lost\n",
    "logger.show_last(\"info\")\n",
    "# => System started\n"
   ],
   "metadata": {
    "collapsed": false,
    "pycharm": {
     "name": "#%%\n"
    }
   }
  }
 ],
 "metadata": {
  "kernelspec": {
   "display_name": "Python 3",
   "language": "python",
   "name": "python3"
  },
  "language_info": {
   "codemirror_mode": {
    "name": "ipython",
    "version": 2
   },
   "file_extension": ".py",
   "mimetype": "text/x-python",
   "name": "python",
   "nbconvert_exporter": "python",
   "pygments_lexer": "ipython2",
   "version": "2.7.6"
  }
 },
 "nbformat": 4,
 "nbformat_minor": 0
}