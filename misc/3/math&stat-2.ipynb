{
 "cells": [
  {
   "cell_type": "code",
   "execution_count": 14,
   "metadata": {
    "collapsed": true
   },
   "outputs": [
    {
     "data": {
      "text/plain": "array([[0.],\n       [1.]])"
     },
     "execution_count": 14,
     "metadata": {},
     "output_type": "execute_result"
    }
   ],
   "source": [
    "import numpy as np\n",
    "\n",
    "A = np.array([[1,-3,1,1],[2,1,2,-1]]).T\n",
    "b = np.array([[1,4,5,0]]).T\n",
    "\n",
    "A = np.array([[1,1],[1,2]]).T\n",
    "b = np.array([[1,2]]).T\n",
    "\n",
    "A_gram = np.dot(A.T,A)\n",
    "\n",
    "A_gram_inv = np.linalg.inv(A_gram)\n",
    "\n",
    "w = np.dot(A_gram_inv,np.dot(A.T,b))\n",
    "\n",
    "w\n"
   ]
  }
 ],
 "metadata": {
  "kernelspec": {
   "display_name": "Python 3",
   "language": "python",
   "name": "python3"
  },
  "language_info": {
   "codemirror_mode": {
    "name": "ipython",
    "version": 2
   },
   "file_extension": ".py",
   "mimetype": "text/x-python",
   "name": "python",
   "nbconvert_exporter": "python",
   "pygments_lexer": "ipython2",
   "version": "2.7.6"
  }
 },
 "nbformat": 4,
 "nbformat_minor": 0
}