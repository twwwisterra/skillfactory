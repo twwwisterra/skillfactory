{
 "cells": [
  {
   "cell_type": "code",
   "execution_count": 1,
   "metadata": {
    "collapsed": true,
    "pycharm": {
     "name": "#%%\n"
    }
   },
   "outputs": [
    {
     "name": "stdout",
     "output_type": "stream",
     "text": [
      "-70\n"
     ]
    }
   ],
   "source": [
    "import pandas as pd\n",
    "data = pd.Series(list(range(10, 1001)))\n",
    "print(data.loc[10] + data.loc[23] - data.loc[245] + data.iloc[122])"
   ]
  },
  {
   "cell_type": "code",
   "execution_count": 5,
   "outputs": [
    {
     "name": "stdout",
     "output_type": "stream",
     "text": [
      "<class 'pandas.core.frame.DataFrame'>\n",
      "RangeIndex: 12897 entries, 0 to 12896\n",
      "Data columns (total 42 columns):\n",
      " #   Column           Non-Null Count  Dtype \n",
      "---  ------           --------------  ----- \n",
      " 0   Unnamed: 0       12897 non-null  int64 \n",
      " 1   Name             12897 non-null  object\n",
      " 2   Age              12897 non-null  int64 \n",
      " 3   Nationality      12897 non-null  object\n",
      " 4   Club             12897 non-null  object\n",
      " 5   Value            12897 non-null  int64 \n",
      " 6   Wage             12897 non-null  int64 \n",
      " 7   Position         12897 non-null  object\n",
      " 8   Crossing         12897 non-null  int64 \n",
      " 9   Finishing        12897 non-null  int64 \n",
      " 10  HeadingAccuracy  12897 non-null  int64 \n",
      " 11  ShortPassing     12897 non-null  int64 \n",
      " 12  Volleys          12897 non-null  int64 \n",
      " 13  Dribbling        12897 non-null  int64 \n",
      " 14  Curve            12897 non-null  int64 \n",
      " 15  FKAccuracy       12897 non-null  int64 \n",
      " 16  LongPassing      12897 non-null  int64 \n",
      " 17  BallControl      12897 non-null  int64 \n",
      " 18  Acceleration     12897 non-null  int64 \n",
      " 19  SprintSpeed      12897 non-null  int64 \n",
      " 20  Agility          12897 non-null  int64 \n",
      " 21  Reactions        12897 non-null  int64 \n",
      " 22  Balance          12897 non-null  int64 \n",
      " 23  ShotPower        12897 non-null  int64 \n",
      " 24  Jumping          12897 non-null  int64 \n",
      " 25  Stamina          12897 non-null  int64 \n",
      " 26  Strength         12897 non-null  int64 \n",
      " 27  LongShots        12897 non-null  int64 \n",
      " 28  Aggression       12897 non-null  int64 \n",
      " 29  Interceptions    12897 non-null  int64 \n",
      " 30  Positioning      12897 non-null  int64 \n",
      " 31  Vision           12897 non-null  int64 \n",
      " 32  Penalties        12897 non-null  int64 \n",
      " 33  Composure        12897 non-null  int64 \n",
      " 34  Marking          12897 non-null  int64 \n",
      " 35  StandingTackle   12897 non-null  int64 \n",
      " 36  SlidingTackle    12897 non-null  int64 \n",
      " 37  GKDiving         12897 non-null  int64 \n",
      " 38  GKHandling       12897 non-null  int64 \n",
      " 39  GKKicking        12897 non-null  int64 \n",
      " 40  GKPositioning    12897 non-null  int64 \n",
      " 41  GKReflexes       12897 non-null  int64 \n",
      "dtypes: int64(38), object(4)\n",
      "memory usage: 4.1+ MB\n"
     ]
    }
   ],
   "source": [
    "import pandas as pd\n",
    "\n",
    "football = pd.read_csv('data_sf.csv')\n",
    "football.info()"
   ],
   "metadata": {
    "collapsed": false,
    "pycharm": {
     "name": "#%%\n"
    }
   }
  },
  {
   "cell_type": "code",
   "execution_count": 13,
   "outputs": [
    {
     "data": {
      "text/plain": "                Name Nationality             Club Position\ncount          12897       12897            12897    12897\nunique         12326         156              650       27\ntop     J. Rodríguez     England  Shonan Bellmare       GK\nfreq               9        1368               30     1641",
      "text/html": "<div>\n<style scoped>\n    .dataframe tbody tr th:only-of-type {\n        vertical-align: middle;\n    }\n\n    .dataframe tbody tr th {\n        vertical-align: top;\n    }\n\n    .dataframe thead th {\n        text-align: right;\n    }\n</style>\n<table border=\"1\" class=\"dataframe\">\n  <thead>\n    <tr style=\"text-align: right;\">\n      <th></th>\n      <th>Name</th>\n      <th>Nationality</th>\n      <th>Club</th>\n      <th>Position</th>\n    </tr>\n  </thead>\n  <tbody>\n    <tr>\n      <th>count</th>\n      <td>12897</td>\n      <td>12897</td>\n      <td>12897</td>\n      <td>12897</td>\n    </tr>\n    <tr>\n      <th>unique</th>\n      <td>12326</td>\n      <td>156</td>\n      <td>650</td>\n      <td>27</td>\n    </tr>\n    <tr>\n      <th>top</th>\n      <td>J. Rodríguez</td>\n      <td>England</td>\n      <td>Shonan Bellmare</td>\n      <td>GK</td>\n    </tr>\n    <tr>\n      <th>freq</th>\n      <td>9</td>\n      <td>1368</td>\n      <td>30</td>\n      <td>1641</td>\n    </tr>\n  </tbody>\n</table>\n</div>"
     },
     "execution_count": 13,
     "metadata": {},
     "output_type": "execute_result"
    }
   ],
   "source": [
    "import pandas as pd\n",
    "\n",
    "football = pd.read_csv('data_sf.csv')\n",
    "football.describe(include=object)"
   ],
   "metadata": {
    "collapsed": false,
    "pycharm": {
     "name": "#%%\n"
    }
   }
  },
  {
   "cell_type": "code",
   "execution_count": 9,
   "outputs": [
    {
     "name": "stdout",
     "output_type": "stream",
     "text": [
      "         Unnamed: 0           Age         Value           Wage      Crossing  \\\n",
      "count  12897.000000  12897.000000  1.289700e+04   12897.000000  12897.000000   \n",
      "mean    6605.040862     24.795379  2.112449e+06    7517.562224     47.076374   \n",
      "std     3782.545526      4.872212  6.498424e+06   23061.985387     18.043470   \n",
      "min        0.000000     16.000000  0.000000e+00    1000.000000      5.000000   \n",
      "25%     3357.000000     21.000000  2.500000e+05    1000.000000     35.000000   \n",
      "50%     6622.000000     24.000000  5.000000e+05    2000.000000     51.000000   \n",
      "75%     9876.000000     28.000000  8.500000e+05    4000.000000     61.000000   \n",
      "max    13125.000000     45.000000  1.185000e+08  565000.000000     93.000000   \n",
      "\n",
      "          Finishing  HeadingAccuracy  ShortPassing       Volleys  \\\n",
      "count  12897.000000     12897.000000  12897.000000  12897.000000   \n",
      "mean      42.876328        50.202528     56.026983     40.295030   \n",
      "std       19.096935        17.281593     14.740436     17.080687   \n",
      "min        2.000000         4.000000      7.000000      4.000000   \n",
      "25%       28.000000        43.000000     50.000000     28.000000   \n",
      "50%       45.000000        54.000000     60.000000     41.000000   \n",
      "75%       59.000000        62.000000     65.000000     53.000000   \n",
      "max       95.000000        94.000000     93.000000     90.000000   \n",
      "\n",
      "          Dribbling         Curve    FKAccuracy   LongPassing   BallControl  \\\n",
      "count  12897.000000  12897.000000  12897.000000  12897.000000  12897.000000   \n",
      "mean      52.461735     44.264403     40.321625     50.115143     55.463596   \n",
      "std       18.871643     17.781283     16.718481     15.215160     16.692643   \n",
      "min        4.000000      6.000000      3.000000      9.000000      5.000000   \n",
      "25%       45.000000     32.000000     29.000000     40.000000     51.000000   \n",
      "50%       58.000000     45.000000     39.000000     53.000000     60.000000   \n",
      "75%       65.000000     58.000000     52.000000     61.000000     65.000000   \n",
      "max       97.000000     93.000000     94.000000     93.000000     96.000000   \n",
      "\n",
      "       Acceleration   SprintSpeed       Agility     Reactions       Balance  \\\n",
      "count  12897.000000  12897.000000  12897.000000  12897.000000  12897.000000   \n",
      "mean      63.109715     63.205629     61.819648     59.430565     63.171978   \n",
      "std       15.129988     14.903845     14.858729      8.875832     14.190700   \n",
      "min       12.000000     12.000000     15.000000     21.000000     16.000000   \n",
      "25%       55.000000     55.000000     53.000000     54.000000     55.000000   \n",
      "50%       66.000000     66.000000     64.000000     59.000000     65.000000   \n",
      "75%       74.000000     73.000000     72.000000     65.000000     73.000000   \n",
      "max       97.000000     96.000000     96.000000     96.000000     96.000000   \n",
      "\n",
      "          ShotPower       Jumping       Stamina      Strength     LongShots  \\\n",
      "count  12897.000000  12897.000000  12897.000000  12897.000000  12897.000000   \n",
      "mean      52.530666     64.285415     61.123052     64.271614     43.971931   \n",
      "std       16.975214     11.765467     16.194498     12.550696     18.769749   \n",
      "min        2.000000     15.000000     12.000000     17.000000      3.000000   \n",
      "25%       42.000000     57.000000     54.000000     57.000000     29.000000   \n",
      "50%       56.000000     65.000000     64.000000     65.000000     47.000000   \n",
      "75%       65.000000     72.000000     72.000000     73.000000     59.000000   \n",
      "max       95.000000     95.000000     96.000000     97.000000     94.000000   \n",
      "\n",
      "         Aggression  Interceptions   Positioning        Vision     Penalties  \\\n",
      "count  12897.000000   12897.000000  12897.000000  12897.000000  12897.000000   \n",
      "mean      53.777933      44.875940     47.166008     50.843374     46.459874   \n",
      "std       17.232716      20.188799     19.245882     13.745960     15.479313   \n",
      "min       11.000000       3.000000      2.000000     10.000000      5.000000   \n",
      "25%       41.000000      24.000000     35.000000     42.000000     37.000000   \n",
      "50%       56.000000      51.000000     52.000000     52.000000     47.000000   \n",
      "75%       67.000000      62.000000     61.000000     60.000000     58.000000   \n",
      "max       95.000000      92.000000     95.000000     94.000000     91.000000   \n",
      "\n",
      "          Composure       Marking  StandingTackle  SlidingTackle  \\\n",
      "count  12897.000000  12897.000000    12897.000000   12897.000000   \n",
      "mean      55.942932     45.655811       46.186710      44.386679   \n",
      "std       11.280631     19.456346       21.172586      20.726546   \n",
      "min       12.000000      3.000000        2.000000       3.000000   \n",
      "25%       49.000000     29.000000       25.000000      23.000000   \n",
      "50%       56.000000     51.000000       54.000000      51.000000   \n",
      "75%       63.000000     62.000000       64.000000      62.000000   \n",
      "max       96.000000     93.000000       93.000000      91.000000   \n",
      "\n",
      "           GKDiving    GKHandling     GKKicking  GKPositioning    GKReflexes  \n",
      "count  12897.000000  12897.000000  12897.000000   12897.000000  12897.000000  \n",
      "mean      17.218345     16.962317     16.797938      16.950221     17.315965  \n",
      "std       18.085618     17.349624     16.971411      17.369297     18.335817  \n",
      "min        1.000000      1.000000      1.000000       1.000000      1.000000  \n",
      "25%        8.000000      8.000000      8.000000       8.000000      8.000000  \n",
      "50%       11.000000     11.000000     11.000000      11.000000     11.000000  \n",
      "75%       14.000000     14.000000     14.000000      14.000000     14.000000  \n",
      "max       90.000000     92.000000     91.000000      90.000000     94.000000  \n"
     ]
    }
   ],
   "source": [
    "import pandas as pd\n",
    "\n",
    "football = pd.read_csv('data_sf.csv')\n",
    "with pd.option_context('display.max_rows', None, 'display.max_columns', None):\n",
    "    print(football.describe())\n"
   ],
   "metadata": {
    "collapsed": false,
    "pycharm": {
     "name": "#%%\n"
    }
   }
  },
  {
   "cell_type": "code",
   "execution_count": 20,
   "outputs": [
    {
     "data": {
      "text/plain": "0"
     },
     "execution_count": 20,
     "metadata": {},
     "output_type": "execute_result"
    }
   ],
   "source": [
    "import pandas as pd\n",
    "\n",
    "football = pd.read_csv('data_sf.csv')\n",
    "football.Value.min()\n",
    "\n"
   ],
   "metadata": {
    "collapsed": false,
    "pycharm": {
     "name": "#%%\n"
    }
   }
  },
  {
   "cell_type": "code",
   "execution_count": 22,
   "outputs": [
    {
     "data": {
      "text/plain": "77454.54545454546"
     },
     "execution_count": 22,
     "metadata": {},
     "output_type": "execute_result"
    }
   ],
   "source": [
    "import pandas as pd\n",
    "football = pd.read_csv('data_sf.csv')\n",
    "\n",
    "football[\n",
    "    (football.Age < football.Age.mean()) &\n",
    "    (football.Club == 'FC Barcelona')\n",
    "    ].Wage.mean()"
   ],
   "metadata": {
    "collapsed": false,
    "pycharm": {
     "name": "#%%\n"
    }
   }
  },
  {
   "cell_type": "code",
   "execution_count": 24,
   "outputs": [
    {
     "data": {
      "text/plain": "67.56638061585058"
     },
     "execution_count": 24,
     "metadata": {},
     "output_type": "execute_result"
    }
   ],
   "source": [
    "import pandas as pd\n",
    "football = pd.read_csv('data_sf.csv')\n",
    "\n",
    "football[\n",
    "    football.Wage > football.Wage.mean()\n",
    "].SprintSpeed.mean()\n"
   ],
   "metadata": {
    "collapsed": false,
    "pycharm": {
     "name": "#%%\n"
    }
   }
  },
  {
   "cell_type": "code",
   "execution_count": 25,
   "outputs": [
    {
     "data": {
      "text/plain": "62.41425430560645"
     },
     "execution_count": 25,
     "metadata": {},
     "output_type": "execute_result"
    }
   ],
   "source": [
    "import pandas as pd\n",
    "football = pd.read_csv('data_sf.csv')\n",
    "\n",
    "football[\n",
    "    football.Wage < football.Wage.mean()\n",
    "].SprintSpeed.mean()"
   ],
   "metadata": {
    "collapsed": false,
    "pycharm": {
     "name": "#%%\n"
    }
   }
  },
  {
   "cell_type": "code",
   "execution_count": 26,
   "outputs": [
    {
     "data": {
      "text/plain": "0    RF\nName: Position, dtype: object"
     },
     "execution_count": 26,
     "metadata": {},
     "output_type": "execute_result"
    }
   ],
   "source": [
    "import pandas as pd\n",
    "football = pd.read_csv('data_sf.csv')\n",
    "\n",
    "football[\n",
    "    football.Wage == football.Wage.max()\n",
    "].Position\n",
    "\n"
   ],
   "metadata": {
    "collapsed": false,
    "pycharm": {
     "name": "#%%\n"
    }
   }
  },
  {
   "cell_type": "code",
   "execution_count": 27,
   "outputs": [
    {
     "data": {
      "text/plain": "22789"
     },
     "execution_count": 27,
     "metadata": {},
     "output_type": "execute_result"
    }
   ],
   "source": [
    "import pandas as pd\n",
    "football = pd.read_csv('data_sf.csv')\n",
    "\n",
    "football[\n",
    "    football.Nationality == 'Brazil'\n",
    "].Penalties.sum()\n",
    "\n"
   ],
   "metadata": {
    "collapsed": false,
    "pycharm": {
     "name": "#%%\n"
    }
   }
  },
  {
   "cell_type": "code",
   "execution_count": 28,
   "outputs": [
    {
     "data": {
      "text/plain": "25.58771113179944"
     },
     "execution_count": 28,
     "metadata": {},
     "output_type": "execute_result"
    }
   ],
   "source": [
    "import pandas as pd\n",
    "football = pd.read_csv('data_sf.csv')\n",
    "\n",
    "football[\n",
    "    football.HeadingAccuracy > 50\n",
    "].Age.mean()\n",
    "\n"
   ],
   "metadata": {
    "collapsed": false,
    "pycharm": {
     "name": "#%%\n"
    }
   }
  },
  {
   "cell_type": "code",
   "execution_count": 29,
   "outputs": [
    {
     "data": {
      "text/plain": "24"
     },
     "execution_count": 29,
     "metadata": {},
     "output_type": "execute_result"
    }
   ],
   "source": [
    "import pandas as pd\n",
    "football = pd.read_csv('data_sf.csv')\n",
    "\n",
    "football[\n",
    "    (football.Reactions > football.Reactions.max()*0.9)\n",
    "    &\n",
    "    (football.Composure > football.Composure.max()*0.9)\n",
    "].Age.min()\n",
    "\n"
   ],
   "metadata": {
    "collapsed": false,
    "pycharm": {
     "name": "#%%\n"
    }
   }
  },
  {
   "cell_type": "code",
   "execution_count": 32,
   "outputs": [
    {
     "data": {
      "text/plain": "22.642857142857146"
     },
     "execution_count": 32,
     "metadata": {},
     "output_type": "execute_result"
    }
   ],
   "source": [
    "import pandas as pd\n",
    "football = pd.read_csv('data_sf.csv')\n",
    "\n",
    "football[\n",
    "    football.Age == football.Age.max()\n",
    "].Reactions.mean()-football[\n",
    "    football.Age == football.Age.min()\n",
    "].Reactions.mean()\n"
   ],
   "metadata": {
    "collapsed": false,
    "pycharm": {
     "name": "#%%\n"
    }
   }
  },
  {
   "cell_type": "code",
   "execution_count": 45,
   "outputs": [
    {
     "data": {
      "text/plain": "'Spain'"
     },
     "execution_count": 45,
     "metadata": {},
     "output_type": "execute_result"
    }
   ],
   "source": [
    "import pandas as pd\n",
    "football = pd.read_csv('data_sf.csv')\n",
    "\n",
    "'''!!!!!!!!!!! count most frequent string values in column !!!!!!!!!!!'''\n",
    "football[\n",
    "    football.Value > football.Value.mean()\n",
    "].Nationality.value_counts().idxmax()\n",
    "'''!!!!!!!!!!! count most frequent string values in column !!!!!!!!!!!'''"
   ],
   "metadata": {
    "collapsed": false,
    "pycharm": {
     "name": "#%%\n"
    }
   }
  },
  {
   "cell_type": "code",
   "execution_count": 46,
   "outputs": [
    {
     "data": {
      "text/plain": "2.765957446808511"
     },
     "execution_count": 46,
     "metadata": {},
     "output_type": "execute_result"
    }
   ],
   "source": [
    "import pandas as pd\n",
    "football = pd.read_csv('data_sf.csv')\n",
    "\n",
    "football[\n",
    "    football.GKReflexes == football.GKReflexes.max()\n",
    "].Wage.mean()/football[\n",
    "    football.GKHandling == football.GKHandling.max()\n",
    "].Wage.mean()\n",
    "\n"
   ],
   "metadata": {
    "collapsed": false,
    "pycharm": {
     "name": "#%%\n"
    }
   }
  },
  {
   "cell_type": "code",
   "execution_count": 47,
   "outputs": [
    {
     "data": {
      "text/plain": "2.076923076923077"
     },
     "execution_count": 47,
     "metadata": {},
     "output_type": "execute_result"
    }
   ],
   "source": [
    "import pandas as pd\n",
    "football = pd.read_csv('data_sf.csv')\n",
    "\n",
    "football[\n",
    "    football.Aggression == football.Aggression.max()\n",
    "].ShotPower.mean()/football[\n",
    "    football.Aggression == football.Aggression.min()\n",
    "].ShotPower.mean()\n",
    "\n"
   ],
   "metadata": {
    "collapsed": false,
    "pycharm": {
     "name": "#%%\n"
    }
   }
  },
  {
   "cell_type": "code",
   "execution_count": 49,
   "outputs": [
    {
     "name": "stdout",
     "output_type": "stream",
     "text": [
      "<class 'pandas.core.series.Series'>\n",
      "0        False\n",
      "1        False\n",
      "2        False\n",
      "3        False\n",
      "4        False\n",
      "         ...  \n",
      "12892    False\n",
      "12893    False\n",
      "12894    False\n",
      "12895    False\n",
      "12896    False\n",
      "Name: Aggression, Length: 12897, dtype: bool\n"
     ]
    },
    {
     "data": {
      "text/plain": "2.076923076923077"
     },
     "execution_count": 49,
     "metadata": {},
     "output_type": "execute_result"
    }
   ],
   "source": [
    "import pandas as pd\n",
    "football = pd.read_csv('data_sf.csv')\n",
    "\n",
    "filter_max = football.Aggression == football.Aggression.max()\n",
    "filter_min = football.Aggression == football.Aggression.min()\n",
    "\n",
    "football[filter_max].ShotPower.mean()/football[filter_min].ShotPower.mean()"
   ],
   "metadata": {
    "collapsed": false,
    "pycharm": {
     "name": "#%%\n"
    }
   }
  },
  {
   "cell_type": "code",
   "execution_count": 50,
   "outputs": [
    {
     "data": {
      "text/plain": "2.076923076923077"
     },
     "execution_count": 50,
     "metadata": {},
     "output_type": "execute_result"
    }
   ],
   "source": [
    "import pandas as pd\n",
    "football = pd.read_csv('data_sf.csv')\n",
    "\n",
    "filter_max = football.Aggression == football.Aggression.max()\n",
    "filter_min = football.Aggression == football.Aggression.min()\n",
    "\n",
    "football.loc[filter_max].ShotPower.mean()/football.loc[filter_min].ShotPower.mean()\n",
    "\n"
   ],
   "metadata": {
    "collapsed": false,
    "pycharm": {
     "name": "#%%\n"
    }
   }
  },
  {
   "cell_type": "code",
   "execution_count": 57,
   "outputs": [
    {
     "data": {
      "text/plain": "Olympiacos CFP       8\nDinamo Zagreb        7\nVitória Guimarães    7\nGD Chaves            7\nAtlético Mineiro     6\nName: Club, dtype: int64"
     },
     "execution_count": 57,
     "metadata": {},
     "output_type": "execute_result"
    }
   ],
   "source": [
    "import pandas as pd\n",
    "football = pd.read_csv('data_sf.csv')\n",
    "\n",
    "football.Club.value_counts().tail()\n"
   ],
   "metadata": {
    "collapsed": false,
    "pycharm": {
     "name": "#%%\n"
    }
   }
  },
  {
   "cell_type": "code",
   "execution_count": 60,
   "outputs": [
    {
     "data": {
      "text/plain": "GK    0.127239\nST    0.117237\nCB    0.108785\nCM    0.082732\nLB    0.077692\nName: Position, dtype: float64"
     },
     "execution_count": 60,
     "metadata": {},
     "output_type": "execute_result"
    }
   ],
   "source": [
    "import pandas as pd\n",
    "football = pd.read_csv('data_sf.csv')\n",
    "\n",
    "football.Position.value_counts(normalize=True).head()\n",
    "\n"
   ],
   "metadata": {
    "collapsed": false,
    "pycharm": {
     "name": "#%%\n"
    }
   }
  },
  {
   "cell_type": "code",
   "execution_count": null,
   "outputs": [],
   "source": [],
   "metadata": {
    "collapsed": false,
    "pycharm": {
     "name": "#%%\n"
    }
   }
  },
  {
   "cell_type": "code",
   "execution_count": 65,
   "outputs": [
    {
     "ename": "IndexingError",
     "evalue": "Unalignable boolean Series provided as indexer (index of the boolean Series and of the indexed object do not match).",
     "output_type": "error",
     "traceback": [
      "\u001B[1;31m---------------------------------------------------------------------------\u001B[0m",
      "\u001B[1;31mIndexingError\u001B[0m                             Traceback (most recent call last)",
      "\u001B[1;32m<ipython-input-65-454bd8c0e39e>\u001B[0m in \u001B[0;36m<module>\u001B[1;34m\u001B[0m\n\u001B[0;32m      3\u001B[0m \u001B[1;33m\u001B[0m\u001B[0m\n\u001B[0;32m      4\u001B[0m \u001B[0mfilter_low_pcnt\u001B[0m \u001B[1;33m=\u001B[0m \u001B[0mfootball\u001B[0m\u001B[1;33m.\u001B[0m\u001B[0mPosition\u001B[0m\u001B[1;33m.\u001B[0m\u001B[0mvalue_counts\u001B[0m\u001B[1;33m(\u001B[0m\u001B[0mnormalize\u001B[0m\u001B[1;33m=\u001B[0m\u001B[1;32mTrue\u001B[0m\u001B[1;33m)\u001B[0m \u001B[1;33m<\u001B[0m \u001B[1;36m0.01\u001B[0m\u001B[1;33m\u001B[0m\u001B[1;33m\u001B[0m\u001B[0m\n\u001B[1;32m----> 5\u001B[1;33m \u001B[0mfootball\u001B[0m\u001B[1;33m.\u001B[0m\u001B[0mPosition\u001B[0m\u001B[1;33m.\u001B[0m\u001B[0mloc\u001B[0m\u001B[1;33m[\u001B[0m\u001B[0mfilter_low_pcnt\u001B[0m\u001B[1;33m]\u001B[0m\u001B[1;33m\u001B[0m\u001B[1;33m\u001B[0m\u001B[0m\n\u001B[0m\u001B[0;32m      6\u001B[0m \u001B[1;33m\u001B[0m\u001B[0m\n",
      "\u001B[1;32m~\\anaconda3\\envs\\skillfactory\\lib\\site-packages\\pandas\\core\\indexing.py\u001B[0m in \u001B[0;36m__getitem__\u001B[1;34m(self, key)\u001B[0m\n\u001B[0;32m    877\u001B[0m \u001B[1;33m\u001B[0m\u001B[0m\n\u001B[0;32m    878\u001B[0m             \u001B[0mmaybe_callable\u001B[0m \u001B[1;33m=\u001B[0m \u001B[0mcom\u001B[0m\u001B[1;33m.\u001B[0m\u001B[0mapply_if_callable\u001B[0m\u001B[1;33m(\u001B[0m\u001B[0mkey\u001B[0m\u001B[1;33m,\u001B[0m \u001B[0mself\u001B[0m\u001B[1;33m.\u001B[0m\u001B[0mobj\u001B[0m\u001B[1;33m)\u001B[0m\u001B[1;33m\u001B[0m\u001B[1;33m\u001B[0m\u001B[0m\n\u001B[1;32m--> 879\u001B[1;33m             \u001B[1;32mreturn\u001B[0m \u001B[0mself\u001B[0m\u001B[1;33m.\u001B[0m\u001B[0m_getitem_axis\u001B[0m\u001B[1;33m(\u001B[0m\u001B[0mmaybe_callable\u001B[0m\u001B[1;33m,\u001B[0m \u001B[0maxis\u001B[0m\u001B[1;33m=\u001B[0m\u001B[0maxis\u001B[0m\u001B[1;33m)\u001B[0m\u001B[1;33m\u001B[0m\u001B[1;33m\u001B[0m\u001B[0m\n\u001B[0m\u001B[0;32m    880\u001B[0m \u001B[1;33m\u001B[0m\u001B[0m\n\u001B[0;32m    881\u001B[0m     \u001B[1;32mdef\u001B[0m \u001B[0m_is_scalar_access\u001B[0m\u001B[1;33m(\u001B[0m\u001B[0mself\u001B[0m\u001B[1;33m,\u001B[0m \u001B[0mkey\u001B[0m\u001B[1;33m:\u001B[0m \u001B[0mTuple\u001B[0m\u001B[1;33m)\u001B[0m\u001B[1;33m:\u001B[0m\u001B[1;33m\u001B[0m\u001B[1;33m\u001B[0m\u001B[0m\n",
      "\u001B[1;32m~\\anaconda3\\envs\\skillfactory\\lib\\site-packages\\pandas\\core\\indexing.py\u001B[0m in \u001B[0;36m_getitem_axis\u001B[1;34m(self, key, axis)\u001B[0m\n\u001B[0;32m   1088\u001B[0m             \u001B[1;32mreturn\u001B[0m \u001B[0mself\u001B[0m\u001B[1;33m.\u001B[0m\u001B[0m_get_slice_axis\u001B[0m\u001B[1;33m(\u001B[0m\u001B[0mkey\u001B[0m\u001B[1;33m,\u001B[0m \u001B[0maxis\u001B[0m\u001B[1;33m=\u001B[0m\u001B[0maxis\u001B[0m\u001B[1;33m)\u001B[0m\u001B[1;33m\u001B[0m\u001B[1;33m\u001B[0m\u001B[0m\n\u001B[0;32m   1089\u001B[0m         \u001B[1;32melif\u001B[0m \u001B[0mcom\u001B[0m\u001B[1;33m.\u001B[0m\u001B[0mis_bool_indexer\u001B[0m\u001B[1;33m(\u001B[0m\u001B[0mkey\u001B[0m\u001B[1;33m)\u001B[0m\u001B[1;33m:\u001B[0m\u001B[1;33m\u001B[0m\u001B[1;33m\u001B[0m\u001B[0m\n\u001B[1;32m-> 1090\u001B[1;33m             \u001B[1;32mreturn\u001B[0m \u001B[0mself\u001B[0m\u001B[1;33m.\u001B[0m\u001B[0m_getbool_axis\u001B[0m\u001B[1;33m(\u001B[0m\u001B[0mkey\u001B[0m\u001B[1;33m,\u001B[0m \u001B[0maxis\u001B[0m\u001B[1;33m=\u001B[0m\u001B[0maxis\u001B[0m\u001B[1;33m)\u001B[0m\u001B[1;33m\u001B[0m\u001B[1;33m\u001B[0m\u001B[0m\n\u001B[0m\u001B[0;32m   1091\u001B[0m         \u001B[1;32melif\u001B[0m \u001B[0mis_list_like_indexer\u001B[0m\u001B[1;33m(\u001B[0m\u001B[0mkey\u001B[0m\u001B[1;33m)\u001B[0m\u001B[1;33m:\u001B[0m\u001B[1;33m\u001B[0m\u001B[1;33m\u001B[0m\u001B[0m\n\u001B[0;32m   1092\u001B[0m \u001B[1;33m\u001B[0m\u001B[0m\n",
      "\u001B[1;32m~\\anaconda3\\envs\\skillfactory\\lib\\site-packages\\pandas\\core\\indexing.py\u001B[0m in \u001B[0;36m_getbool_axis\u001B[1;34m(self, key, axis)\u001B[0m\n\u001B[0;32m    894\u001B[0m         \u001B[1;31m# caller is responsible for ensuring non-None axis\u001B[0m\u001B[1;33m\u001B[0m\u001B[1;33m\u001B[0m\u001B[1;33m\u001B[0m\u001B[0m\n\u001B[0;32m    895\u001B[0m         \u001B[0mlabels\u001B[0m \u001B[1;33m=\u001B[0m \u001B[0mself\u001B[0m\u001B[1;33m.\u001B[0m\u001B[0mobj\u001B[0m\u001B[1;33m.\u001B[0m\u001B[0m_get_axis\u001B[0m\u001B[1;33m(\u001B[0m\u001B[0maxis\u001B[0m\u001B[1;33m)\u001B[0m\u001B[1;33m\u001B[0m\u001B[1;33m\u001B[0m\u001B[0m\n\u001B[1;32m--> 896\u001B[1;33m         \u001B[0mkey\u001B[0m \u001B[1;33m=\u001B[0m \u001B[0mcheck_bool_indexer\u001B[0m\u001B[1;33m(\u001B[0m\u001B[0mlabels\u001B[0m\u001B[1;33m,\u001B[0m \u001B[0mkey\u001B[0m\u001B[1;33m)\u001B[0m\u001B[1;33m\u001B[0m\u001B[1;33m\u001B[0m\u001B[0m\n\u001B[0m\u001B[0;32m    897\u001B[0m         \u001B[0minds\u001B[0m \u001B[1;33m=\u001B[0m \u001B[0mkey\u001B[0m\u001B[1;33m.\u001B[0m\u001B[0mnonzero\u001B[0m\u001B[1;33m(\u001B[0m\u001B[1;33m)\u001B[0m\u001B[1;33m[\u001B[0m\u001B[1;36m0\u001B[0m\u001B[1;33m]\u001B[0m\u001B[1;33m\u001B[0m\u001B[1;33m\u001B[0m\u001B[0m\n\u001B[0;32m    898\u001B[0m         \u001B[1;32mreturn\u001B[0m \u001B[0mself\u001B[0m\u001B[1;33m.\u001B[0m\u001B[0mobj\u001B[0m\u001B[1;33m.\u001B[0m\u001B[0m_take_with_is_copy\u001B[0m\u001B[1;33m(\u001B[0m\u001B[0minds\u001B[0m\u001B[1;33m,\u001B[0m \u001B[0maxis\u001B[0m\u001B[1;33m=\u001B[0m\u001B[0maxis\u001B[0m\u001B[1;33m)\u001B[0m\u001B[1;33m\u001B[0m\u001B[1;33m\u001B[0m\u001B[0m\n",
      "\u001B[1;32m~\\anaconda3\\envs\\skillfactory\\lib\\site-packages\\pandas\\core\\indexing.py\u001B[0m in \u001B[0;36mcheck_bool_indexer\u001B[1;34m(index, key)\u001B[0m\n\u001B[0;32m   2182\u001B[0m         \u001B[0mmask\u001B[0m \u001B[1;33m=\u001B[0m \u001B[0misna\u001B[0m\u001B[1;33m(\u001B[0m\u001B[0mresult\u001B[0m\u001B[1;33m.\u001B[0m\u001B[0m_values\u001B[0m\u001B[1;33m)\u001B[0m\u001B[1;33m\u001B[0m\u001B[1;33m\u001B[0m\u001B[0m\n\u001B[0;32m   2183\u001B[0m         \u001B[1;32mif\u001B[0m \u001B[0mmask\u001B[0m\u001B[1;33m.\u001B[0m\u001B[0many\u001B[0m\u001B[1;33m(\u001B[0m\u001B[1;33m)\u001B[0m\u001B[1;33m:\u001B[0m\u001B[1;33m\u001B[0m\u001B[1;33m\u001B[0m\u001B[0m\n\u001B[1;32m-> 2184\u001B[1;33m             raise IndexingError(\n\u001B[0m\u001B[0;32m   2185\u001B[0m                 \u001B[1;34m\"Unalignable boolean Series provided as \"\u001B[0m\u001B[1;33m\u001B[0m\u001B[1;33m\u001B[0m\u001B[0m\n\u001B[0;32m   2186\u001B[0m                 \u001B[1;34m\"indexer (index of the boolean Series and of \"\u001B[0m\u001B[1;33m\u001B[0m\u001B[1;33m\u001B[0m\u001B[0m\n",
      "\u001B[1;31mIndexingError\u001B[0m: Unalignable boolean Series provided as indexer (index of the boolean Series and of the indexed object do not match)."
     ]
    }
   ],
   "source": [
    "import pandas as pd\n",
    "football = pd.read_csv('data_sf.csv')\n",
    "\n",
    "football.Position.value_counts(normalize=True) < 0.01"
   ],
   "metadata": {
    "collapsed": false,
    "pycharm": {
     "name": "#%%\n"
    }
   }
  },
  {
   "cell_type": "code",
   "execution_count": 77,
   "outputs": [
    {
     "data": {
      "text/plain": "        Name    Wage\n0   L. Messi  565000\n7  L. Suárez  455000",
      "text/html": "<div>\n<style scoped>\n    .dataframe tbody tr th:only-of-type {\n        vertical-align: middle;\n    }\n\n    .dataframe tbody tr th {\n        vertical-align: top;\n    }\n\n    .dataframe thead th {\n        text-align: right;\n    }\n</style>\n<table border=\"1\" class=\"dataframe\">\n  <thead>\n    <tr style=\"text-align: right;\">\n      <th></th>\n      <th>Name</th>\n      <th>Wage</th>\n    </tr>\n  </thead>\n  <tbody>\n    <tr>\n      <th>0</th>\n      <td>L. Messi</td>\n      <td>565000</td>\n    </tr>\n    <tr>\n      <th>7</th>\n      <td>L. Suárez</td>\n      <td>455000</td>\n    </tr>\n  </tbody>\n</table>\n</div>"
     },
     "execution_count": 77,
     "metadata": {},
     "output_type": "execute_result"
    }
   ],
   "source": [
    "import pandas as pd\n",
    "football = pd.read_csv('data_sf.csv')\n",
    "\n",
    "gr_wage = football.Wage.value_counts(bins=4)\n",
    "filter_left = football.Wage > gr_wage.index[3].left\n",
    "filter_right = football.Wage <= gr_wage.index[3].right\n",
    "\n",
    "columns_brief = ['Name','Wage']\n",
    "football[filter_left & filter_right][columns_brief]"
   ],
   "metadata": {
    "collapsed": false,
    "pycharm": {
     "name": "#%%\n"
    }
   }
  },
  {
   "cell_type": "code",
   "execution_count": 79,
   "outputs": [
    {
     "data": {
      "text/plain": "(21.2, 39.4]     4859\n(39.4, 57.6]     3957\n(57.6, 75.8]     2108\n(2.908, 21.2]    1760\n(75.8, 94.0]      213\nName: FKAccuracy, dtype: int64"
     },
     "execution_count": 79,
     "metadata": {},
     "output_type": "execute_result"
    }
   ],
   "source": [
    "import pandas as pd\n",
    "football = pd.read_csv('data_sf.csv')\n",
    "\n",
    "football.FKAccuracy.value_counts(bins=5)\n"
   ],
   "metadata": {
    "collapsed": false,
    "pycharm": {
     "name": "#%%\n"
    }
   }
  },
  {
   "cell_type": "code",
   "execution_count": 126,
   "outputs": [
    {
     "name": "stdout",
     "output_type": "stream",
     "text": [
      "97.0193740685544\n"
     ]
    },
    {
     "data": {
      "text/plain": "(620.999, 95750.0]      97.019374\n(95750.0, 190500.0]      1.639344\n(190500.0, 285250.0]     0.894188\n(285250.0, 380000.0]     0.447094\nName: Wage, dtype: float64"
     },
     "execution_count": 126,
     "metadata": {},
     "output_type": "execute_result"
    }
   ],
   "source": [
    "import pandas as pd\n",
    "football = pd.read_csv('data_sf.csv')\n",
    "\n",
    "interval_wage = min(football.query('Nationality == \"Spain\"').Wage.value_counts(bins=4).index)\n",
    "\n",
    "spain_lowest = len(football.query('Nationality == \"Spain\" & Wage >= @interval_wage.left & Wage < @interval_wage.right'))\n",
    "spain_total = len(football.query('Nationality == \"Spain\"'))\n",
    "\n",
    "print(spain_lowest/spain_total*100)\n",
    "\n",
    "football.query('Nationality == \"Spain\"').Wage.value_counts(bins=4, normalize=True)*100  # lol"
   ],
   "metadata": {
    "collapsed": false,
    "pycharm": {
     "name": "#%%\n"
    }
   }
  },
  {
   "cell_type": "code",
   "execution_count": 127,
   "outputs": [
    {
     "data": {
      "text/plain": "13"
     },
     "execution_count": 127,
     "metadata": {},
     "output_type": "execute_result"
    }
   ],
   "source": [
    "import pandas as pd\n",
    "football = pd.read_csv('data_sf.csv')\n",
    "\n",
    "football.query('Club == \"Manchester United\"').Nationality.nunique()"
   ],
   "metadata": {
    "collapsed": false,
    "pycharm": {
     "name": "#%%\n"
    }
   }
  },
  {
   "cell_type": "code",
   "execution_count": 135,
   "outputs": [
    {
     "name": "stdout",
     "output_type": "stream",
     "text": [
      "['Alex Sandro', 'Douglas Costa']\n"
     ]
    }
   ],
   "source": [
    "import pandas as pd\n",
    "football = pd.read_csv('data_sf.csv')\n",
    "\n",
    "print(sorted(football.query('Club == \"Juventus\" & Nationality == \"Brazil\"').Name.unique()))\n"
   ],
   "metadata": {
    "collapsed": false,
    "pycharm": {
     "name": "#%%\n"
    }
   }
  },
  {
   "cell_type": "code",
   "execution_count": 136,
   "outputs": [
    {
     "data": {
      "text/plain": "Club Atlético Huracán         4\nHokkaido Consadole Sapporo    4\nClub Atlético Talleres        3\nBenevento                     3\nHammarby IF                   3\n                             ..\nAccrington Stanley            1\nSpVgg Unterhaching            1\nKristiansund BK               1\nSparta Praha                  1\nSwindon Town                  1\nName: Club, Length: 212, dtype: int64"
     },
     "execution_count": 136,
     "metadata": {},
     "output_type": "execute_result"
    }
   ],
   "source": [
    "import pandas as pd\n",
    "football = pd.read_csv('data_sf.csv')\n",
    "\n",
    "football.query('Age > 35').Club.value_counts()\n",
    "\n"
   ],
   "metadata": {
    "collapsed": false,
    "pycharm": {
     "name": "#%%\n"
    }
   }
  },
  {
   "cell_type": "code",
   "execution_count": 138,
   "outputs": [
    {
     "data": {
      "text/plain": "(22.25, 28.5]      200\n(15.974, 22.25]    197\n(28.5, 34.75]      128\n(34.75, 41.0]       49\nName: Age, dtype: int64"
     },
     "execution_count": 138,
     "metadata": {},
     "output_type": "execute_result"
    }
   ],
   "source": [
    "import pandas as pd\n",
    "football = pd.read_csv('data_sf.csv')\n",
    "\n",
    "football.query(\"Nationality == 'Argentina'\").Age.value_counts(bins=4)\n"
   ],
   "metadata": {
    "collapsed": false,
    "pycharm": {
     "name": "#%%\n"
    }
   }
  },
  {
   "cell_type": "code",
   "execution_count": 142,
   "outputs": [
    {
     "data": {
      "text/plain": "11.773472429210134"
     },
     "execution_count": 142,
     "metadata": {},
     "output_type": "execute_result"
    }
   ],
   "source": [
    "import pandas as pd\n",
    "football = pd.read_csv('data_sf.csv')\n",
    "\n",
    "football.query(\"Nationality == 'Spain'\").Age.value_counts(normalize=True).loc[21]*100\n"
   ],
   "metadata": {
    "collapsed": false,
    "pycharm": {
     "name": "#%%\n"
    }
   }
  },
  {
   "cell_type": "code",
   "execution_count": 146,
   "outputs": [
    {
     "data": {
      "text/plain": "Position\nST     11873000\nGK      8784000\nCB      7476000\nCM      6194000\nLB      6096000\nCAM     5500000\nLM      5440000\nRM      5098000\nRB      5034000\nCDM     4921000\nRCB     4711000\nLCB     3989000\nRW      3276000\nRCM     3241000\nLCM     3145000\nLW      2945000\nLS      1866000\nRDM     1557000\nRS      1537000\nLDM     1516000\nRF       714000\nLF       601000\nRWB      420000\nLAM      366000\nLWB      347000\nCF       248000\nRAM       59000\nName: Wage, dtype: int64"
     },
     "execution_count": 146,
     "metadata": {},
     "output_type": "execute_result"
    }
   ],
   "source": [
    "import pandas as pd\n",
    "football = pd.read_csv('data_sf.csv')\n",
    "\n",
    "football.groupby(['Position']).Wage.sum().sort_values(ascending=False)"
   ],
   "metadata": {
    "collapsed": false,
    "pycharm": {
     "name": "#%%\n"
    }
   }
  },
  {
   "cell_type": "code",
   "execution_count": 151,
   "outputs": [
    {
     "data": {
      "text/plain": "              Wage        Value\nPosition                       \nLF        75,125.0 27,362,500.0\nRF       119,000.0 26,365,833.3\nLAM       61,000.0 13,245,833.3\nRAM       11,800.0  8,345,000.0\nLS        15,421.5  5,848,429.8",
      "text/html": "<div>\n<style scoped>\n    .dataframe tbody tr th:only-of-type {\n        vertical-align: middle;\n    }\n\n    .dataframe tbody tr th {\n        vertical-align: top;\n    }\n\n    .dataframe thead th {\n        text-align: right;\n    }\n</style>\n<table border=\"1\" class=\"dataframe\">\n  <thead>\n    <tr style=\"text-align: right;\">\n      <th></th>\n      <th>Wage</th>\n      <th>Value</th>\n    </tr>\n    <tr>\n      <th>Position</th>\n      <th></th>\n      <th></th>\n    </tr>\n  </thead>\n  <tbody>\n    <tr>\n      <th>LF</th>\n      <td>75,125.0</td>\n      <td>27,362,500.0</td>\n    </tr>\n    <tr>\n      <th>RF</th>\n      <td>119,000.0</td>\n      <td>26,365,833.3</td>\n    </tr>\n    <tr>\n      <th>LAM</th>\n      <td>61,000.0</td>\n      <td>13,245,833.3</td>\n    </tr>\n    <tr>\n      <th>RAM</th>\n      <td>11,800.0</td>\n      <td>8,345,000.0</td>\n    </tr>\n    <tr>\n      <th>LS</th>\n      <td>15,421.5</td>\n      <td>5,848,429.8</td>\n    </tr>\n  </tbody>\n</table>\n</div>"
     },
     "execution_count": 151,
     "metadata": {},
     "output_type": "execute_result"
    }
   ],
   "source": [
    "import pandas as pd\n",
    "football = pd.read_csv('data_sf.csv')\n",
    "\n",
    "pd.options.display.float_format = '{:,.1f}'.format\n",
    "football.groupby(['Position'])[['Wage','Value']].mean().sort_values(['Value'],ascending=False).head()"
   ],
   "metadata": {
    "collapsed": false,
    "pycharm": {
     "name": "#%%\n"
    }
   }
  },
  {
   "cell_type": "code",
   "execution_count": 161,
   "outputs": [
    {
     "data": {
      "text/plain": "Club\nCruzeiro                 13,000.0\nGöztepe SK                7,000.0\nBrøndby IF                6,000.0\n1. FC Magdeburg           4,000.0\nSunderland                4,000.0\nCD Feirense               4,000.0\nNorthampton Town          2,500.0\nPhiladelphia Union        2,000.0\nGrimsby Town              2,000.0\nJeonnam Dragons           2,000.0\nKashiwa Reysol            2,000.0\nCD Tondela                2,000.0\nHeracles Almelo           2,000.0\nPohang Steelers           2,000.0\nBenevento                 2,000.0\nStade Brestois 29         2,000.0\nAJ Auxerre                2,000.0\nFC Metz                   1,500.0\nAEK Athens                1,000.0\nFC Energie Cottbus        1,000.0\nEnvigado FC               1,000.0\nDynamo Kyiv               1,000.0\nBray Wanderers            1,000.0\nDundalk                   1,000.0\nBohemian FC               1,000.0\nDinamo Zagreb             1,000.0\nDeportivo Pasto           1,000.0\nBoyacá Chicó FC           1,000.0\nHJK Helsinki              1,000.0\nCork City                 1,000.0\nViktoria Plzeň            1,000.0\nIF Brommapojkarna         1,000.0\nPanathinaikos FC          1,000.0\nSt. Patrick's Athletic    1,000.0\nSpartak Moscow            1,000.0\nSparta Praha              1,000.0\nSligo Rovers              1,000.0\nShamrock Rovers           1,000.0\nShakhtar Donetsk          1,000.0\nSK Slavia Praha           1,000.0\nPatriotas Boyacá FC       1,000.0\nPFC CSKA Moscow           1,000.0\nIK Sirius                 1,000.0\nPAOK                      1,000.0\nOrlando Pirates           1,000.0\nOlympiacos CFP            1,000.0\nLokomotiv Moscow          1,000.0\nLimerick FC               1,000.0\nKaizer Chiefs             1,000.0\nJaguares de Córdoba       1,000.0\nTrelleborgs FF            1,000.0\nItagüí Leones FC          1,000.0\nName: mean, dtype: float64"
     },
     "execution_count": 161,
     "metadata": {},
     "output_type": "execute_result"
    }
   ],
   "source": [
    "import pandas as pd\n",
    "football = pd.read_csv('data_sf.csv')\n",
    "\n",
    "gr_club = football.groupby(['Club'])['Wage'].agg(['mean','median'])\n",
    "\n",
    "len(gr_club.query(\"mean == median\"))\n",
    "\n",
    "gr_club.query(\"mean == median\")['mean'].sort_values(ascending=False)\n"
   ],
   "metadata": {
    "collapsed": false,
    "pycharm": {
     "name": "#%%\n"
    }
   }
  },
  {
   "cell_type": "code",
   "execution_count": 163,
   "outputs": [
    {
     "data": {
      "text/plain": "Club\nChelsea    2035000\nName: Wage, dtype: int64"
     },
     "execution_count": 163,
     "metadata": {},
     "output_type": "execute_result"
    }
   ],
   "source": [
    "import pandas as pd\n",
    "football = pd.read_csv('data_sf.csv')\n",
    "\n",
    "football.query(\"Club == 'Chelsea'\").groupby(['Club']).Wage.sum()\n"
   ],
   "metadata": {
    "collapsed": false,
    "pycharm": {
     "name": "#%%\n"
    }
   }
  },
  {
   "cell_type": "code",
   "execution_count": 166,
   "outputs": [
    {
     "data": {
      "text/plain": "1000"
     },
     "execution_count": 166,
     "metadata": {},
     "output_type": "execute_result"
    }
   ],
   "source": [
    "import pandas as pd\n",
    "football = pd.read_csv('data_sf.csv')\n",
    "\n",
    "football.query(\"Nationality == 'Argentina' & Age == 30\").Wage.min()\n"
   ],
   "metadata": {
    "collapsed": false,
    "pycharm": {
     "name": "#%%\n"
    }
   }
  },
  {
   "cell_type": "code",
   "execution_count": 167,
   "outputs": [
    {
     "data": {
      "text/plain": "Strength    59\nBalance     95\ndtype: int64"
     },
     "execution_count": 167,
     "metadata": {},
     "output_type": "execute_result"
    }
   ],
   "source": [
    "import pandas as pd\n",
    "football = pd.read_csv('data_sf.csv')\n",
    "\n",
    "football.query('Club == \"FC Barcelona\" & Nationality == \"Argentina\"')[['Strength','Balance']].max()\n",
    "\n"
   ],
   "metadata": {
    "collapsed": false,
    "pycharm": {
     "name": "#%%\n"
    }
   }
  },
  {
   "cell_type": "code",
   "execution_count": 2,
   "outputs": [
    {
     "name": "stdout",
     "output_type": "stream",
     "text": [
      "                           Wage                                        \n",
      "Club               FC Barcelona  Juventus Manchester United Real Madrid\n",
      "Nationality                                                            \n",
      "Argentina              565000.0  205000.0          206000.0         NaN\n",
      "Belgium                110000.0       NaN          230000.0    240000.0\n",
      "Bosnia Herzegovina          NaN  180000.0               NaN         NaN\n",
      "Brazil                 465000.0  335000.0           91000.0    570000.0\n",
      "Chile                  205000.0       NaN          215000.0         NaN\n",
      "Costa Rica                  NaN       NaN               NaN    195000.0\n",
      "Croatia                260000.0  160000.0               NaN    420000.0\n",
      "Dominican Republic          NaN       NaN               NaN    140000.0\n",
      "Ecuador                     NaN       NaN          120000.0         NaN\n",
      "England                     NaN       NaN          478000.0         NaN\n",
      "France                 495000.0  145000.0          375000.0    459000.0\n",
      "Germany                240000.0  160000.0               NaN    355000.0\n",
      "Italy                       NaN  460000.0           88000.0         NaN\n",
      "Ivory Coast                 NaN       NaN          105000.0         NaN\n",
      "Morocco                     NaN  160000.0               NaN         NaN\n",
      "Netherlands            135000.0       NaN               NaN         NaN\n",
      "Poland                      NaN  125000.0               NaN         NaN\n",
      "Portugal               125000.0  405000.0               NaN         NaN\n",
      "Scotland                    NaN       NaN           11000.0         NaN\n",
      "Serbia                      NaN       NaN          165000.0         NaN\n",
      "Spain                  912000.0       NaN          260000.0   1404000.0\n",
      "Uruguay                455000.0       NaN               NaN         NaN\n",
      "Wales                       NaN       NaN           13000.0    355000.0\n"
     ]
    }
   ],
   "source": [
    "import pandas as pd\n",
    "football = pd.read_csv('data_sf.csv')\n",
    "\n",
    "pivot = football.loc[\\\n",
    "    football.Club.isin(['FC Barcelona','Real Madrid','Juventus','Manchester United'])]\\\n",
    "    .pivot_table(values=['Wage'],\n",
    "                 index=['Nationality'],\n",
    "                 columns=['Club'],\n",
    "                 aggfunc='sum')\n",
    "print(pivot)"
   ],
   "metadata": {
    "collapsed": false,
    "pycharm": {
     "name": "#%%\n"
    }
   }
  },
  {
   "cell_type": "code",
   "execution_count": 6,
   "outputs": [
    {
     "data": {
      "text/plain": "Index([' SSV Jahn Regensburg', '1. FC Heidenheim 1846', '1. FC Kaiserslautern',\n       '1. FC Köln', '1. FC Magdeburg', '1. FC Nürnberg', '1. FC Union Berlin',\n       '1. FSV Mainz 05', 'AC Ajaccio', 'AC Horsens',\n       ...\n       'Wycombe Wanderers', 'Yeni Malatyaspor', 'Yeovil Town',\n       'Yokohama F. Marinos', 'Zagłębie Lubin', 'Zagłębie Sosnowiec',\n       'Çaykur Rizespor', 'Örebro SK', 'Östersunds FK', 'Śląsk Wrocław'],\n      dtype='object', name='Club', length=650)"
     },
     "execution_count": 6,
     "metadata": {},
     "output_type": "execute_result"
    }
   ],
   "source": [
    "import pandas as pd\n",
    "football = pd.read_csv('data_sf.csv')\n",
    "df2 = football.pivot_table(columns = 'Position', index = 'Club', values = 'Wage', aggfunc = 'max')\n",
    "\n",
    "df2.index"
   ],
   "metadata": {
    "collapsed": false,
    "pycharm": {
     "name": "#%%\n"
    }
   }
  },
  {
   "cell_type": "code",
   "execution_count": 13,
   "outputs": [
    {
     "data": {
      "text/plain": "2.5246153846153847"
     },
     "execution_count": 13,
     "metadata": {},
     "output_type": "execute_result"
    }
   ],
   "source": [
    "import pandas as pd\n",
    "football = pd.read_csv('data_sf.csv')\n",
    "\n",
    "pivot = football.pivot_table(index='Club', columns='Position', values='Name', aggfunc='count', fill_value=0)\n",
    "\n",
    "pivot['GK'].mean()\n"
   ],
   "metadata": {
    "collapsed": false,
    "pycharm": {
     "name": "#%%\n"
    }
   }
  },
  {
   "cell_type": "code",
   "execution_count": 16,
   "outputs": [
    {
     "data": {
      "text/plain": "0    136\nName: CM, dtype: int64"
     },
     "execution_count": 16,
     "metadata": {},
     "output_type": "execute_result"
    }
   ],
   "source": [
    "import pandas as pd\n",
    "football = pd.read_csv('data_sf.csv')\n",
    "\n",
    "pivot = football.pivot_table(index='Club', columns='Position', values='Name', aggfunc='count', fill_value=0)\n",
    "\n",
    "pivot.query('CM == 0')['CM'].value_counts()"
   ],
   "metadata": {
    "collapsed": false,
    "pycharm": {
     "name": "#%%\n"
    }
   }
  },
  {
   "cell_type": "code",
   "execution_count": 19,
   "outputs": [
    {
     "name": "stdout",
     "output_type": "stream",
     "text": [
      "Nationality\n",
      "Russia    61000\n",
      "Name: AS Monaco, dtype: int64\n"
     ]
    }
   ],
   "source": [
    "import pandas as pd\n",
    "football = pd.read_csv('data_sf.csv')\n",
    "\n",
    "pivot = football\\\n",
    "    .query('Nationality == \"Russia\"')\\\n",
    "    .pivot_table(\n",
    "        index='Club',\n",
    "        columns='Nationality',\n",
    "        values='Wage',\n",
    "        aggfunc='sum'\n",
    "    )\n",
    "print(pivot.loc['AS Monaco'])"
   ],
   "metadata": {
    "collapsed": false,
    "pycharm": {
     "name": "#%%\n"
    }
   }
  },
  {
   "cell_type": "code",
   "execution_count": 35,
   "outputs": [
    {
     "name": "stdout",
     "output_type": "stream",
     "text": [
      "62.46407326007325\n",
      "Position\n",
      "RS     94.0\n",
      "RM     94.0\n",
      "LM     94.0\n",
      "LS     93.0\n",
      "RB     93.0\n",
      "LB     93.0\n",
      "CF     91.0\n",
      "LW     91.0\n",
      "ST     91.0\n",
      "RDM    91.0\n",
      "RW     91.0\n",
      "RCM    90.0\n",
      "CAM    89.0\n",
      "LF     88.0\n",
      "RCB    88.0\n",
      "LCB    88.0\n",
      "RWB    86.0\n",
      "RF     86.0\n",
      "CM     86.0\n",
      "LWB    86.0\n",
      "LAM    85.0\n",
      "LCM    84.0\n",
      "CDM    83.0\n",
      "LDM    79.0\n",
      "RAM    78.0\n",
      "CB     78.0\n",
      "GK     62.0\n",
      "dtype: float64\n"
     ]
    }
   ],
   "source": [
    "import pandas as pd\n",
    "football = pd.read_csv('data_sf.csv')\n",
    "\n",
    "pivot = football\\\n",
    "    .pivot_table(\n",
    "        index='Club',\n",
    "        columns='Position',\n",
    "        values='SprintSpeed',\n",
    "        aggfunc='mean',\n",
    "        fill_value=0\n",
    "    )\n",
    "print(pivot.max().sort_values(ascending=False))"
   ],
   "metadata": {
    "collapsed": false,
    "pycharm": {
     "name": "#%%\n"
    }
   }
  },
  {
   "cell_type": "code",
   "execution_count": 37,
   "outputs": [
    {
     "name": "stdout",
     "output_type": "stream",
     "text": [
      "Club\n",
      "Vitória                  91.000000\n",
      "Sydney FC                88.000000\n",
      "CD Lugo                  87.000000\n",
      "Brøndby IF               84.666667\n",
      "Leicester City           84.500000\n",
      "                           ...    \n",
      "Málaga CF                 0.000000\n",
      "PFC CSKA Moscow           0.000000\n",
      "Stade Rennais FC          0.000000\n",
      "Standard de Liège         0.000000\n",
      "Sporting de Charleroi     0.000000\n",
      "Name: ST, Length: 650, dtype: float64\n"
     ]
    }
   ],
   "source": [
    "import pandas as pd\n",
    "football = pd.read_csv('data_sf.csv')\n",
    "\n",
    "pivot = football\\\n",
    "    .pivot_table(\n",
    "        index='Club',\n",
    "        columns='Position',\n",
    "        values='SprintSpeed',\n",
    "        aggfunc='mean',\n",
    "        fill_value=0\n",
    "    )\n",
    "print(pivot['ST'].sort_values(ascending=False))"
   ],
   "metadata": {
    "collapsed": false,
    "pycharm": {
     "name": "#%%\n"
    }
   }
  },
  {
   "cell_type": "code",
   "execution_count": null,
   "outputs": [],
   "source": [
    "\n"
   ],
   "metadata": {
    "collapsed": false,
    "pycharm": {
     "name": "#%%\n"
    }
   }
  }
 ],
 "metadata": {
  "kernelspec": {
   "name": "python3",
   "language": "python",
   "display_name": "Python 3"
  },
  "language_info": {
   "codemirror_mode": {
    "name": "ipython",
    "version": 2
   },
   "file_extension": ".py",
   "mimetype": "text/x-python",
   "name": "python",
   "nbconvert_exporter": "python",
   "pygments_lexer": "ipython2",
   "version": "2.7.6"
  }
 },
 "nbformat": 4,
 "nbformat_minor": 0
}