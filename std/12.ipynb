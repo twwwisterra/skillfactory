{
 "cells": [
  {
   "cell_type": "code",
   "execution_count": 87,
   "metadata": {
    "collapsed": true
   },
   "outputs": [
    {
     "data": {
      "text/plain": "0.5277310924369748"
     },
     "execution_count": 87,
     "metadata": {},
     "output_type": "execute_result"
    }
   ],
   "source": [
    "import pandas as pd\n",
    "import numpy as np\n",
    "\n",
    "def echo(data, comment=''):\n",
    "    print(comment, ','.join([str(int(x)) for x in list(data)]))\n",
    "\n",
    "apartment = np.array([59.50, 31.40, 19, 22, 60550, 2])\n",
    "\n",
    "share_living_space = apartment[1]/apartment[0]\n",
    "\n",
    "share_living_space"
   ]
  },
  {
   "cell_type": "code",
   "execution_count": 88,
   "outputs": [],
   "source": [
    "df = pd.DataFrame({'rent': [65, 70, 120, 35, 40, 50, 100, 90, 85],\n",
    "                                'area': [50, 52, 80, 33, 33, 44, 80, 65, 65],\n",
    "                                'rooms':[3, 2, 1, 1, 1, 2, 4, 3, 2],\n",
    "                                'floor':[5, 12, 10, 3, 6, 13, 8, 21, 5],\n",
    "                                'demos':[8, 4, 5, 10, 20, 12, 5, 1, 10],\n",
    "                                'living_area': [37, 40, 65, 20, 16, 35, 60, 50, 40]})"
   ],
   "metadata": {
    "collapsed": false,
    "pycharm": {
     "name": "#%%\n"
    }
   }
  },
  {
   "cell_type": "code",
   "execution_count": 89,
   "outputs": [
    {
     "data": {
      "text/plain": "array([40, 33,  1,  6, 20, 16], dtype=int64)"
     },
     "execution_count": 89,
     "metadata": {},
     "output_type": "execute_result"
    }
   ],
   "source": [
    "df.iloc[4].values"
   ],
   "metadata": {
    "collapsed": false,
    "pycharm": {
     "name": "#%%\n"
    }
   }
  },
  {
   "cell_type": "code",
   "execution_count": 90,
   "outputs": [
    {
     "data": {
      "text/plain": "array([ 5, 12, 10,  3,  6, 13,  8, 21,  5], dtype=int64)"
     },
     "execution_count": 90,
     "metadata": {},
     "output_type": "execute_result"
    }
   ],
   "source": [
    "df['floor'].values"
   ],
   "metadata": {
    "collapsed": false,
    "pycharm": {
     "name": "#%%\n"
    }
   }
  },
  {
   "cell_type": "code",
   "execution_count": 91,
   "outputs": [
    {
     "data": {
      "text/plain": "   rent  area  rooms  floor  demos  living_area\n0    65    50      3      5      8           37\n1    70    52      2     12      4           40\n2   120    80      1     10      5           65\n3    35    33      1      3     10           20\n4    40    33      1      6     20           16\n5    50    44      2     13     12           35\n6   100    80      4      8      5           60\n7    90    65      3     21      1           50\n8    85    65      2      5     10           40",
      "text/html": "<div>\n<style scoped>\n    .dataframe tbody tr th:only-of-type {\n        vertical-align: middle;\n    }\n\n    .dataframe tbody tr th {\n        vertical-align: top;\n    }\n\n    .dataframe thead th {\n        text-align: right;\n    }\n</style>\n<table border=\"1\" class=\"dataframe\">\n  <thead>\n    <tr style=\"text-align: right;\">\n      <th></th>\n      <th>rent</th>\n      <th>area</th>\n      <th>rooms</th>\n      <th>floor</th>\n      <th>demos</th>\n      <th>living_area</th>\n    </tr>\n  </thead>\n  <tbody>\n    <tr>\n      <th>0</th>\n      <td>65</td>\n      <td>50</td>\n      <td>3</td>\n      <td>5</td>\n      <td>8</td>\n      <td>37</td>\n    </tr>\n    <tr>\n      <th>1</th>\n      <td>70</td>\n      <td>52</td>\n      <td>2</td>\n      <td>12</td>\n      <td>4</td>\n      <td>40</td>\n    </tr>\n    <tr>\n      <th>2</th>\n      <td>120</td>\n      <td>80</td>\n      <td>1</td>\n      <td>10</td>\n      <td>5</td>\n      <td>65</td>\n    </tr>\n    <tr>\n      <th>3</th>\n      <td>35</td>\n      <td>33</td>\n      <td>1</td>\n      <td>3</td>\n      <td>10</td>\n      <td>20</td>\n    </tr>\n    <tr>\n      <th>4</th>\n      <td>40</td>\n      <td>33</td>\n      <td>1</td>\n      <td>6</td>\n      <td>20</td>\n      <td>16</td>\n    </tr>\n    <tr>\n      <th>5</th>\n      <td>50</td>\n      <td>44</td>\n      <td>2</td>\n      <td>13</td>\n      <td>12</td>\n      <td>35</td>\n    </tr>\n    <tr>\n      <th>6</th>\n      <td>100</td>\n      <td>80</td>\n      <td>4</td>\n      <td>8</td>\n      <td>5</td>\n      <td>60</td>\n    </tr>\n    <tr>\n      <th>7</th>\n      <td>90</td>\n      <td>65</td>\n      <td>3</td>\n      <td>21</td>\n      <td>1</td>\n      <td>50</td>\n    </tr>\n    <tr>\n      <th>8</th>\n      <td>85</td>\n      <td>65</td>\n      <td>2</td>\n      <td>5</td>\n      <td>10</td>\n      <td>40</td>\n    </tr>\n  </tbody>\n</table>\n</div>"
     },
     "execution_count": 91,
     "metadata": {},
     "output_type": "execute_result"
    }
   ],
   "source": [
    "df"
   ],
   "metadata": {
    "collapsed": false,
    "pycharm": {
     "name": "#%%\n"
    }
   }
  },
  {
   "cell_type": "code",
   "execution_count": 92,
   "outputs": [
    {
     "data": {
      "text/plain": "array([13, 12, 15, 13, 17,  9, 20, 15, 25], dtype=int64)"
     },
     "execution_count": 92,
     "metadata": {},
     "output_type": "execute_result"
    }
   ],
   "source": [
    "df['area'].values - df['living_area'].values"
   ],
   "metadata": {
    "collapsed": false,
    "pycharm": {
     "name": "#%%\n"
    }
   }
  },
  {
   "cell_type": "code",
   "execution_count": 93,
   "outputs": [
    {
     "data": {
      "text/plain": "array([26., 28., 48., 14., 16., 20., 40., 36., 34.])"
     },
     "execution_count": 93,
     "metadata": {},
     "output_type": "execute_result"
    }
   ],
   "source": [
    "df['rent'].values/10*4"
   ],
   "metadata": {
    "collapsed": false,
    "pycharm": {
     "name": "#%%\n"
    }
   }
  },
  {
   "cell_type": "code",
   "execution_count": 94,
   "outputs": [
    {
     "data": {
      "text/plain": "1348"
     },
     "execution_count": 94,
     "metadata": {},
     "output_type": "execute_result"
    }
   ],
   "source": [
    "df['demo_lengh_min'] = [10,20,30,15,5,40,20,8,20]\n",
    "(df['demos'] * df['demo_lengh_min']).sum()"
   ],
   "metadata": {
    "collapsed": false,
    "pycharm": {
     "name": "#%%\n"
    }
   }
  },
  {
   "cell_type": "code",
   "execution_count": 95,
   "outputs": [
    {
     "name": "stdout",
     "output_type": "stream",
     "text": [
      "u@v 0\n",
      "u@w 0\n",
      "v@w 0\n",
      " -3,14,3,4,2\n",
      "u [0.8660254  0.         0.28867513 0.28867513 0.28867513]\n",
      "v [ 0.          0.33333333  0.          0.66666667 -0.66666667]\n",
      "w [ 0.21320072 -0.85280287 -0.21320072  0.         -0.42640143]\n"
     ]
    }
   ],
   "source": [
    "u=np.array([3,0,1,1,1])\n",
    "v=np.array([0,1,0,2,-2])\n",
    "w=np.array([1,-4,-1,0,-2])\n",
    "\n",
    "print('u@v', u@v)\n",
    "print('u@w', u@w)\n",
    "print('v@w', v@w)\n",
    "\n",
    "echo(v*2 + w*-3)\n",
    "\n",
    "(v*2 + w*-3)@u\n",
    "\n",
    "print('u', u / ((u@u) ** (1/2)))\n",
    "print('v', v / ((v@v) ** (1/2)))\n",
    "print('w', w / ((w@w) ** (1/2)))"
   ],
   "metadata": {
    "collapsed": false,
    "pycharm": {
     "name": "#%%\n"
    }
   }
  },
  {
   "cell_type": "code",
   "execution_count": 96,
   "outputs": [
    {
     "name": "stdout",
     "output_type": "stream",
     "text": [
      "0.2886751345948129\n",
      "0.6666666666666666\n",
      "0.21320071635561041\n"
     ]
    }
   ],
   "source": [
    "u_norm=u/np.linalg.norm(u)\n",
    "\n",
    "v_norm=v/np.linalg.norm(v)\n",
    "\n",
    "w_norm=w/np.linalg.norm(w)\n",
    "\n",
    "print(u_norm[2])\n",
    "\n",
    "print(v_norm[3])\n",
    "\n",
    "print(w_norm[0])"
   ],
   "metadata": {
    "collapsed": false,
    "pycharm": {
     "name": "#%%\n"
    }
   }
  },
  {
   "cell_type": "code",
   "execution_count": 97,
   "outputs": [],
   "source": [
    "Husband_Income = np.array([100,220,140])\n",
    "Wife_Income = np.array([150,200,130])\n",
    "Mother_In_Law_Income = np.array([90,80,100])\n",
    "\n",
    "Husband_Сonsumption = np.array([50,50,60])\n",
    "Wife_Сonsumption = np.array([100,80,140])\n",
    "Mother_In_Law_Сonsumption = np.array([100,20,140])\n",
    "\n",
    "Inc = np.array([Husband_Income, Wife_Income, Mother_In_Law_Income]).T\n",
    "Cons = np.array([Husband_Сonsumption, Wife_Сonsumption, Mother_In_Law_Сonsumption]).T\n",
    "\n",
    "Tax = Inc * 0.13\n",
    "\n",
    "Rev = Inc - Tax"
   ],
   "metadata": {
    "collapsed": false,
    "pycharm": {
     "name": "#%%\n"
    }
   }
  },
  {
   "cell_type": "code",
   "execution_count": 98,
   "outputs": [
    {
     "data": {
      "text/plain": "array([[ 37. ,  30.5, -21.7],\n       [141.4,  94. ,  49.6],\n       [ 61.8, -26.9, -53. ]])"
     },
     "execution_count": 98,
     "metadata": {},
     "output_type": "execute_result"
    }
   ],
   "source": [
    "P = Rev - Cons\n",
    "\n",
    "P"
   ],
   "metadata": {
    "collapsed": false,
    "pycharm": {
     "name": "#%%\n"
    }
   }
  },
  {
   "cell_type": "code",
   "execution_count": 99,
   "outputs": [
    {
     "data": {
      "text/plain": "array([[-3,  1],\n       [-9,  3]])"
     },
     "execution_count": 99,
     "metadata": {},
     "output_type": "execute_result"
    }
   ],
   "source": [
    "a = np.array([[1,-1,2,4,0], [8,2,0,5,3], [0,1,2,1,2]])\n",
    "\n",
    "b = np.array([[1,0,1,0], [0,0,2,-1], [1,0,1,1], [0,1,1,1], [1,1,0,-1]])\n",
    "\n",
    "a@b\n",
    "\n",
    "a = np.array([1,3], ndmin=2)\n",
    "b = np.array([-3,1], ndmin=2)\n",
    "\n",
    "a.T@b"
   ],
   "metadata": {
    "collapsed": false,
    "pycharm": {
     "name": "#%%\n"
    }
   }
  },
  {
   "cell_type": "code",
   "execution_count": 100,
   "outputs": [
    {
     "data": {
      "text/plain": "array([[2, 1, 3],\n       [1, 5, 0],\n       [3, 0, 5]])"
     },
     "execution_count": 100,
     "metadata": {},
     "output_type": "execute_result"
    }
   ],
   "source": [
    "a = np.array([1,1])\n",
    "b = np.array([2,-1])\n",
    "c = np.array([1,2])\n",
    "\n",
    "np.array([[a@a, a@b, a@c], [b@a, b@b, b@c], [c@a, c@b, c@c]])"
   ],
   "metadata": {
    "collapsed": false,
    "pycharm": {
     "name": "#%%\n"
    }
   }
  },
  {
   "cell_type": "code",
   "execution_count": 101,
   "outputs": [
    {
     "name": "stdout",
     "output_type": "stream",
     "text": [
      "[26 30]\n",
      "[[26]\n",
      " [30]]\n"
     ]
    }
   ],
   "source": [
    "A = np.array([[5,-1,3,1,2], [-2,8,5,-1,1]])\n",
    "x0 = np.array([1,2,3,4,5])\n",
    "x1 = np.array([1,2,3,4,5], ndmin=2).T\n",
    "\n",
    "print(A@x0)\n",
    "print(A@x1)"
   ],
   "metadata": {
    "collapsed": false,
    "pycharm": {
     "name": "#%%\n"
    }
   }
  },
  {
   "cell_type": "code",
   "execution_count": 102,
   "outputs": [
    {
     "data": {
      "text/plain": "array([[  2,   9,  11,  14],\n       [  8, -10, -14, -11]])"
     },
     "execution_count": 102,
     "metadata": {},
     "output_type": "execute_result"
    }
   ],
   "source": [
    "A=np.array( [ [1,9,8,5] , [3,6,3,2] , [3,3,3,3], [0,2,5,9], [4,4,1,2] ] )\n",
    "B=np.array( [ [1,-1,0,1,1] , [-2,0,2,-1,1] ] )\n",
    "\n",
    "A.shape\n",
    "B.shape\n",
    "\n",
    "B@A"
   ],
   "metadata": {
    "collapsed": false,
    "pycharm": {
     "name": "#%%\n"
    }
   }
  },
  {
   "cell_type": "code",
   "execution_count": 103,
   "outputs": [
    {
     "name": "stdout",
     "output_type": "stream",
     "text": [
      "[[ 1  2 -1]\n",
      " [ 2  1  1]\n",
      " [ 1 -1 -1]\n",
      " [ 0  1  0]\n",
      " [ 4  0  0]]\n"
     ]
    },
    {
     "data": {
      "text/plain": "array([[22,  3,  0],\n       [ 3,  7,  0],\n       [ 0,  0,  3]])"
     },
     "execution_count": 103,
     "metadata": {},
     "output_type": "execute_result"
    }
   ],
   "source": [
    "x = np.array([1,2,1,0,4])\n",
    "y = np.array([2,1,-1,1,0])\n",
    "z = np.array([-1,1,-1,0,0])\n",
    "\n",
    "A = np.array([x,y,z]).T\n",
    "\n",
    "print(A)\n",
    "\n",
    "A.T@A"
   ],
   "metadata": {
    "collapsed": false,
    "pycharm": {
     "name": "#%%\n"
    }
   }
  },
  {
   "cell_type": "code",
   "execution_count": 104,
   "outputs": [
    {
     "name": "stdout",
     "output_type": "stream",
     "text": [
      "[0.21320072 0.42640143 0.21320072 0.         0.85280287]\n",
      "[0.21320072 0.42640143 0.21320072 0.         0.85280287]\n"
     ]
    },
    {
     "data": {
      "text/plain": "array([[1.        , 1.77281052, 2.7080128 ],\n       [1.77281052, 3.14285714, 4.80079359],\n       [2.7080128 , 4.80079359, 7.33333333]])"
     },
     "execution_count": 104,
     "metadata": {},
     "output_type": "execute_result"
    }
   ],
   "source": [
    "x_norm = x/np.linalg.norm(x)\n",
    "y_norm = x/np.linalg.norm(y)\n",
    "z_norm = x/np.linalg.norm(z)\n",
    "\n",
    "print(x / (x@x) ** (1/2))\n",
    "print(x_norm)\n",
    "\n",
    "A_norm = np.array([x_norm,y_norm,z_norm]).T\n",
    "\n",
    "A_norm.T@A_norm"
   ],
   "metadata": {
    "collapsed": false,
    "pycharm": {
     "name": "#%%\n"
    }
   }
  },
  {
   "cell_type": "code",
   "execution_count": 105,
   "outputs": [
    {
     "name": "stdout",
     "output_type": "stream",
     "text": [
      "[ 2 21  3 25  6]\n",
      "[1.8 2.5 1.  1.  1. ]\n",
      "[ 3.6 52.5  3.  25.   6. ]\n"
     ]
    }
   ],
   "source": [
    "Count_DF = pd.DataFrame({'Женские стрижки': [10, 2, 12, 4, 6, 10, 22, 7],\n",
    "                                'Мужские стрижки': [5, 21, 12, 8, 25, 3, 1, 0],\n",
    "                                'Окрашивания':[12, 3, 0, 18, 27, 2, 4, 31],\n",
    "                              'Укладка':[15, 25, 30, 14, 25, 17, 25, 31],\n",
    "                                'Уход':[10, 6, 4, 5, 18, 12, 20, 28]\n",
    "                                },\n",
    "                               index=['Аня', 'Борис', 'Вика', 'Галя', 'Дима', 'Егор', 'Женя','Юра'])\n",
    "Price_DF = pd.DataFrame({'Женские стрижки': [2, 1.8, 2, 1.8, 2.5, 5, 1.1, 4.5],\n",
    "                                'Мужские стрижки': [1.5, 2.5, 2, 1.2, 3.5, 5, 1, 4],\n",
    "                                'Окрашивания':[1, 1, 0, 2.8, 2, 3, 1.5, 2.5],\n",
    "                              'Укладка':[0.8, 1, 0.5, 0.8, 1, 2, 0.5, 1],\n",
    "                                'Уход':[1, 1, 2, 2, 1.5, 2.5, 1.7, 2]\n",
    "                                },\n",
    "                               index=['Аня', 'Борис', 'Вика', 'Галя', 'Дима', 'Егор', 'Женя','Юра'])\n",
    "\n",
    "print(Count_DF.loc['Борис'].values)\n",
    "print(Price_DF.loc['Борис'].values)\n",
    "\n",
    "print(Count_DF.loc['Борис'].values * Price_DF.loc['Борис'].values)\n",
    "\n"
   ],
   "metadata": {
    "collapsed": false,
    "pycharm": {
     "name": "#%%\n"
    }
   }
  },
  {
   "cell_type": "code",
   "execution_count": 113,
   "outputs": [
    {
     "name": "stdout",
     "output_type": "stream",
     "text": [
      "[[10  5 12 15 10]\n",
      " [ 2 21  3 25  6]\n",
      " [12 12  0 30  4]\n",
      " [ 4  8 18 14  5]\n",
      " [ 6 25 27 25 18]\n",
      " [10  3  2 17 12]\n",
      " [22  1  4 25 20]\n",
      " [ 7  0 31 31 28]]\n",
      "[[2.  1.5 1.  0.8 1. ]\n",
      " [1.8 2.5 1.  1.  1. ]\n",
      " [2.  2.  0.  0.5 2. ]\n",
      " [1.8 1.2 2.8 0.8 2. ]\n",
      " [2.5 3.5 2.  1.  1.5]\n",
      " [5.  5.  3.  2.  2.5]\n",
      " [1.1 1.  1.5 0.5 1.7]\n",
      " [4.5 4.  2.5 1.  2. ]]\n"
     ]
    },
    {
     "data": {
      "text/plain": "array([ 50.2 ,  74.88,  59.1 ,  67.8 , 166.6 , 113.8 ,  66.21, 157.75])"
     },
     "execution_count": 113,
     "metadata": {},
     "output_type": "execute_result"
    }
   ],
   "source": [
    "com = np.array([0.2, 0.2, 0.3, 0.1, 0.1])\n",
    "\n",
    "\n",
    "print(Count_DF.values)\n",
    "\n",
    "print(Price_DF.values)\n",
    "\n",
    "(Count_DF.values * Price_DF.values)@(np.ones(5)-com)"
   ],
   "metadata": {
    "collapsed": false,
    "pycharm": {
     "name": "#%%\n"
    }
   }
  },
  {
   "cell_type": "code",
   "execution_count": 118,
   "outputs": [
    {
     "data": {
      "text/plain": "array([[ 5., -2.],\n       [-2.,  1.]])"
     },
     "execution_count": 118,
     "metadata": {},
     "output_type": "execute_result"
    }
   ],
   "source": [
    "A = np.array([A,[2,5]])\n",
    "\n",
    "np.linalg.inv(A)"
   ],
   "metadata": {
    "collapsed": false,
    "pycharm": {
     "name": "#%%\n"
    }
   }
  },
  {
   "cell_type": "code",
   "execution_count": 120,
   "outputs": [
    {
     "name": "stdout",
     "output_type": "stream",
     "text": [
      "7.999999999999998\n",
      "0.12500000000000003\n"
     ]
    }
   ],
   "source": [
    "A = np.array([[2,0,0],[0,1,0],[0,0,4]])\n",
    "Ai = np.linalg.inv(A)\n",
    "\n",
    "print(np.linalg.det(A))\n",
    "print(np.linalg.det(Ai))"
   ],
   "metadata": {
    "collapsed": false,
    "pycharm": {
     "name": "#%%\n"
    }
   }
  },
  {
   "cell_type": "code",
   "execution_count": 144,
   "outputs": [
    {
     "name": "stdout",
     "output_type": "stream",
     "text": [
      "[[ 0.55555556 -0.11111111 -1.66666667]\n",
      " [-0.11111111  0.22222222  0.33333333]\n",
      " [ 0.          0.          1.        ]]\n"
     ]
    }
   ],
   "source": [
    "A = np.array([[4,1,3],[1,5,0],[0,0,1]])\n",
    "v = np.array([0,0,0])\n",
    "\n",
    "print(np.linalg.inv(A))\n",
    "#print(np.linalg.solve(A,v))\n",
    "\n"
   ],
   "metadata": {
    "collapsed": false,
    "pycharm": {
     "name": "#%%\n"
    }
   }
  },
  {
   "cell_type": "code",
   "execution_count": 128,
   "outputs": [
    {
     "name": "stdout",
     "output_type": "stream",
     "text": [
      "[ 5. -1.  1.]\n"
     ]
    }
   ],
   "source": [
    "A = np.array([[3,-2,4],[3,4,-2],[2,-1,-1]])\n",
    "v = np.array([21,9,10])\n",
    "\n",
    "print(np.linalg.solve(A,v))"
   ],
   "metadata": {
    "collapsed": false,
    "pycharm": {
     "name": "#%%\n"
    }
   }
  },
  {
   "cell_type": "code",
   "execution_count": 141,
   "outputs": [
    {
     "name": "stdout",
     "output_type": "stream",
     "text": [
      "0.0\n"
     ]
    }
   ],
   "source": [
    "A = np.array([[1,4,7,0],[2,5,8,0],[3,6,9,0],[1,1,1,0]])\n",
    "v = np.array([0,0,0,0])\n",
    "\n",
    "print(np.linalg.det(A).round())\n",
    "#print(np.linalg.solve(A,v))"
   ],
   "metadata": {
    "collapsed": false,
    "pycharm": {
     "name": "#%%\n"
    }
   }
  },
  {
   "cell_type": "code",
   "execution_count": 147,
   "outputs": [
    {
     "name": "stdout",
     "output_type": "stream",
     "text": [
      "[[-1.875  2.312 -0.031]\n",
      " [ 0.375 -0.562  0.156]\n",
      " [ 1.25  -1.375 -0.062]]\n"
     ]
    }
   ],
   "source": [
    "A=np.array( [[ 8 , 6 ,11],[ 7 , 5 , 9],[ 6 ,10,  6]])\n",
    "\n",
    "print(np.linalg.inv(A).round(3))"
   ],
   "metadata": {
    "collapsed": false,
    "pycharm": {
     "name": "#%%\n"
    }
   }
  },
  {
   "cell_type": "code",
   "execution_count": 157,
   "outputs": [
    {
     "data": {
      "text/plain": "array([[ 0.017, -0.028, -0.026,  0.016],\n       [-0.028,  0.072,  0.03 , -0.027],\n       [-0.026,  0.03 ,  0.077, -0.026],\n       [ 0.016, -0.027, -0.026,  0.035]])"
     },
     "execution_count": 157,
     "metadata": {},
     "output_type": "execute_result"
    }
   ],
   "source": [
    "v1 = np.array([9, 10, 7, 7, 9])\n",
    "v2 = np.array([2, 0, 5, 1, 4])\n",
    "v3 = np.array([4, 0, 0, 4, 1])\n",
    "v4 = np.array([3, -4, 3, -1, -4])\n",
    "\n",
    "A = np.array([v1,v2,v3,v4]).T\n",
    "\n",
    "np.linalg.matrix_rank(A)\n",
    "\n",
    "A_gr = A.T@A\n",
    "np.linalg.det(A_gr).round()\n",
    "\n",
    "np.linalg.inv(A_gr).round(3)\n"
   ],
   "metadata": {
    "collapsed": false,
    "pycharm": {
     "name": "#%%\n"
    }
   }
  }
 ],
 "metadata": {
  "kernelspec": {
   "display_name": "Python 3",
   "language": "python",
   "name": "python3"
  },
  "language_info": {
   "codemirror_mode": {
    "name": "ipython",
    "version": 2
   },
   "file_extension": ".py",
   "mimetype": "text/x-python",
   "name": "python",
   "nbconvert_exporter": "python",
   "pygments_lexer": "ipython2",
   "version": "2.7.6"
  }
 },
 "nbformat": 4,
 "nbformat_minor": 0
}