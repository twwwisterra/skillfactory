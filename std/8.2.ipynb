{
 "cells": [
  {
   "cell_type": "code",
   "execution_count": 1,
   "metadata": {
    "collapsed": true
   },
   "outputs": [
    {
     "name": "stdout",
     "output_type": "stream",
     "text": [
      "<class 'pandas.core.frame.DataFrame'>\n",
      "RangeIndex: 11 entries, 0 to 10\n",
      "Data columns (total 4 columns):\n",
      " #   Column      Non-Null Count  Dtype \n",
      "---  ------      --------------  ----- \n",
      " 0   name        10 non-null     object\n",
      " 1   city        10 non-null     object\n",
      " 2   age         11 non-null     int64 \n",
      " 3   profession  11 non-null     object\n",
      "dtypes: int64(1), object(3)\n",
      "memory usage: 480.0+ bytes\n"
     ]
    }
   ],
   "source": [
    "import pandas as pd\n",
    "log = pd.read_csv('log.csv', header=None)\n",
    "sample = pd.read_csv('sample.csv')\n",
    "columns = sample.columns\n",
    "#users = pd.read_csv('users.csv')\n",
    "\n",
    "sample.columns = sample.columns.str.lower()\n",
    "sample.name.unique()\n",
    "sample.info()"
   ]
  },
  {
   "cell_type": "code",
   "execution_count": 2,
   "outputs": [
    {
     "data": {
      "text/plain": "array(['Запись пользователя № - user_919',\n       'Запись пользователя № - user_973',\n       'Запись пользователя № - user_903',\n       'Запись пользователя № - user_954',\n       'Запись пользователя № - user_917',\n       'Запись пользователя № - user_900',\n       'Запись пользователя № - user_980',\n       'Запись пользователя № - user_906',\n       'Запись пользователя № - user_952',\n       'Запись пользователя № - user_972',\n       'Запись пользователя № - user_966',\n       'Запись пользователя № - user_964',\n       'Запись пользователя № - user_978',\n       'Запись пользователя № - user_968',\n       'Запись пользователя № - user_974',\n       'Запись пользователя № - user_998',\n       'Запись пользователя № - user_990',\n       'Запись пользователя № - user_942',\n       'Запись пользователя № - user_929',\n       'Запись пользователя № - user_976',\n       'Запись пользователя № - user_927',\n       'Запись пользователя № - user_951',\n       'Запись пользователя № - user_949',\n       'Запись пользователя № - user_987',\n       'Запись пользователя № - user_985',\n       'Запись пользователя № - user_992',\n       'Запись пользователя № - user_937',\n       'Запись пользователя № - user_913',\n       'Запись пользователя № - user_948',\n       'Запись пользователя № - user_916',\n       'Запись пользователя № - user_938',\n       'Запись пользователя № - user_997',\n       'Запись пользователя № - user_940',\n       'Запись пользователя № - user_918',\n       'Запись пользователя № - user_960',\n       'Запись пользователя № - user_905',\n       'Запись пользователя № - user_924',\n       'Запись пользователя № - user_958',\n       'Запись пользователя № - user_920',\n       'Запись пользователя № - user_943',\n       'Запись пользователя № - user_935',\n       'Запись пользователя № - user_915',\n       'Запись пользователя № - user_921',\n       'Запись пользователя № - user_999',\n       'Запись пользователя № - user_982',\n       'Запись пользователя № - user_928',\n       'Запись пользователя № - user_944',\n       'Запись пользователя № - user_912',\n       'Запись пользователя № - user_969',\n       'Запись пользователя № - user_901',\n       'Запись пользователя № - user_995',\n       'Запись пользователя № - user_933',\n       'Запись пользователя № - user_986',\n       'Запись пользователя № - user_971',\n       'Запись пользователя № - user_977',\n       'Запись пользователя № - user_979',\n       'Запись пользователя № - user_910',\n       'Запись пользователя № - user_994',\n       'Запись пользователя № - user_907',\n       'Запись пользователя № - user_941',\n       'Запись пользователя № - user_989',\n       'Запись пользователя № - user_955',\n       'Запись пользователя № - user_991',\n       'Запись пользователя № - user_996',\n       'Запись пользователя № - user_926',\n       'Запись пользователя № - user_984',\n       'Запись пользователя № - user_957',\n       'Запись пользователя № - user_914',\n       'Запись пользователя № - user_988',\n       'Запись пользователя № - user_923',\n       'Запись пользователя № - user_967',\n       'Запись пользователя № - user_945',\n       'Запись пользователя № - user_993',\n       'Запись пользователя № - user_908',\n       'Запись пользователя № - user_930',\n       'Запись пользователя № - user_981',\n       'Запись пользователя № - user_936',\n       'Запись пользователя № - user_922',\n       'Запись пользователя № - user_962',\n       'Запись пользователя № - user_965',\n       'Запись пользователя № - user_959',\n       'Запись пользователя № - user_963',\n       'Запись пользователя № - user_904',\n       'Запись пользователя № - user_931',\n       'Запись пользователя № - user_1000',\n       'Запись пользователя № - user_946',\n       'Запись пользователя № - user_970',\n       'Запись пользователя № - user_939',\n       'Запись пользователя № - user_961',\n       'Запись пользователя № - user_911',\n       'Запись пользователя № - user_950',\n       'Запись пользователя № - user_956',\n       'Запись пользователя № - user_909',\n       'Запись пользователя № - user_983',\n       'Запись пользователя № - user_902',\n       'Запись пользователя № - user_947',\n       'Запись пользователя № - user_975',\n       'Запись пользователя № - user_953',\n       'Запись пользователя № - user_925',\n       'Запись пользователя № - user_934',\n       'Запись пользователя № - user_932', '#error'], dtype=object)"
     },
     "execution_count": 2,
     "metadata": {},
     "output_type": "execute_result"
    }
   ],
   "source": [
    "import pandas as pd\n",
    "log = pd.read_csv('log.csv', header=None)\n",
    "log.columns = ['user_id', 'time', 'bet', 'win']\n",
    "log.user_id.unique()\n"
   ],
   "metadata": {
    "collapsed": false,
    "pycharm": {
     "name": "#%%\n"
    }
   }
  },
  {
   "cell_type": "code",
   "execution_count": 3,
   "outputs": [
    {
     "name": "stdout",
     "output_type": "stream",
     "text": [
      "<class 'pandas.core.frame.DataFrame'>\n",
      "RangeIndex: 100 entries, 0 to 99\n",
      "Data columns (total 3 columns):\n",
      " #   Column   Non-Null Count  Dtype \n",
      "---  ------   --------------  ----- \n",
      " 0   user_id  100 non-null    object\n",
      " 1   email    99 non-null     object\n",
      " 2   geo      97 non-null     object\n",
      "dtypes: object(3)\n",
      "memory usage: 2.5+ KB\n"
     ]
    }
   ],
   "source": [
    "import pandas as pd\n",
    "users = pd.read_csv('users.csv', delimiter='\\t', encoding='koi8_r')\n",
    "users.columns = ['user_id', 'email', 'geo']\n",
    "users.info()"
   ],
   "metadata": {
    "collapsed": false,
    "pycharm": {
     "name": "#%%\n"
    }
   }
  },
  {
   "cell_type": "code",
   "execution_count": 4,
   "outputs": [
    {
     "data": {
      "text/plain": "            name         city  age profession\n0         Иванов       Москва   25     Клинер\n1            NaN    Волгоград   31   Менеджер\n2         Иванов       Москва   25     Клинер\n3        sidorov  Владивосток   43   Менеджер\n4        _______        Курск   50   Водитель\n5       Кузнецов         Сочи   19    Рабочий\n6          Сажин       Сургут   29    Рабочий\n7   Котлеревский   Йошкар-Ола   32    Рабочий\n8     Завалишина    Чебоксары   36   Менеджер\n9         Левина          NaN   55    Рабочий\n10          Фикс         Рига   42    Рабочий",
      "text/html": "<div>\n<style scoped>\n    .dataframe tbody tr th:only-of-type {\n        vertical-align: middle;\n    }\n\n    .dataframe tbody tr th {\n        vertical-align: top;\n    }\n\n    .dataframe thead th {\n        text-align: right;\n    }\n</style>\n<table border=\"1\" class=\"dataframe\">\n  <thead>\n    <tr style=\"text-align: right;\">\n      <th></th>\n      <th>name</th>\n      <th>city</th>\n      <th>age</th>\n      <th>profession</th>\n    </tr>\n  </thead>\n  <tbody>\n    <tr>\n      <th>0</th>\n      <td>Иванов</td>\n      <td>Москва</td>\n      <td>25</td>\n      <td>Клинер</td>\n    </tr>\n    <tr>\n      <th>1</th>\n      <td>NaN</td>\n      <td>Волгоград</td>\n      <td>31</td>\n      <td>Менеджер</td>\n    </tr>\n    <tr>\n      <th>2</th>\n      <td>Иванов</td>\n      <td>Москва</td>\n      <td>25</td>\n      <td>Клинер</td>\n    </tr>\n    <tr>\n      <th>3</th>\n      <td>sidorov</td>\n      <td>Владивосток</td>\n      <td>43</td>\n      <td>Менеджер</td>\n    </tr>\n    <tr>\n      <th>4</th>\n      <td>_______</td>\n      <td>Курск</td>\n      <td>50</td>\n      <td>Водитель</td>\n    </tr>\n    <tr>\n      <th>5</th>\n      <td>Кузнецов</td>\n      <td>Сочи</td>\n      <td>19</td>\n      <td>Рабочий</td>\n    </tr>\n    <tr>\n      <th>6</th>\n      <td>Сажин</td>\n      <td>Сургут</td>\n      <td>29</td>\n      <td>Рабочий</td>\n    </tr>\n    <tr>\n      <th>7</th>\n      <td>Котлеревский</td>\n      <td>Йошкар-Ола</td>\n      <td>32</td>\n      <td>Рабочий</td>\n    </tr>\n    <tr>\n      <th>8</th>\n      <td>Завалишина</td>\n      <td>Чебоксары</td>\n      <td>36</td>\n      <td>Менеджер</td>\n    </tr>\n    <tr>\n      <th>9</th>\n      <td>Левина</td>\n      <td>NaN</td>\n      <td>55</td>\n      <td>Рабочий</td>\n    </tr>\n    <tr>\n      <th>10</th>\n      <td>Фикс</td>\n      <td>Рига</td>\n      <td>42</td>\n      <td>Рабочий</td>\n    </tr>\n  </tbody>\n</table>\n</div>"
     },
     "execution_count": 4,
     "metadata": {},
     "output_type": "execute_result"
    }
   ],
   "source": [
    "import pandas as pd\n",
    "sample = pd.read_csv('sample.csv')\n",
    "\n",
    "sample.columns = sample.columns.str.lower()\n",
    "sample[sample['age']<30]\n",
    "sample"
   ],
   "metadata": {
    "collapsed": false,
    "pycharm": {
     "name": "#%%\n"
    }
   }
  },
  {
   "cell_type": "code",
   "execution_count": 5,
   "outputs": [],
   "source": [
    "log = pd.read_csv(\"log.csv\",header=None)\n",
    "log.columns = ['user_id','time', 'bet','win']\n",
    "log_win = log.query('win == win')\n",
    "win_count = log_win.win.count()"
   ],
   "metadata": {
    "collapsed": false,
    "pycharm": {
     "name": "#%%\n"
    }
   }
  },
  {
   "cell_type": "code",
   "execution_count": 6,
   "outputs": [
    {
     "data": {
      "text/plain": "       Name    City  Age Profession\n5  Кузнецов    Сочи   19    Рабочий\n6     Сажин  Сургут   29    Рабочий",
      "text/html": "<div>\n<style scoped>\n    .dataframe tbody tr th:only-of-type {\n        vertical-align: middle;\n    }\n\n    .dataframe tbody tr th {\n        vertical-align: top;\n    }\n\n    .dataframe thead th {\n        text-align: right;\n    }\n</style>\n<table border=\"1\" class=\"dataframe\">\n  <thead>\n    <tr style=\"text-align: right;\">\n      <th></th>\n      <th>Name</th>\n      <th>City</th>\n      <th>Age</th>\n      <th>Profession</th>\n    </tr>\n  </thead>\n  <tbody>\n    <tr>\n      <th>5</th>\n      <td>Кузнецов</td>\n      <td>Сочи</td>\n      <td>19</td>\n      <td>Рабочий</td>\n    </tr>\n    <tr>\n      <th>6</th>\n      <td>Сажин</td>\n      <td>Сургут</td>\n      <td>29</td>\n      <td>Рабочий</td>\n    </tr>\n  </tbody>\n</table>\n</div>"
     },
     "execution_count": 6,
     "metadata": {},
     "output_type": "execute_result"
    }
   ],
   "source": [
    "sample = pd.read_csv(\"sample.csv\")\n",
    "sample2 = sample.query('Age <30 & Profession == \"Рабочий\"')\n",
    "sample2\n"
   ],
   "metadata": {
    "collapsed": false,
    "pycharm": {
     "name": "#%%\n"
    }
   }
  },
  {
   "cell_type": "code",
   "execution_count": 7,
   "outputs": [],
   "source": [
    "log = pd.read_csv(\"log.csv\",header=None)\n",
    "log.columns = ['user_id','time', 'bet','win']\n",
    "log2 = log.query('win >0 & bet <2000')"
   ],
   "metadata": {
    "collapsed": false,
    "pycharm": {
     "name": "#%%\n"
    }
   }
  },
  {
   "cell_type": "code",
   "execution_count": 8,
   "outputs": [
    {
     "data": {
      "text/plain": "       Name    City  Age Profession\n4   _______   Курск   50   Водитель\n6     Сажин  Сургут   29    Рабочий\n10     Фикс    Рига   42    Рабочий",
      "text/html": "<div>\n<style scoped>\n    .dataframe tbody tr th:only-of-type {\n        vertical-align: middle;\n    }\n\n    .dataframe tbody tr th {\n        vertical-align: top;\n    }\n\n    .dataframe thead th {\n        text-align: right;\n    }\n</style>\n<table border=\"1\" class=\"dataframe\">\n  <thead>\n    <tr style=\"text-align: right;\">\n      <th></th>\n      <th>Name</th>\n      <th>City</th>\n      <th>Age</th>\n      <th>Profession</th>\n    </tr>\n  </thead>\n  <tbody>\n    <tr>\n      <th>4</th>\n      <td>_______</td>\n      <td>Курск</td>\n      <td>50</td>\n      <td>Водитель</td>\n    </tr>\n    <tr>\n      <th>6</th>\n      <td>Сажин</td>\n      <td>Сургут</td>\n      <td>29</td>\n      <td>Рабочий</td>\n    </tr>\n    <tr>\n      <th>10</th>\n      <td>Фикс</td>\n      <td>Рига</td>\n      <td>42</td>\n      <td>Рабочий</td>\n    </tr>\n  </tbody>\n</table>\n</div>"
     },
     "execution_count": 8,
     "metadata": {},
     "output_type": "execute_result"
    }
   ],
   "source": [
    "sample = pd.read_csv(\"sample.csv\")\n",
    "sample['City'].str.contains('o', na=False)\n",
    "sample3 = sample[~sample['City'].str.contains('о', na=True)]\n",
    "sample3"
   ],
   "metadata": {
    "collapsed": false,
    "pycharm": {
     "name": "#%%\n"
    }
   }
  },
  {
   "cell_type": "code",
   "execution_count": 9,
   "outputs": [],
   "source": [
    "log = pd.read_csv(\"log.csv\",header=None)\n",
    "log.columns = ['user_id','time', 'bet','win']\n",
    "new_log  = log[log['user_id'].str.contains('user', na=False)]\n"
   ],
   "metadata": {
    "collapsed": false,
    "pycharm": {
     "name": "#%%\n"
    }
   }
  },
  {
   "cell_type": "code",
   "execution_count": 10,
   "outputs": [],
   "source": [
    "sample = pd.read_csv(\"sample.csv\")\n",
    "sample2 = sample\n",
    "sample2['Age'] = sample2['Age'].apply(lambda x: x+1)\n",
    "\n"
   ],
   "metadata": {
    "collapsed": false,
    "pycharm": {
     "name": "#%%\n"
    }
   }
  },
  {
   "cell_type": "code",
   "execution_count": 11,
   "outputs": [
    {
     "data": {
      "text/plain": "            Name         City  Age Profession\n0         Иванов       москва   25     Клинер\n1            NaN    волгоград   31   Менеджер\n2         Иванов       москва   25     Клинер\n3        sidorov  владивосток   43   Менеджер\n4        _______        курск   50   Водитель\n5       Кузнецов         сочи   19    Рабочий\n6          Сажин       сургут   29    Рабочий\n7   Котлеревский   йошкар-ола   32    Рабочий\n8     Завалишина    чебоксары   36   Менеджер\n9         Левина          nan   55    Рабочий\n10          Фикс         рига   42    Рабочий",
      "text/html": "<div>\n<style scoped>\n    .dataframe tbody tr th:only-of-type {\n        vertical-align: middle;\n    }\n\n    .dataframe tbody tr th {\n        vertical-align: top;\n    }\n\n    .dataframe thead th {\n        text-align: right;\n    }\n</style>\n<table border=\"1\" class=\"dataframe\">\n  <thead>\n    <tr style=\"text-align: right;\">\n      <th></th>\n      <th>Name</th>\n      <th>City</th>\n      <th>Age</th>\n      <th>Profession</th>\n    </tr>\n  </thead>\n  <tbody>\n    <tr>\n      <th>0</th>\n      <td>Иванов</td>\n      <td>москва</td>\n      <td>25</td>\n      <td>Клинер</td>\n    </tr>\n    <tr>\n      <th>1</th>\n      <td>NaN</td>\n      <td>волгоград</td>\n      <td>31</td>\n      <td>Менеджер</td>\n    </tr>\n    <tr>\n      <th>2</th>\n      <td>Иванов</td>\n      <td>москва</td>\n      <td>25</td>\n      <td>Клинер</td>\n    </tr>\n    <tr>\n      <th>3</th>\n      <td>sidorov</td>\n      <td>владивосток</td>\n      <td>43</td>\n      <td>Менеджер</td>\n    </tr>\n    <tr>\n      <th>4</th>\n      <td>_______</td>\n      <td>курск</td>\n      <td>50</td>\n      <td>Водитель</td>\n    </tr>\n    <tr>\n      <th>5</th>\n      <td>Кузнецов</td>\n      <td>сочи</td>\n      <td>19</td>\n      <td>Рабочий</td>\n    </tr>\n    <tr>\n      <th>6</th>\n      <td>Сажин</td>\n      <td>сургут</td>\n      <td>29</td>\n      <td>Рабочий</td>\n    </tr>\n    <tr>\n      <th>7</th>\n      <td>Котлеревский</td>\n      <td>йошкар-ола</td>\n      <td>32</td>\n      <td>Рабочий</td>\n    </tr>\n    <tr>\n      <th>8</th>\n      <td>Завалишина</td>\n      <td>чебоксары</td>\n      <td>36</td>\n      <td>Менеджер</td>\n    </tr>\n    <tr>\n      <th>9</th>\n      <td>Левина</td>\n      <td>nan</td>\n      <td>55</td>\n      <td>Рабочий</td>\n    </tr>\n    <tr>\n      <th>10</th>\n      <td>Фикс</td>\n      <td>рига</td>\n      <td>42</td>\n      <td>Рабочий</td>\n    </tr>\n  </tbody>\n</table>\n</div>"
     },
     "execution_count": 11,
     "metadata": {},
     "output_type": "execute_result"
    }
   ],
   "source": [
    "sample = pd.read_csv(\"sample.csv\")\n",
    "sample2 = sample\n",
    "sample2['City'] = sample2['City'].apply(lambda x: str(x).lower())\n",
    "sample2"
   ],
   "metadata": {
    "collapsed": false,
    "pycharm": {
     "name": "#%%\n"
    }
   }
  },
  {
   "cell_type": "code",
   "execution_count": 12,
   "outputs": [],
   "source": [
    "sample = pd.read_csv(\"sample.csv\")\n",
    "def profession_code(s):\n",
    "    return 0 if s == \"Рабочий\" else 1 if s == \"Менеджер\" else 2\n",
    "sample2 = sample\n",
    "sample2['Profession'] = sample2['Profession'].apply(profession_code)\n",
    "\n"
   ],
   "metadata": {
    "collapsed": false,
    "pycharm": {
     "name": "#%%\n"
    }
   }
  },
  {
   "cell_type": "code",
   "execution_count": 13,
   "outputs": [],
   "source": [
    "sample = pd.read_csv(\"sample.csv\")\n",
    "def age_category(age):\n",
    "    return 'молодой' if age < 23 else 'средний' if age < 35 else 'зрелый'\n",
    "sample['Age_category'] = sample['Age'].apply(age_category)\n"
   ],
   "metadata": {
    "collapsed": false,
    "pycharm": {
     "name": "#%%\n"
    }
   }
  },
  {
   "cell_type": "code",
   "execution_count": 14,
   "outputs": [
    {
     "data": {
      "text/plain": "'la'"
     },
     "execution_count": 14,
     "metadata": {},
     "output_type": "execute_result"
    }
   ],
   "source": [
    "import re\n",
    "log = pd.read_csv('log.csv', header=None)\n",
    "log.columns = ['user_id','time','bet','win']\n",
    "def clean_user_id(string):\n",
    "    result = re.search('(user_\\d+)', str(string))\n",
    "    return result.group(0) if result is not None else ''\n",
    "log['user_id'] = log['user_id'].apply(clean_user_id)\n",
    "log['user_id']\n",
    "'bla'[1:]"
   ],
   "metadata": {
    "collapsed": false,
    "pycharm": {
     "name": "#%%\n"
    }
   }
  },
  {
   "cell_type": "code",
   "execution_count": 15,
   "outputs": [
    {
     "data": {
      "text/plain": "0      2019-01-01 14:06:51\n1      2019-01-01 14:51:16\n2      2019-01-01 16:31:16\n3      2019-01-01 17:17:51\n4      2019-01-01 21:31:18\n              ...         \n995     2019-04-20 9:59:58\n996                    NaN\n997                    NaN\n998                    NaN\n999                    NaN\nName: time, Length: 1000, dtype: object"
     },
     "execution_count": 15,
     "metadata": {},
     "output_type": "execute_result"
    }
   ],
   "source": [
    "log = pd.read_csv('log.csv', header=None)\n",
    "log.columns = ['user_id','time','bet','win']\n",
    "\n",
    "log.time = log.time.apply(lambda x: x[1:] if type(x) == str else x)\n",
    "log.time"
   ],
   "metadata": {
    "collapsed": false,
    "pycharm": {
     "name": "#%%\n"
    }
   }
  },
  {
   "cell_type": "code",
   "execution_count": 16,
   "outputs": [
    {
     "data": {
      "text/plain": "'2019-01-01 14:06:51'"
     },
     "execution_count": 16,
     "metadata": {},
     "output_type": "execute_result"
    }
   ],
   "source": [
    "log = pd.read_csv(\"log.csv\",header=None)\n",
    "log.columns = ['user_id','time','bet','win']\n",
    "t = log.time[0]\n",
    "t[1:]\n",
    "\n"
   ],
   "metadata": {
    "collapsed": false,
    "pycharm": {
     "name": "#%%\n"
    }
   }
  },
  {
   "cell_type": "code",
   "execution_count": 17,
   "outputs": [
    {
     "data": {
      "text/plain": "      user_id                 time      bet     win\n0    user_919  2019-01-01 14:06:51      NaN     NaN\n1    user_973  2019-01-01 14:51:16      NaN     NaN\n2    user_903  2019-01-01 16:31:16      NaN     NaN\n3    user_954  2019-01-01 17:17:51      NaN     NaN\n4    user_954  2019-01-01 21:31:18      NaN     NaN\n..        ...                  ...      ...     ...\n991  user_965  2019-04-20 12:55:41    800.0  6927.0\n992  user_967  2019-04-20 14:59:36  10154.0     NaN\n993  user_973  2019-04-20 17:09:56  10254.0     NaN\n994  user_977  2019-04-20 18:10:07  10354.0     NaN\n995  user_984   2019-04-20 9:59:58   9754.0     NaN\n\n[985 rows x 4 columns]",
      "text/html": "<div>\n<style scoped>\n    .dataframe tbody tr th:only-of-type {\n        vertical-align: middle;\n    }\n\n    .dataframe tbody tr th {\n        vertical-align: top;\n    }\n\n    .dataframe thead th {\n        text-align: right;\n    }\n</style>\n<table border=\"1\" class=\"dataframe\">\n  <thead>\n    <tr style=\"text-align: right;\">\n      <th></th>\n      <th>user_id</th>\n      <th>time</th>\n      <th>bet</th>\n      <th>win</th>\n    </tr>\n  </thead>\n  <tbody>\n    <tr>\n      <th>0</th>\n      <td>user_919</td>\n      <td>2019-01-01 14:06:51</td>\n      <td>NaN</td>\n      <td>NaN</td>\n    </tr>\n    <tr>\n      <th>1</th>\n      <td>user_973</td>\n      <td>2019-01-01 14:51:16</td>\n      <td>NaN</td>\n      <td>NaN</td>\n    </tr>\n    <tr>\n      <th>2</th>\n      <td>user_903</td>\n      <td>2019-01-01 16:31:16</td>\n      <td>NaN</td>\n      <td>NaN</td>\n    </tr>\n    <tr>\n      <th>3</th>\n      <td>user_954</td>\n      <td>2019-01-01 17:17:51</td>\n      <td>NaN</td>\n      <td>NaN</td>\n    </tr>\n    <tr>\n      <th>4</th>\n      <td>user_954</td>\n      <td>2019-01-01 21:31:18</td>\n      <td>NaN</td>\n      <td>NaN</td>\n    </tr>\n    <tr>\n      <th>...</th>\n      <td>...</td>\n      <td>...</td>\n      <td>...</td>\n      <td>...</td>\n    </tr>\n    <tr>\n      <th>991</th>\n      <td>user_965</td>\n      <td>2019-04-20 12:55:41</td>\n      <td>800.0</td>\n      <td>6927.0</td>\n    </tr>\n    <tr>\n      <th>992</th>\n      <td>user_967</td>\n      <td>2019-04-20 14:59:36</td>\n      <td>10154.0</td>\n      <td>NaN</td>\n    </tr>\n    <tr>\n      <th>993</th>\n      <td>user_973</td>\n      <td>2019-04-20 17:09:56</td>\n      <td>10254.0</td>\n      <td>NaN</td>\n    </tr>\n    <tr>\n      <th>994</th>\n      <td>user_977</td>\n      <td>2019-04-20 18:10:07</td>\n      <td>10354.0</td>\n      <td>NaN</td>\n    </tr>\n    <tr>\n      <th>995</th>\n      <td>user_984</td>\n      <td>2019-04-20 9:59:58</td>\n      <td>9754.0</td>\n      <td>NaN</td>\n    </tr>\n  </tbody>\n</table>\n<p>985 rows × 4 columns</p>\n</div>"
     },
     "execution_count": 17,
     "metadata": {},
     "output_type": "execute_result"
    }
   ],
   "source": [
    "import re\n",
    "log = pd.read_csv('log.csv', header=None)\n",
    "log.columns = ['user_id','time','bet','win']\n",
    "def clean_user_id(string):\n",
    "    result = re.search('(user_\\d+)', str(string))\n",
    "    return result.group(0) if result is not None else ''\n",
    "log['user_id'] = log['user_id'].apply(clean_user_id)\n",
    "log.time = log.time.apply(lambda x: x[1:] if type(x) == str else x)\n",
    "log = log[log['user_id'].str.match('user')]\n",
    "log"
   ],
   "metadata": {
    "collapsed": false,
    "pycharm": {
     "name": "#%%\n"
    }
   }
  },
  {
   "cell_type": "code",
   "execution_count": 17,
   "outputs": [],
   "source": [
    "\n"
   ],
   "metadata": {
    "collapsed": false,
    "pycharm": {
     "name": "#%%\n"
    }
   }
  }
 ],
 "metadata": {
  "kernelspec": {
   "name": "python3",
   "language": "python",
   "display_name": "Python 3"
  },
  "language_info": {
   "codemirror_mode": {
    "name": "ipython",
    "version": 2
   },
   "file_extension": ".py",
   "mimetype": "text/x-python",
   "name": "python",
   "nbconvert_exporter": "python",
   "pygments_lexer": "ipython2",
   "version": "2.7.6"
  }
 },
 "nbformat": 4,
 "nbformat_minor": 0
}