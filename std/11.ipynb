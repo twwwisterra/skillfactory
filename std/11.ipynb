{
 "cells": [
  {
   "cell_type": "code",
   "execution_count": 4,
   "metadata": {
    "collapsed": true
   },
   "outputs": [
    {
     "data": {
      "text/plain": "False    985\nTrue      15\nName: time, dtype: int64"
     },
     "execution_count": 4,
     "metadata": {},
     "output_type": "execute_result"
    }
   ],
   "source": [
    "import pandas as pd\n",
    "\n",
    "log = pd.read_csv('log.csv', header=None)\n",
    "log.columns = ['user_id','time', 'bet','win']\n",
    "log\n",
    "log.time.isna().value_counts()\n"
   ]
  },
  {
   "cell_type": "code",
   "execution_count": 5,
   "outputs": [
    {
     "data": {
      "text/plain": "user_id    False\ntime       False\nbet        False\nwin        False\nName: 384, dtype: bool"
     },
     "execution_count": 5,
     "metadata": {},
     "output_type": "execute_result"
    }
   ],
   "source": [
    "log2 = log.dropna(axis=0)\n",
    "\n",
    "log2.iloc[14].isna()"
   ],
   "metadata": {
    "collapsed": false,
    "pycharm": {
     "name": "#%%\n"
    }
   }
  },
  {
   "cell_type": "code",
   "execution_count": 6,
   "outputs": [
    {
     "data": {
      "text/plain": "0     2019-01-01 14:06:51\n1     2019-01-01 14:51:16\n2     2019-01-01 16:31:16\n3     2019-01-01 17:17:51\n4     2019-01-01 21:31:18\n              ...        \n991   2019-04-20 12:55:41\n992   2019-04-20 14:59:36\n993   2019-04-20 17:09:56\n994   2019-04-20 18:10:07\n995   2019-04-20 09:59:58\nName: time, Length: 985, dtype: datetime64[ns]"
     },
     "execution_count": 6,
     "metadata": {},
     "output_type": "execute_result"
    }
   ],
   "source": [
    "log3 = log.drop_duplicates(subset=['user_id', 'time'])\n",
    "log3 = log3.dropna(axis=0, subset=['time'])\n",
    "\n",
    "log3.time = log3.time.str.replace('[','')\n",
    "log3.time.apply(pd.to_datetime)"
   ],
   "metadata": {
    "collapsed": false,
    "pycharm": {
     "name": "#%%\n"
    }
   }
  },
  {
   "cell_type": "code",
   "execution_count": 7,
   "outputs": [
    {
     "data": {
      "text/plain": "night        265\nmorning      253\nafternoon    239\nevening      227\nName: time, dtype: int64"
     },
     "execution_count": 7,
     "metadata": {},
     "output_type": "execute_result"
    }
   ],
   "source": [
    "log = pd.read_csv(\"log.csv\")\n",
    "log.columns = ['user_id', 'time', 'bet', 'win']\n",
    "log = log.dropna(axis=0, subset=['time'])\n",
    "log['time'] = log['time'].apply(lambda x: x[1:])\n",
    "log['time'] = pd.to_datetime(log['time'])\n",
    "#log.dayofweek = log['time'].dt.dayofweek\n",
    "#log.dayofweek[log.dayofweek >= 5].count()\n",
    "\n",
    "log['time'].dt.dayofweek.apply(lambda x: 1 if x >=5 else 0).sum()\n",
    "\n",
    "log['time'].dt.hour.apply(lambda x:\n",
    "                               'night' if 0 <=x<=5 else\n",
    "                               'morning' if 6 <=x<=11 else\n",
    "                               'afternoon' if 12 <=x<=17 else\n",
    "                               'evening').value_counts()"
   ],
   "metadata": {
    "collapsed": false,
    "pycharm": {
     "name": "#%%\n"
    }
   }
  },
  {
   "cell_type": "code",
   "execution_count": 8,
   "outputs": [
    {
     "data": {
      "text/plain": "6785.738144329897"
     },
     "execution_count": 8,
     "metadata": {},
     "output_type": "execute_result"
    }
   ],
   "source": [
    "log = pd.read_csv(\"log.csv\", header=None)\n",
    "log.columns = ['user_id', 'time', 'bet', 'win']\n",
    "log = log.dropna(axis=0)\n",
    "log['time'] = log['time'].apply(lambda x: x[1:])\n",
    "log['time'] = pd.to_datetime(log['time'])\n",
    "log['hour'] = log['time'].dt.hour\n",
    "\n",
    "log\n",
    "\n",
    "log = pd.read_csv(\"log.csv\", header=None)\n",
    "log.columns = ['user_id', 'time', 'bet', 'win']\n",
    "\n",
    "log.bet.dropna().mean()"
   ],
   "metadata": {
    "collapsed": false,
    "pycharm": {
     "name": "#%%\n"
    }
   }
  },
  {
   "cell_type": "code",
   "execution_count": 9,
   "outputs": [
    {
     "name": "stdout",
     "output_type": "stream",
     "text": [
      "bet % 48.5\n",
      "bet avg 6785.738144329897\n",
      "bet min 100.0\n",
      "bet min count 48\n",
      "net avg 20421.892783505155\n",
      "net avg loss -3372.743515850144\n",
      "net % loss 34.699999999999996\n",
      "net % win 65.3\n"
     ]
    }
   ],
   "source": [
    "log = pd.read_csv(\"log.csv\", header=None)\n",
    "log.columns = ['user_id', 'time', 'bet', 'win']\n",
    "\n",
    "log['bet'] = log['bet'].fillna(0)\n",
    "log['win'] = log['win'].fillna(0)\n",
    "\n",
    "log['bet'].value_counts()\n",
    "\n",
    "def fillna_win(row):\n",
    "    return row.win - row.bet\n",
    "\n",
    "log['net'] = log.apply(lambda row: fillna_win(row), axis=1)\n",
    "\n",
    "print('bet %', log.bet[log.bet > 0].count() / log.bet.count() * 100)\n",
    "print('bet avg', log.bet[log.bet > 0].mean())\n",
    "print('bet min', log.bet[log.bet > 0].min())\n",
    "print('bet min count', log.bet[log.bet == 100].count())\n",
    "print('net avg', log.net[log.bet > 0].mean())\n",
    "print('net avg loss', log.net[log.net < 0].mean())\n",
    "print('net % loss', log.net[log.net < 0].count()/ log.net.count() * 100)\n",
    "print('net % win', log.net[log.net >= 0].count()/ log.net.count() * 100)\n",
    "\n",
    "#log.net[log.net >0].mean()"
   ],
   "metadata": {
    "collapsed": false,
    "pycharm": {
     "name": "#%%\n"
    }
   }
  },
  {
   "cell_type": "code",
   "execution_count": 10,
   "outputs": [
    {
     "data": {
      "text/plain": "bet_sum        32122.05\nbet_attends        5.05\ndtype: float64"
     },
     "execution_count": 10,
     "metadata": {},
     "output_type": "execute_result"
    }
   ],
   "source": [
    "log = pd.read_csv(\"log.csv\", header=None)\n",
    "log.columns = ['user_id', 'time', 'bet', 'win']\n",
    "\n",
    "log = log.dropna(axis=0, subset=['time'])\n",
    "log['bet'] = log['bet'].fillna(0)\n",
    "log['win'] = log['win'].fillna(0)\n",
    "\n",
    "log.time = log.time.str.replace('[','')\n",
    "log.time = log.time.apply(pd.to_datetime)\n",
    "\n",
    "\n",
    "def fillna_win(row):\n",
    "    return row.win - row.bet\n",
    "\n",
    "log['net'] = log.apply(lambda row: fillna_win(row), axis=1)\n",
    "\n",
    "users = pd.read_csv('users.csv', delimiter='\\t', encoding='koi8_r')\n",
    "users.columns = ['user_id', 'email', 'geo']\n",
    "#users.info()\n",
    "\n",
    "users.user_id = users.user_id.apply(lambda x: x.lower())\n",
    "\n",
    "log = log[log.user_id != '#error']\n",
    "log.user_id = log.user_id.str.split(' - ').apply(lambda x: x[1])\n",
    "\n",
    "df = pd.merge(log, users, on='user_id')\n",
    "\n",
    "#df.info()\n",
    "\n",
    "df.groupby('user_id').net.sum().median()\n",
    "\n",
    "df_grouped = pd.DataFrame()\n",
    "\n",
    "df_grouped['bet_sum'] = df.groupby('user_id').bet.sum()\n",
    "df_grouped['bet_attends'] = df.query('bet == 0').groupby('user_id').bet.count()\n",
    "\n",
    "df_grouped.query('bet_sum > 0').mean()"
   ],
   "metadata": {
    "collapsed": false,
    "pycharm": {
     "name": "#%%\n"
    }
   }
  },
  {
   "cell_type": "code",
   "execution_count": 11,
   "outputs": [
    {
     "data": {
      "text/plain": "Timedelta('47 days 01:34:33.930000')"
     },
     "execution_count": 11,
     "metadata": {},
     "output_type": "execute_result"
    }
   ],
   "source": [
    "df_grouped['bet_first_attend'] = df.groupby('user_id').time.min()\n",
    "df_grouped['bet_first_pay'] = df.query('bet > 0').groupby('user_id').time.min()\n",
    "\n",
    "#df_grouped['bet_first_attend']\n",
    "\n",
    "df_grouped['bet_interval'] = df_grouped.query('bet_sum > 0')['bet_first_pay'] \\\n",
    "                             - df_grouped.query('bet_sum > 0')['bet_first_attend']\n",
    "\n",
    "df_grouped['bet_interval'].mean()"
   ],
   "metadata": {
    "collapsed": false,
    "pycharm": {
     "name": "#%%\n"
    }
   }
  },
  {
   "cell_type": "code",
   "execution_count": 15,
   "outputs": [
    {
     "data": {
      "text/plain": "geo\nТюмень                 4701.0\nЕкатеринбург          36682.0\nСтаврополь            46003.0\nКраснодар             62718.0\nХабаровск             65459.0\nПермь                 67734.0\nАрзангелтск           74375.0\nКрасноярск            84767.0\nИжевск                84895.0\nЯрославль             97441.0\nКазань                97806.0\nСанкт-Петербург      151007.0\nВоронеж              184338.0\nМосква             11959741.0\nName: win, dtype: float64"
     },
     "execution_count": 15,
     "metadata": {},
     "output_type": "execute_result"
    }
   ],
   "source": [
    "df.groupby('geo').win.sum().sort_values()"
   ],
   "metadata": {
    "collapsed": false,
    "pycharm": {
     "name": "#%%\n"
    }
   }
  },
  {
   "cell_type": "code",
   "execution_count": 21,
   "outputs": [
    {
     "data": {
      "text/plain": "127.81602335164835"
     },
     "execution_count": 21,
     "metadata": {},
     "output_type": "execute_result"
    }
   ],
   "source": [
    "df_geo = pd.DataFrame()\n",
    "df_geo['mean'] = df.query('bet > 0').groupby('geo').bet.mean()\n",
    "df_geo['mean'].max() / df_geo['mean'].min()\n"
   ],
   "metadata": {
    "collapsed": false,
    "pycharm": {
     "name": "#%%\n"
    }
   }
  },
  {
   "cell_type": "code",
   "execution_count": 24,
   "outputs": [
    {
     "data": {
      "text/plain": "geo\nАрзангелтск         96\nВоронеж             88\nЕкатеринбург        49\nИжевск              61\nКазань              66\nКраснодар           86\nКрасноярск          56\nМосква              61\nПермь               55\nСанкт-Петербург    115\nСтаврополь          36\nТюмень              32\nХабаровск           60\nЯрославль           89\nName: user_id, dtype: int64"
     },
     "execution_count": 24,
     "metadata": {},
     "output_type": "execute_result"
    }
   ],
   "source": [
    "log = pd.read_csv(\"log.csv\", header=None)\n",
    "log.columns = ['user_id', 'time', 'bet', 'win']\n",
    "\n",
    "log = log.dropna(axis=0, subset=['time'])\n",
    "log['bet'] = log['bet'].fillna(0)\n",
    "log['win'] = log['win'].fillna(0)\n",
    "\n",
    "log.time = log.time.str.replace('[','')\n",
    "log.time = log.time.apply(pd.to_datetime)\n",
    "\n",
    "\n",
    "def fillna_win(row):\n",
    "    return row.win - row.bet\n",
    "\n",
    "log['net'] = log.apply(lambda row: fillna_win(row), axis=1)\n",
    "\n",
    "users = pd.read_csv('users.csv', delimiter='\\t', encoding='koi8_r')\n",
    "users.columns = ['user_id', 'email', 'geo']\n",
    "#users.info()\n",
    "\n",
    "users.user_id = users.user_id.apply(lambda x: x.lower())\n",
    "\n",
    "log = log[log.user_id != '#error']\n",
    "log.user_id = log.user_id.str.split(' - ').apply(lambda x: x[1])\n",
    "\n",
    "df = pd.merge(log, users, on='user_id')\n",
    "\n",
    "sample2 = df.groupby('geo').user_id.count()\n",
    "\n",
    "sample2"
   ],
   "metadata": {
    "collapsed": false,
    "pycharm": {
     "name": "#%%\n"
    }
   }
  },
  {
   "cell_type": "code",
   "execution_count": null,
   "outputs": [],
   "source": [],
   "metadata": {
    "collapsed": false,
    "pycharm": {
     "name": "#%%\n"
    }
   }
  },
  {
   "cell_type": "code",
   "execution_count": 25,
   "outputs": [
    {
     "ename": "TypeError",
     "evalue": "sequence item 0: expected str instance, int found",
     "output_type": "error",
     "traceback": [
      "\u001B[1;31m---------------------------------------------------------------------------\u001B[0m",
      "\u001B[1;31mTypeError\u001B[0m                                 Traceback (most recent call last)",
      "\u001B[1;32m<ipython-input-25-5bb54ef402cd>\u001B[0m in \u001B[0;36m<module>\u001B[1;34m\u001B[0m\n\u001B[1;32m----> 1\u001B[1;33m \u001B[0mprint\u001B[0m\u001B[1;33m(\u001B[0m\u001B[1;34m\"\"\u001B[0m\u001B[1;33m.\u001B[0m\u001B[0mjoin\u001B[0m\u001B[1;33m(\u001B[0m\u001B[1;33m[\u001B[0m\u001B[1;36m1\u001B[0m\u001B[1;33m,\u001B[0m\u001B[1;36m2\u001B[0m\u001B[1;33m]\u001B[0m\u001B[1;33m)\u001B[0m\u001B[1;33m)\u001B[0m\u001B[1;33m\u001B[0m\u001B[1;33m\u001B[0m\u001B[0m\n\u001B[0m\u001B[0;32m      2\u001B[0m \u001B[1;33m\u001B[0m\u001B[0m\n",
      "\u001B[1;31mTypeError\u001B[0m: sequence item 0: expected str instance, int found"
     ]
    }
   ],
   "source": [],
   "metadata": {
    "collapsed": false,
    "pycharm": {
     "name": "#%%\n"
    }
   }
  }
 ],
 "metadata": {
  "kernelspec": {
   "display_name": "Python 3",
   "language": "python",
   "name": "python3"
  },
  "language_info": {
   "codemirror_mode": {
    "name": "ipython",
    "version": 2
   },
   "file_extension": ".py",
   "mimetype": "text/x-python",
   "name": "python",
   "nbconvert_exporter": "python",
   "pygments_lexer": "ipython2",
   "version": "2.7.6"
  }
 },
 "nbformat": 4,
 "nbformat_minor": 0
}