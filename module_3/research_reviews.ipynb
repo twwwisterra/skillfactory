{
 "cells": [
  {
   "cell_type": "code",
   "execution_count": 105,
   "outputs": [],
   "source": [
    "import pandas as pd\n",
    "import requests\n",
    "from bs4 import BeautifulSoup\n",
    "import json\n",
    "import ast\n",
    "import datetime\n",
    "import seaborn as sns\n",
    "from collections import Counter\n",
    "import numpy as np"
   ],
   "metadata": {
    "collapsed": false,
    "pycharm": {
     "name": "#%%\n"
    }
   }
  },
  {
   "cell_type": "code",
   "execution_count": 106,
   "outputs": [],
   "source": [
    "df = pd.read_csv('main_task.xls')"
   ],
   "metadata": {
    "collapsed": false,
    "pycharm": {
     "name": "#%%\n"
    }
   }
  },
  {
   "cell_type": "code",
   "execution_count": 115,
   "outputs": [
    {
     "data": {
      "text/plain": "            City  City_max_Rank  Ranking  Ranking_Relative_1\n0          Paris        13986.0   5570.0             19556.0\n1      Stockholm         2464.0   1537.0              4001.0\n2         London        16444.0    353.0             16797.0\n3         Berlin         6372.0   3458.0              9830.0\n4         Munich         2763.0    621.0              3384.0\n...          ...            ...      ...                 ...\n39995      Milan         6275.0    500.0              6775.0\n39996      Paris        13986.0   6341.0             20327.0\n39997  Stockholm         2464.0   1652.0              4116.0\n39998     Warsaw         2141.0    641.0              2782.0\n39999      Milan         6275.0   4827.0             11102.0\n\n[40000 rows x 4 columns]",
      "text/html": "<div>\n<style scoped>\n    .dataframe tbody tr th:only-of-type {\n        vertical-align: middle;\n    }\n\n    .dataframe tbody tr th {\n        vertical-align: top;\n    }\n\n    .dataframe thead th {\n        text-align: right;\n    }\n</style>\n<table border=\"1\" class=\"dataframe\">\n  <thead>\n    <tr style=\"text-align: right;\">\n      <th></th>\n      <th>City</th>\n      <th>City_max_Rank</th>\n      <th>Ranking</th>\n      <th>Ranking_Relative_1</th>\n    </tr>\n  </thead>\n  <tbody>\n    <tr>\n      <th>0</th>\n      <td>Paris</td>\n      <td>13986.0</td>\n      <td>5570.0</td>\n      <td>19556.0</td>\n    </tr>\n    <tr>\n      <th>1</th>\n      <td>Stockholm</td>\n      <td>2464.0</td>\n      <td>1537.0</td>\n      <td>4001.0</td>\n    </tr>\n    <tr>\n      <th>2</th>\n      <td>London</td>\n      <td>16444.0</td>\n      <td>353.0</td>\n      <td>16797.0</td>\n    </tr>\n    <tr>\n      <th>3</th>\n      <td>Berlin</td>\n      <td>6372.0</td>\n      <td>3458.0</td>\n      <td>9830.0</td>\n    </tr>\n    <tr>\n      <th>4</th>\n      <td>Munich</td>\n      <td>2763.0</td>\n      <td>621.0</td>\n      <td>3384.0</td>\n    </tr>\n    <tr>\n      <th>...</th>\n      <td>...</td>\n      <td>...</td>\n      <td>...</td>\n      <td>...</td>\n    </tr>\n    <tr>\n      <th>39995</th>\n      <td>Milan</td>\n      <td>6275.0</td>\n      <td>500.0</td>\n      <td>6775.0</td>\n    </tr>\n    <tr>\n      <th>39996</th>\n      <td>Paris</td>\n      <td>13986.0</td>\n      <td>6341.0</td>\n      <td>20327.0</td>\n    </tr>\n    <tr>\n      <th>39997</th>\n      <td>Stockholm</td>\n      <td>2464.0</td>\n      <td>1652.0</td>\n      <td>4116.0</td>\n    </tr>\n    <tr>\n      <th>39998</th>\n      <td>Warsaw</td>\n      <td>2141.0</td>\n      <td>641.0</td>\n      <td>2782.0</td>\n    </tr>\n    <tr>\n      <th>39999</th>\n      <td>Milan</td>\n      <td>6275.0</td>\n      <td>4827.0</td>\n      <td>11102.0</td>\n    </tr>\n  </tbody>\n</table>\n<p>40000 rows × 4 columns</p>\n</div>"
     },
     "execution_count": 115,
     "metadata": {},
     "output_type": "execute_result"
    }
   ],
   "source": [
    "'''\n",
    "0. calculating days since last review (considering the 2018-02-26 is the last date) and days between reviews\n",
    "1. replacing outliers with median (for days b/w reviews) and max (for days since last review)\n",
    "2. replacing outliers with max value (excluding outlier values) amount of reviews\n",
    "3. adding data on max rank per city\n",
    "'''\n",
    "def outliers_iqr(ys):\n",
    "    quartile_1, quartile_3 = np.percentile(ys, [25, 75])\n",
    "    iqr = quartile_3 - quartile_1\n",
    "    lower_bound = quartile_1 - (iqr * 1.5)\n",
    "    upper_bound = quartile_3 + (iqr * 1.5)\n",
    "    return {'min': lower_bound, 'max': upper_bound}\n",
    "\n",
    "def remove_outliers(value, outliers):\n",
    "    if outliers.get('max') > value > outliers.get('min'):\n",
    "        return value\n",
    "    else:\n",
    "        return\n",
    "\n",
    "def days_since_review(string):\n",
    "    max_date = datetime.datetime.strptime('2018-02-26', '%Y-%m-%d')\n",
    "    if type(string) == str:\n",
    "        try:\n",
    "            content = ast.literal_eval(string)\n",
    "            if len(content)>0:\n",
    "                l_dates = [datetime.datetime.strptime(x, '%m/%d/%Y') for x in content[1]]\n",
    "                if len(l_dates) > 0:\n",
    "                    min_date = max(l_dates)\n",
    "                return (max_date - min_date).days\n",
    "        except:\n",
    "            return\n",
    "\n",
    "def days_between_reviews(string):\n",
    "    if type(string) == str:\n",
    "        try:\n",
    "            content = ast.literal_eval(string)\n",
    "            if len(content)>0:\n",
    "                l_dates = [datetime.datetime.strptime(x, '%m/%d/%Y') for x in content[1]]\n",
    "                if len(l_dates) >= 2:\n",
    "                    min_date = min(l_dates)\n",
    "                    max_date = max(l_dates)\n",
    "                    return (max_date - min_date).days\n",
    "        except:\n",
    "            return\n",
    "\n",
    "df['Days_Since_Review'] = df['Reviews'].apply(days_since_review)\n",
    "outliners = outliers_iqr(df['Days_Since_Review'].dropna())\n",
    "df['Days_Since_Review'] = df['Days_Since_Review'].apply(lambda x: remove_outliers(x, outliners))\n",
    "df['Days_Since_Review'].fillna(value=df['Days_Since_Review'].max())\n",
    "\n",
    "df['Days_Between_Reviews'] = df['Reviews'].apply(days_between_reviews)\n",
    "outliners = outliers_iqr(df['Days_Between_Reviews'].dropna())\n",
    "df['Days_Between_Reviews'] = df['Days_Between_Reviews'].apply(lambda x: remove_outliers(x, outliners))\n",
    "df['Days_Between_Reviews'].fillna(value=df['Days_Between_Reviews'].median())\n",
    "\n",
    "outliners = outliers_iqr(df['Number of Reviews'].dropna())\n",
    "df['Number_of_Reviews'] = df['Number of Reviews'].apply(lambda x: remove_outliers(x, outliners))\n",
    "df['Number_of_Reviews'].fillna(value=df['Number_of_Reviews'].max())\n",
    "\n",
    "city_max_rank = {}\n",
    "for city in df['City'].unique():\n",
    "    city_max_rank[city] = df.query('City == @city')['Ranking'].max()\n",
    "df['City_max_Rank'] = df['City'].replace(city_max_rank)"
   ],
   "metadata": {
    "collapsed": false,
    "pycharm": {
     "name": "#%%\n"
    }
   }
  },
  {
   "cell_type": "code",
   "execution_count": 116,
   "outputs": [
    {
     "data": {
      "text/plain": "            City  City_max_Rank  Ranking  Ranking_Relative_1  Rating\n0          Paris        13986.0   5570.0             19556.0     3.5\n1      Stockholm         2464.0   1537.0              4001.0     4.0\n2         London        16444.0    353.0             16797.0     4.5\n3         Berlin         6372.0   3458.0              9830.0     5.0\n4         Munich         2763.0    621.0              3384.0     4.0\n...          ...            ...      ...                 ...     ...\n39995      Milan         6275.0    500.0              6775.0     4.5\n39996      Paris        13986.0   6341.0             20327.0     3.5\n39997  Stockholm         2464.0   1652.0              4116.0     4.5\n39998     Warsaw         2141.0    641.0              2782.0     4.0\n39999      Milan         6275.0   4827.0             11102.0     3.0\n\n[40000 rows x 5 columns]",
      "text/html": "<div>\n<style scoped>\n    .dataframe tbody tr th:only-of-type {\n        vertical-align: middle;\n    }\n\n    .dataframe tbody tr th {\n        vertical-align: top;\n    }\n\n    .dataframe thead th {\n        text-align: right;\n    }\n</style>\n<table border=\"1\" class=\"dataframe\">\n  <thead>\n    <tr style=\"text-align: right;\">\n      <th></th>\n      <th>City</th>\n      <th>City_max_Rank</th>\n      <th>Ranking</th>\n      <th>Ranking_Relative_1</th>\n      <th>Rating</th>\n    </tr>\n  </thead>\n  <tbody>\n    <tr>\n      <th>0</th>\n      <td>Paris</td>\n      <td>13986.0</td>\n      <td>5570.0</td>\n      <td>19556.0</td>\n      <td>3.5</td>\n    </tr>\n    <tr>\n      <th>1</th>\n      <td>Stockholm</td>\n      <td>2464.0</td>\n      <td>1537.0</td>\n      <td>4001.0</td>\n      <td>4.0</td>\n    </tr>\n    <tr>\n      <th>2</th>\n      <td>London</td>\n      <td>16444.0</td>\n      <td>353.0</td>\n      <td>16797.0</td>\n      <td>4.5</td>\n    </tr>\n    <tr>\n      <th>3</th>\n      <td>Berlin</td>\n      <td>6372.0</td>\n      <td>3458.0</td>\n      <td>9830.0</td>\n      <td>5.0</td>\n    </tr>\n    <tr>\n      <th>4</th>\n      <td>Munich</td>\n      <td>2763.0</td>\n      <td>621.0</td>\n      <td>3384.0</td>\n      <td>4.0</td>\n    </tr>\n    <tr>\n      <th>...</th>\n      <td>...</td>\n      <td>...</td>\n      <td>...</td>\n      <td>...</td>\n      <td>...</td>\n    </tr>\n    <tr>\n      <th>39995</th>\n      <td>Milan</td>\n      <td>6275.0</td>\n      <td>500.0</td>\n      <td>6775.0</td>\n      <td>4.5</td>\n    </tr>\n    <tr>\n      <th>39996</th>\n      <td>Paris</td>\n      <td>13986.0</td>\n      <td>6341.0</td>\n      <td>20327.0</td>\n      <td>3.5</td>\n    </tr>\n    <tr>\n      <th>39997</th>\n      <td>Stockholm</td>\n      <td>2464.0</td>\n      <td>1652.0</td>\n      <td>4116.0</td>\n      <td>4.5</td>\n    </tr>\n    <tr>\n      <th>39998</th>\n      <td>Warsaw</td>\n      <td>2141.0</td>\n      <td>641.0</td>\n      <td>2782.0</td>\n      <td>4.0</td>\n    </tr>\n    <tr>\n      <th>39999</th>\n      <td>Milan</td>\n      <td>6275.0</td>\n      <td>4827.0</td>\n      <td>11102.0</td>\n      <td>3.0</td>\n    </tr>\n  </tbody>\n</table>\n<p>40000 rows × 5 columns</p>\n</div>"
     },
     "execution_count": 116,
     "metadata": {},
     "output_type": "execute_result"
    }
   ],
   "source": [
    "df[['City', 'City_max_Rank', 'Ranking', 'Ranking_Relative', 'Rating']]"
   ],
   "metadata": {
    "collapsed": false,
    "pycharm": {
     "name": "#%%\n"
    }
   }
  },
  {
   "cell_type": "code",
   "execution_count": 108,
   "outputs": [
    {
     "name": "stdout",
     "output_type": "stream",
     "text": [
      "min 0.0\n",
      "max 402.0\n",
      "median 57.0\n"
     ]
    },
    {
     "data": {
      "text/plain": "{'min': -163.0, 'max': 317.0}"
     },
     "execution_count": 108,
     "metadata": {},
     "output_type": "execute_result"
    },
    {
     "data": {
      "text/plain": "<Figure size 432x288 with 1 Axes>",
      "image/png": "[encoded data removed]"
     },
     "metadata": {
      "needs_background": "light"
     },
     "output_type": "display_data"
    }
   ],
   "source": [
    "df['Days_Between_Reviews'].hist(bins=100)\n",
    "\n",
    "print('min', df['Days_Between_Reviews'].min())\n",
    "print('max', df['Days_Between_Reviews'].max())\n",
    "print('median', df['Days_Between_Reviews'].median())\n",
    "\n",
    "outliers_iqr(df['Days_Between_Reviews'].dropna())"
   ],
   "metadata": {
    "collapsed": false,
    "pycharm": {
     "name": "#%%\n"
    }
   }
  },
  {
   "cell_type": "code",
   "execution_count": 109,
   "outputs": [
    {
     "name": "stdout",
     "output_type": "stream",
     "text": [
      "min 0.0\n",
      "max 720.0\n",
      "median 136.0\n"
     ]
    },
    {
     "data": {
      "text/plain": "{'min': -212.0, 'max': 548.0}"
     },
     "execution_count": 109,
     "metadata": {},
     "output_type": "execute_result"
    },
    {
     "data": {
      "text/plain": "<Figure size 432x288 with 1 Axes>",
      "image/png": "[encoded data removed]"
     },
     "metadata": {
      "needs_background": "light"
     },
     "output_type": "display_data"
    }
   ],
   "source": [
    "df['Days_Since_Review'].hist(bins=100)\n",
    "\n",
    "print('min', df['Days_Since_Review'].min())\n",
    "print('max', df['Days_Since_Review'].max())\n",
    "print('median', df['Days_Since_Review'].median())\n",
    "\n",
    "outliers_iqr(df['Days_Since_Review'].dropna())\n",
    "\n",
    "#for i in df.query('LatestReview > 722')['Reviews']: print(i)"
   ],
   "metadata": {
    "collapsed": false,
    "pycharm": {
     "name": "#%%\n"
    }
   }
  },
  {
   "cell_type": "code",
   "execution_count": 110,
   "outputs": [
    {
     "name": "stdout",
     "output_type": "stream",
     "text": [
      "min 2.0\n",
      "max 273.0\n",
      "median 25.0\n"
     ]
    },
    {
     "data": {
      "text/plain": "{'min': -88.375, 'max': 168.625}"
     },
     "execution_count": 110,
     "metadata": {},
     "output_type": "execute_result"
    },
    {
     "data": {
      "text/plain": "<Figure size 432x288 with 1 Axes>",
      "image/png": "[encoded data removed]"
     },
     "metadata": {
      "needs_background": "light"
     },
     "output_type": "display_data"
    }
   ],
   "source": [
    "df['Number_of_Reviews'].hist(bins=100)\n",
    "\n",
    "print('min', df['Number_of_Reviews'].min())\n",
    "print('max', df['Number_of_Reviews'].max())\n",
    "print('median', df['Number_of_Reviews'].median())\n",
    "\n",
    "outliers_iqr(df['Number_of_Reviews'].dropna())\n",
    "\n"
   ],
   "metadata": {
    "collapsed": false,
    "pycharm": {
     "name": "#%%\n"
    }
   }
  }
 ],
 "metadata": {
  "kernelspec": {
   "display_name": "Python 3",
   "language": "python",
   "name": "python3"
  },
  "language_info": {
   "codemirror_mode": {
    "name": "ipython",
    "version": 2
   },
   "file_extension": ".py",
   "mimetype": "text/x-python",
   "name": "python",
   "nbconvert_exporter": "python",
   "pygments_lexer": "ipython2",
   "version": "2.7.6"
  }
 },
 "nbformat": 4,
 "nbformat_minor": 0
}