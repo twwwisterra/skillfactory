{
 "cells": [
  {
   "cell_type": "code",
   "execution_count": 105,
   "outputs": [],
   "source": [
    "import pandas as pd\n",
    "import requests\n",
    "from bs4 import BeautifulSoup\n",
    "import json\n",
    "import ast\n",
    "import datetime\n",
    "import seaborn as sns\n",
    "from collections import Counter\n",
    "from pprint import pprint\n",
    "import numpy as np"
   ],
   "metadata": {
    "collapsed": false,
    "pycharm": {
     "name": "#%%\n"
    }
   }
  },
  {
   "cell_type": "code",
   "execution_count": 106,
   "outputs": [],
   "source": [
    "df = pd.read_csv('main_task.xls')"
   ],
   "metadata": {
    "collapsed": false,
    "pycharm": {
     "name": "#%%\n"
    }
   }
  },
  {
   "cell_type": "code",
   "execution_count": 107,
   "outputs": [
    {
     "data": {
      "text/plain": "<AxesSubplot:>"
     },
     "execution_count": 107,
     "metadata": {},
     "output_type": "execute_result"
    },
    {
     "data": {
      "text/plain": "<Figure size 432x288 with 1 Axes>",
      "image/png": "[encoded data removed]"
     },
     "metadata": {
      "needs_background": "light"
     },
     "output_type": "display_data"
    }
   ],
   "source": [
    "'''\n",
    "Changing price values from $, $$-$$$, $$$$ into 1, 3 and 5 accordingly.\n",
    "'''\n",
    "def convert_price(string):\n",
    "    if string == '$$$$':\n",
    "        return 5\n",
    "    elif string == '$':\n",
    "        return 1\n",
    "    else:\n",
    "        return 3\n",
    "\n",
    "df['Avg_Price'] = df['Price Range'].apply(convert_price)"
   ],
   "metadata": {
    "collapsed": false,
    "pycharm": {
     "name": "#%%\n"
    }
   }
  },
  {
   "cell_type": "code",
   "execution_count": 108,
   "outputs": [],
   "source": [
    "'''\n",
    "0. processing cuisines to first build a shorter list (down from 125)\n",
    "1. checking which restaurants are serving national cuisines (based on the city)\n",
    "2. counting number of cuisines served by each restaurant\n",
    "3. building dummy list from the short cuisine list\n",
    "4. creating new property of predicted quality based on ratio of served cuisines to price\n",
    "'''\n",
    "\n",
    "def build_top_list(series, top):\n",
    "    cuisines = []\n",
    "    for string in series:\n",
    "        if type(string) == str:\n",
    "            cuisines.extend(ast.literal_eval(string))\n",
    "    return [x[0] for x in Counter(cuisines).most_common(top)]\n",
    "\n",
    "def check_national_cuisines(series):\n",
    "    city_national_cuisine = {'Paris': 'French',\n",
    "                             'Stockholm': 'Swedish',\n",
    "                             'London': 'British',\n",
    "                             'Berlin': 'German',\n",
    "                             'Munich': 'German',\n",
    "                             'Oporto': 'Portuguese',\n",
    "                             'Milan': 'Italian',\n",
    "                             'Vienna': 'Austrian',\n",
    "                             'Rome': 'Italian',\n",
    "                             'Barcelona': 'Spanish',\n",
    "                             'Madrid': 'Spanish',\n",
    "                             'Dublin': 'Irish',\n",
    "                             'Brussels': 'Belgian',\n",
    "                             'Zurich': 'Swiss',\n",
    "                             'Warsaw': 'Polish',\n",
    "                             'Budapest': 'Hungarian',\n",
    "                             'Copenhagen': 'Danish',\n",
    "                             'Amsterdam': 'Dutch',\n",
    "                             'Lyon': 'French',\n",
    "                             'Hamburg': 'German',\n",
    "                             'Lisbon': 'Portuguese',\n",
    "                             'Prague': 'Czech',\n",
    "                             'Oslo': 'Norwegian',\n",
    "                             'Edinburgh': 'Scottish',\n",
    "                             'Geneva': 'Swiss',\n",
    "                             'Ljubljana': 'Slovenian',\n",
    "                             'Athens': 'Greek',\n",
    "                             'Luxembourg': 'Central European',\n",
    "                             'Krakow': 'Polish',\n",
    "                             }\n",
    "    result = {}\n",
    "    for idx, cuisines in series.iteritems():\n",
    "        if type(cuisines) == str:\n",
    "            city = df['City'][idx]\n",
    "            if city_national_cuisine.get(city) in ast.literal_eval(cuisines):\n",
    "                result[idx] = 1\n",
    "            else:\n",
    "                result[idx] = 0\n",
    "        else:\n",
    "            result[idx] = 0\n",
    "    return pd.Series(result)\n",
    "\n",
    "def regroup_cuisines(cuisines, top_list):\n",
    "    if type(cuisines) == str:\n",
    "        result = set()\n",
    "        for cuisine in ast.literal_eval(cuisines):\n",
    "        # regrouping some common cuisine categories\n",
    "            if cuisine in ['Bar', 'Pub', 'Wine Bar']:\n",
    "                result.add('Bar')\n",
    "            elif cuisine in ['Vegetarian Friendly', 'Vegan Options', 'Gluten Free Options', 'Healthy']:\n",
    "                result.add('Healthy')\n",
    "            elif cuisine in ['Asian', 'Japanese', 'Sushi', 'Chinese', 'Thai']:\n",
    "                result.add('Asian')\n",
    "            elif cuisine in ['Fast Food', 'American']:\n",
    "                result.add('Fast Food')\n",
    "            # processing other most common cuisines\n",
    "            elif cuisine in top_list:\n",
    "                result.add(cuisine)\n",
    "            # replacing all other cuisines with 'Others' category\n",
    "            else:\n",
    "                result.add('Others')\n",
    "        return list(result)\n",
    "\n",
    "top_list = build_top_list(df['Cuisine Style'], top=30)\n",
    "df['Cuisine_National'] = check_national_cuisines(df['Cuisine Style'])\n",
    "df['Cuisine_Styles_Short'] = df['Cuisine Style'].apply(lambda x: regroup_cuisines(x, top_list))\n",
    "df['Cuisine_Style_Count'] = df['Cuisine_Styles_Short'].apply(lambda x: len(x) if type(x) == list else 2)\n",
    "\n",
    "df_dummies = pd.get_dummies(df['Cuisine_Styles_Short'].apply(pd.Series).stack()).sum(level=0)\n",
    "df = df.merge(df_dummies, left_index=True, right_index=True)\n",
    "\n",
    "df['Cuisine_Predicted_Quality'] = df['Avg_Price'] / df['Cuisine_Style_Count']\n"
   ],
   "metadata": {
    "collapsed": false,
    "pycharm": {
     "name": "#%%\n"
    }
   }
  },
  {
   "cell_type": "code",
   "execution_count": null,
   "outputs": [],
   "source": [
    "df['Avg_Price'].hist(bins=3)\n"
   ],
   "metadata": {
    "collapsed": false,
    "pycharm": {
     "name": "#%%\n"
    }
   }
  }
 ],
 "metadata": {
  "kernelspec": {
   "display_name": "Python 3",
   "language": "python",
   "name": "python3"
  },
  "language_info": {
   "codemirror_mode": {
    "name": "ipython",
    "version": 2
   },
   "file_extension": ".py",
   "mimetype": "text/x-python",
   "name": "python",
   "nbconvert_exporter": "python",
   "pygments_lexer": "ipython2",
   "version": "2.7.6"
  }
 },
 "nbformat": 4,
 "nbformat_minor": 0
}