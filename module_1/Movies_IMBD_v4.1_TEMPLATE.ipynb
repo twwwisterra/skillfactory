{
 "nbformat": 4,
 "nbformat_minor": 0,
 "metadata": {
  "kernelspec": {
   "display_name": "Python 3",
   "language": "python",
   "name": "python3"
  },
  "language_info": {
   "codemirror_mode": {
    "name": "ipython",
    "version": 3
   },
   "file_extension": ".py",
   "mimetype": "text/x-python",
   "name": "python",
   "nbconvert_exporter": "python",
   "pygments_lexer": "ipython3",
   "version": "3.6.6"
  },
  "colab": {
   "name": "Copy of [SF-DST] Movies IMBD v4.1 TEMPLATE.ipynb",
   "provenance": []
  }
 },
 "cells": [
  {
   "cell_type": "code",
   "metadata": {
    "_cell_guid": "b1076dfc-b9ad-4769-8c92-a6c4dae69d19",
    "_uuid": "8f2839f25d086af736a60e9eeb907d3b93b6e0e5",
    "trusted": true,
    "id": "U2D2gTdJVp90",
    "colab_type": "code",
    "colab": {}
   },
   "source": [
    "import numpy as np\n",
    "import pandas as pd\n",
    "import seaborn as sns\n",
    "import matplotlib.pyplot as plt\n",
    "from collections import Counter"
   ],
   "execution_count": 324,
   "outputs": []
  },
  {
   "cell_type": "code",
   "metadata": {
    "_cell_guid": "79c7e3d0-c299-4dcb-8224-4455121ee9b0",
    "_uuid": "d629ff2d2480ee46fbb7e2d37f6b5fab8052498a",
    "trusted": true,
    "id": "oyGfxL3eVp9-",
    "colab_type": "code",
    "colab": {}
   },
   "source": [
    "data = pd.read_csv('movie_bd_v5.csv')\n",
    "data.sample(5)"
   ],
   "execution_count": 325,
   "outputs": [
    {
     "data": {
      "text/plain": "        imdb_id     budget    revenue         original_title  \\\n203   tt2980706   50000000  151165787  Planes: Fire & Rescue   \n411   tt1386588  100000000  170432927         The Other Guys   \n1426  tt0402901   30000000   15007991               The Cave   \n900   tt0257044   80000000  181001478      Road to Perdition   \n1711  tt0389722   30000000   75505973       30 Days of Night   \n\n                                                   cast          director  \\\n203   Dane Cook|Ed Harris|Julie Bowen|Curtis Armstro...  Roberts Gannaway   \n411   Will Ferrell|Mark Wahlberg|Eva Mendes|Samuel L...        Adam McKay   \n1426  Cole Hauser|Eddie Cibrian|Morris Chestnut|Lena...        Bruce Hunt   \n900   Tom Hanks|Tyler Hoechlin|Jennifer Jason Leigh|...        Sam Mendes   \n1711  Josh Hartnett|Melissa George|Ben Foster|Danny ...       David Slade   \n\n                                            tagline  \\\n203             When others fly out, heroes fly in.   \n411   When the cops are busy... Our only hope is...   \n1426    There are places man was never meant to go.   \n900                      Pray for Michael Sullivan.   \n1711                                They're Coming!   \n\n                                               overview  runtime  \\\n203   When world-famous air racer Dusty learns that ...       83   \n411   NYPD detectives Christopher Danson (Johnson) a...      107   \n1426  After a group of biologists discovers a huge n...       97   \n900   Mike Sullivan works as a hit man for crime bos...      117   \n1711  This is the story of an isolated Alaskan town ...      113   \n\n                                 genres  \\\n203   Animation|Comedy|Adventure|Family   \n411                 Action|Comedy|Crime   \n1426   Action|Adventure|Horror|Thriller   \n900                Thriller|Crime|Drama   \n1711                    Horror|Thriller   \n\n                                   production_companies release_date  \\\n203   Walt Disney Pictures|DisneyToon Studios|Prana ...    7/17/2014   \n411          Columbia Pictures|Gary Sanchez Productions     8/6/2010   \n1426  Lakeshore Entertainment|Cinerenta Medienbeteil...    8/25/2005   \n900   DreamWorks SKG|The Zanuck Company|Twentieth Ce...    7/12/2002   \n1711  Columbia Pictures|Dark Horse Entertainment|Gho...   10/17/2007   \n\n      vote_average  release_year  \n203            5.9          2014  \n411            6.1          2010  \n1426           5.2          2005  \n900            7.1          2002  \n1711           6.1          2007  ",
      "text/html": "<div>\n<style scoped>\n    .dataframe tbody tr th:only-of-type {\n        vertical-align: middle;\n    }\n\n    .dataframe tbody tr th {\n        vertical-align: top;\n    }\n\n    .dataframe thead th {\n        text-align: right;\n    }\n</style>\n<table border=\"1\" class=\"dataframe\">\n  <thead>\n    <tr style=\"text-align: right;\">\n      <th></th>\n      <th>imdb_id</th>\n      <th>budget</th>\n      <th>revenue</th>\n      <th>original_title</th>\n      <th>cast</th>\n      <th>director</th>\n      <th>tagline</th>\n      <th>overview</th>\n      <th>runtime</th>\n      <th>genres</th>\n      <th>production_companies</th>\n      <th>release_date</th>\n      <th>vote_average</th>\n      <th>release_year</th>\n    </tr>\n  </thead>\n  <tbody>\n    <tr>\n      <th>203</th>\n      <td>tt2980706</td>\n      <td>50000000</td>\n      <td>151165787</td>\n      <td>Planes: Fire &amp; Rescue</td>\n      <td>Dane Cook|Ed Harris|Julie Bowen|Curtis Armstro...</td>\n      <td>Roberts Gannaway</td>\n      <td>When others fly out, heroes fly in.</td>\n      <td>When world-famous air racer Dusty learns that ...</td>\n      <td>83</td>\n      <td>Animation|Comedy|Adventure|Family</td>\n      <td>Walt Disney Pictures|DisneyToon Studios|Prana ...</td>\n      <td>7/17/2014</td>\n      <td>5.9</td>\n      <td>2014</td>\n    </tr>\n    <tr>\n      <th>411</th>\n      <td>tt1386588</td>\n      <td>100000000</td>\n      <td>170432927</td>\n      <td>The Other Guys</td>\n      <td>Will Ferrell|Mark Wahlberg|Eva Mendes|Samuel L...</td>\n      <td>Adam McKay</td>\n      <td>When the cops are busy... Our only hope is...</td>\n      <td>NYPD detectives Christopher Danson (Johnson) a...</td>\n      <td>107</td>\n      <td>Action|Comedy|Crime</td>\n      <td>Columbia Pictures|Gary Sanchez Productions</td>\n      <td>8/6/2010</td>\n      <td>6.1</td>\n      <td>2010</td>\n    </tr>\n    <tr>\n      <th>1426</th>\n      <td>tt0402901</td>\n      <td>30000000</td>\n      <td>15007991</td>\n      <td>The Cave</td>\n      <td>Cole Hauser|Eddie Cibrian|Morris Chestnut|Lena...</td>\n      <td>Bruce Hunt</td>\n      <td>There are places man was never meant to go.</td>\n      <td>After a group of biologists discovers a huge n...</td>\n      <td>97</td>\n      <td>Action|Adventure|Horror|Thriller</td>\n      <td>Lakeshore Entertainment|Cinerenta Medienbeteil...</td>\n      <td>8/25/2005</td>\n      <td>5.2</td>\n      <td>2005</td>\n    </tr>\n    <tr>\n      <th>900</th>\n      <td>tt0257044</td>\n      <td>80000000</td>\n      <td>181001478</td>\n      <td>Road to Perdition</td>\n      <td>Tom Hanks|Tyler Hoechlin|Jennifer Jason Leigh|...</td>\n      <td>Sam Mendes</td>\n      <td>Pray for Michael Sullivan.</td>\n      <td>Mike Sullivan works as a hit man for crime bos...</td>\n      <td>117</td>\n      <td>Thriller|Crime|Drama</td>\n      <td>DreamWorks SKG|The Zanuck Company|Twentieth Ce...</td>\n      <td>7/12/2002</td>\n      <td>7.1</td>\n      <td>2002</td>\n    </tr>\n    <tr>\n      <th>1711</th>\n      <td>tt0389722</td>\n      <td>30000000</td>\n      <td>75505973</td>\n      <td>30 Days of Night</td>\n      <td>Josh Hartnett|Melissa George|Ben Foster|Danny ...</td>\n      <td>David Slade</td>\n      <td>They're Coming!</td>\n      <td>This is the story of an isolated Alaskan town ...</td>\n      <td>113</td>\n      <td>Horror|Thriller</td>\n      <td>Columbia Pictures|Dark Horse Entertainment|Gho...</td>\n      <td>10/17/2007</td>\n      <td>6.1</td>\n      <td>2007</td>\n    </tr>\n  </tbody>\n</table>\n</div>"
     },
     "execution_count": 325,
     "metadata": {},
     "output_type": "execute_result"
    }
   ]
  },
  {
   "cell_type": "code",
   "metadata": {
    "trusted": true,
    "id": "CoYUnagMVp-C",
    "colab_type": "code",
    "colab": {}
   },
   "source": [
    "data.describe()"
   ],
   "execution_count": 326,
   "outputs": [
    {
     "data": {
      "text/plain": "             budget       revenue      runtime  vote_average  release_year\ncount  1.889000e+03  1.889000e+03  1889.000000   1889.000000   1889.000000\nmean   5.431083e+07  1.553653e+08   109.658549      6.140762   2007.860773\nstd    4.858721e+07  2.146698e+08    18.017041      0.764763      4.468841\nmin    5.000000e+06  2.033165e+06    63.000000      3.300000   2000.000000\n25%    2.000000e+07  3.456058e+07    97.000000      5.600000   2004.000000\n50%    3.800000e+07  8.361541e+07   107.000000      6.100000   2008.000000\n75%    7.200000e+07  1.782626e+08   120.000000      6.600000   2012.000000\nmax    3.800000e+08  2.781506e+09   214.000000      8.100000   2015.000000",
      "text/html": "<div>\n<style scoped>\n    .dataframe tbody tr th:only-of-type {\n        vertical-align: middle;\n    }\n\n    .dataframe tbody tr th {\n        vertical-align: top;\n    }\n\n    .dataframe thead th {\n        text-align: right;\n    }\n</style>\n<table border=\"1\" class=\"dataframe\">\n  <thead>\n    <tr style=\"text-align: right;\">\n      <th></th>\n      <th>budget</th>\n      <th>revenue</th>\n      <th>runtime</th>\n      <th>vote_average</th>\n      <th>release_year</th>\n    </tr>\n  </thead>\n  <tbody>\n    <tr>\n      <th>count</th>\n      <td>1.889000e+03</td>\n      <td>1.889000e+03</td>\n      <td>1889.000000</td>\n      <td>1889.000000</td>\n      <td>1889.000000</td>\n    </tr>\n    <tr>\n      <th>mean</th>\n      <td>5.431083e+07</td>\n      <td>1.553653e+08</td>\n      <td>109.658549</td>\n      <td>6.140762</td>\n      <td>2007.860773</td>\n    </tr>\n    <tr>\n      <th>std</th>\n      <td>4.858721e+07</td>\n      <td>2.146698e+08</td>\n      <td>18.017041</td>\n      <td>0.764763</td>\n      <td>4.468841</td>\n    </tr>\n    <tr>\n      <th>min</th>\n      <td>5.000000e+06</td>\n      <td>2.033165e+06</td>\n      <td>63.000000</td>\n      <td>3.300000</td>\n      <td>2000.000000</td>\n    </tr>\n    <tr>\n      <th>25%</th>\n      <td>2.000000e+07</td>\n      <td>3.456058e+07</td>\n      <td>97.000000</td>\n      <td>5.600000</td>\n      <td>2004.000000</td>\n    </tr>\n    <tr>\n      <th>50%</th>\n      <td>3.800000e+07</td>\n      <td>8.361541e+07</td>\n      <td>107.000000</td>\n      <td>6.100000</td>\n      <td>2008.000000</td>\n    </tr>\n    <tr>\n      <th>75%</th>\n      <td>7.200000e+07</td>\n      <td>1.782626e+08</td>\n      <td>120.000000</td>\n      <td>6.600000</td>\n      <td>2012.000000</td>\n    </tr>\n    <tr>\n      <th>max</th>\n      <td>3.800000e+08</td>\n      <td>2.781506e+09</td>\n      <td>214.000000</td>\n      <td>8.100000</td>\n      <td>2015.000000</td>\n    </tr>\n  </tbody>\n</table>\n</div>"
     },
     "execution_count": 326,
     "metadata": {},
     "output_type": "execute_result"
    }
   ]
  },
  {
   "cell_type": "markdown",
   "metadata": {
    "id": "DTIt7ezGVp-G",
    "colab_type": "text"
   },
   "source": [
    "# Предобработка\n"
   ]
  },
  {
   "cell_type": "code",
   "metadata": {
    "trusted": true,
    "id": "jNb40DwKVp-H",
    "colab_type": "code",
    "colab": {}
   },
   "source": [
    "'''постобработка для оригинального датасета'''\n",
    "# вычисляем прибыль для каждой записи\n",
    "data['profit'] = data['revenue'] - data['budget']\n",
    "\n",
    "# выносим месяц выхода фильма в отдельное поле\n",
    "dict_month = {\n",
    "    '1': 'Jan',\n",
    "    '2': 'Feb',\n",
    "    '3': 'Mar',\n",
    "    '4': 'Apr',\n",
    "    '5': 'May',\n",
    "    '6': 'Jun',\n",
    "    '7': 'Jul',\n",
    "    '8': 'Aug',\n",
    "    '9': 'Sep',\n",
    "    '10': 'Oct',\n",
    "    '11': 'Nov',\n",
    "    '12': 'Dec'\n",
    "}\n",
    "data['release_month'] = data['release_date'].apply(lambda x: dict_month.get(x.split('/')[0])) # выносим месяц выхода фильма в отдельное поле\n",
    "\n",
    "# добавлям поля для количества букв в названии и слов в описании\n",
    "data['original_title_len'] = data['original_title'].apply(lambda x: len(x))\n",
    "data['overview_words_count'] = data['overview'].apply(lambda x: len(str(x).split(' ')))\n",
    "\n",
    "\n",
    "'''создаем копию оригинального датасета с разгруппированными данными по жанру'''\n",
    "data_split_genres = data.copy()\n",
    "data_split_genres['genres'] = data_split_genres['genres'].str.split('|')\n",
    "data_split_genres = data_split_genres.explode('genres')\n",
    "\n",
    "result_genre = pd.DataFrame() # группируем новый датасет по другим категориям\n",
    "result_genre['count_total'] = data_split_genres.groupby('genres').imdb_id.count()\n",
    "result_genre['count_profitable'] = data_split_genres.query('profit > 0').groupby('genres').imdb_id.count()\n",
    "\n",
    "\n",
    "'''создаем копию оригинального датасета с разгруппированными данными по жанру и режиссеру'''\n",
    "data_split_genres_directors = data.copy()\n",
    "data_split_genres_directors['genres'] = data_split_genres_directors['genres'].str.split('|')\n",
    "data_split_genres_directors['director'] = data_split_genres_directors['director'].str.split('|')\n",
    "data_split_genres_directors = data_split_genres_directors.explode('genres')\n",
    "data_split_genres_directors = data_split_genres_directors.explode('director')\n",
    "\n",
    "'''создаем копию оригинального датасета с разгруппированными данными по актерам'''\n",
    "data_split_cast = data.copy()\n",
    "data_split_cast['cast'] = data_split_cast['cast'].str.split('|')\n",
    "data_split_cast = data_split_cast.explode('cast')\n",
    "\n",
    "'''создаем копию оригинального датасета с разгруппированными данными по студиям'''\n",
    "data_split_production_companies = data.copy()\n",
    "data_split_production_companies['production_companies'] = data_split_production_companies['production_companies']\\\n",
    "    .str.split('|')\n",
    "data_split_production_companies = data_split_production_companies.explode('production_companies')\n",
    "\n",
    "'''исходная постобработка'''\n",
    "answers = {} # создадим словарь для ответов\n",
    "\n",
    "# тут другие ваши предобработки колонок например:\n",
    "\n",
    "#the time given in the dataset is in string format.\n",
    "#So we need to change this in datetime format\n",
    "# ...\n",
    "data.iloc[0][['overview', 'overview_words_count']]\n",
    "#len(data.iloc[0]['overview'].split(' '))"
   ],
   "execution_count": 327,
   "outputs": [
    {
     "data": {
      "text/plain": "overview                Twenty-two years after the events of Jurassic ...\noverview_words_count                                                   26\nName: 0, dtype: object"
     },
     "execution_count": 327,
     "metadata": {},
     "output_type": "execute_result"
    }
   ]
  },
  {
   "cell_type": "markdown",
   "metadata": {
    "id": "YxZaH-nPVp-L",
    "colab_type": "text"
   },
   "source": [
    "# 1. У какого фильма из списка самый большой бюджет?"
   ]
  },
  {
   "cell_type": "markdown",
   "metadata": {
    "id": "Nd-G5gX6Vp-M",
    "colab_type": "text"
   },
   "source": [
    "Использовать варианты ответов в коде решения запрещено.    \n",
    "Вы думаете и в жизни у вас будут варианты ответов?)"
   ]
  },
  {
   "cell_type": "code",
   "metadata": {
    "trusted": true,
    "id": "uVnXAY5RVp-O",
    "colab_type": "code",
    "colab": {}
   },
   "source": [
    "# в словарь вставляем номер вопроса и ваш ответ на него\n",
    "# Пример: \n",
    "answers['1'] = '2. Spider-Man 3 (tt0413300)'\n",
    "# запишите свой вариант ответа\n",
    "answers['1'] = '5. Pirates of the Caribbean: On Stranger Tides (tt1298650)'\n",
    "# если ответили верно, можете добавить комментарий со значком \"+\""
   ],
   "execution_count": 328,
   "outputs": []
  },
  {
   "cell_type": "code",
   "metadata": {
    "trusted": true,
    "id": "dZwb3m28Vp-S",
    "colab_type": "code",
    "colab": {}
   },
   "source": [
    "# тут пишем ваш код для решения данного вопроса:\n",
    "data[data['budget'] == data['budget'].max()][['original_title', 'imdb_id']]"
   ],
   "execution_count": 329,
   "outputs": [
    {
     "data": {
      "text/plain": "                                  original_title    imdb_id\n723  Pirates of the Caribbean: On Stranger Tides  tt1298650",
      "text/html": "<div>\n<style scoped>\n    .dataframe tbody tr th:only-of-type {\n        vertical-align: middle;\n    }\n\n    .dataframe tbody tr th {\n        vertical-align: top;\n    }\n\n    .dataframe thead th {\n        text-align: right;\n    }\n</style>\n<table border=\"1\" class=\"dataframe\">\n  <thead>\n    <tr style=\"text-align: right;\">\n      <th></th>\n      <th>original_title</th>\n      <th>imdb_id</th>\n    </tr>\n  </thead>\n  <tbody>\n    <tr>\n      <th>723</th>\n      <td>Pirates of the Caribbean: On Stranger Tides</td>\n      <td>tt1298650</td>\n    </tr>\n  </tbody>\n</table>\n</div>"
     },
     "execution_count": 329,
     "metadata": {},
     "output_type": "execute_result"
    }
   ]
  },
  {
   "cell_type": "markdown",
   "metadata": {
    "id": "K7L3nbRXVp-X",
    "colab_type": "text"
   },
   "source": [
    "ВАРИАНТ 2"
   ]
  },
  {
   "cell_type": "code",
   "metadata": {
    "trusted": true,
    "id": "OGaoQI7rVp-X",
    "colab_type": "code",
    "colab": {}
   },
   "source": [
    "data.query('budget == budget.max()')[['original_title', 'imdb_id']]"
   ],
   "execution_count": 330,
   "outputs": [
    {
     "data": {
      "text/plain": "                                  original_title    imdb_id\n723  Pirates of the Caribbean: On Stranger Tides  tt1298650",
      "text/html": "<div>\n<style scoped>\n    .dataframe tbody tr th:only-of-type {\n        vertical-align: middle;\n    }\n\n    .dataframe tbody tr th {\n        vertical-align: top;\n    }\n\n    .dataframe thead th {\n        text-align: right;\n    }\n</style>\n<table border=\"1\" class=\"dataframe\">\n  <thead>\n    <tr style=\"text-align: right;\">\n      <th></th>\n      <th>original_title</th>\n      <th>imdb_id</th>\n    </tr>\n  </thead>\n  <tbody>\n    <tr>\n      <th>723</th>\n      <td>Pirates of the Caribbean: On Stranger Tides</td>\n      <td>tt1298650</td>\n    </tr>\n  </tbody>\n</table>\n</div>"
     },
     "execution_count": 330,
     "metadata": {},
     "output_type": "execute_result"
    }
   ]
  },
  {
   "cell_type": "markdown",
   "metadata": {
    "id": "FNRbbI3vVp-c",
    "colab_type": "text"
   },
   "source": [
    "# 2. Какой из фильмов самый длительный (в минутах)?"
   ]
  },
  {
   "cell_type": "code",
   "metadata": {
    "trusted": true,
    "id": "vHAoEXNTVp-d",
    "colab_type": "code",
    "colab": {}
   },
   "source": [
    "# думаю логику работы с этим словарем вы уже поняли, \n",
    "# по этому не буду больше его дублировать\n",
    "answers['2'] = '2. Gods and Generals (tt0279111)'"
   ],
   "execution_count": 331,
   "outputs": []
  },
  {
   "cell_type": "code",
   "metadata": {
    "trusted": true,
    "id": "ot-VX2XrVp-g",
    "colab_type": "code",
    "colab": {}
   },
   "source": [
    "data[data['runtime'] == data['runtime'].max()][['original_title', 'imdb_id']]\n"
   ],
   "execution_count": 332,
   "outputs": [
    {
     "data": {
      "text/plain": "         original_title    imdb_id\n1157  Gods and Generals  tt0279111",
      "text/html": "<div>\n<style scoped>\n    .dataframe tbody tr th:only-of-type {\n        vertical-align: middle;\n    }\n\n    .dataframe tbody tr th {\n        vertical-align: top;\n    }\n\n    .dataframe thead th {\n        text-align: right;\n    }\n</style>\n<table border=\"1\" class=\"dataframe\">\n  <thead>\n    <tr style=\"text-align: right;\">\n      <th></th>\n      <th>original_title</th>\n      <th>imdb_id</th>\n    </tr>\n  </thead>\n  <tbody>\n    <tr>\n      <th>1157</th>\n      <td>Gods and Generals</td>\n      <td>tt0279111</td>\n    </tr>\n  </tbody>\n</table>\n</div>"
     },
     "execution_count": 332,
     "metadata": {},
     "output_type": "execute_result"
    }
   ]
  },
  {
   "cell_type": "markdown",
   "metadata": {
    "id": "bapLlpW8Vp-k",
    "colab_type": "text"
   },
   "source": [
    "# 3. Какой из фильмов самый короткий (в минутах)?\n"
   ]
  },
  {
   "cell_type": "code",
   "metadata": {
    "trusted": true,
    "id": "YBxaSHuAVp-l",
    "colab_type": "code",
    "colab": {}
   },
   "source": [
    "answers['3'] = '3. Winnie the Pooh (tt1449283)'\n",
    "\n",
    "data[data['runtime'] == data['runtime'].min()][['original_title', 'imdb_id']]\n"
   ],
   "execution_count": 333,
   "outputs": [
    {
     "data": {
      "text/plain": "      original_title    imdb_id\n768  Winnie the Pooh  tt1449283",
      "text/html": "<div>\n<style scoped>\n    .dataframe tbody tr th:only-of-type {\n        vertical-align: middle;\n    }\n\n    .dataframe tbody tr th {\n        vertical-align: top;\n    }\n\n    .dataframe thead th {\n        text-align: right;\n    }\n</style>\n<table border=\"1\" class=\"dataframe\">\n  <thead>\n    <tr style=\"text-align: right;\">\n      <th></th>\n      <th>original_title</th>\n      <th>imdb_id</th>\n    </tr>\n  </thead>\n  <tbody>\n    <tr>\n      <th>768</th>\n      <td>Winnie the Pooh</td>\n      <td>tt1449283</td>\n    </tr>\n  </tbody>\n</table>\n</div>"
     },
     "execution_count": 333,
     "metadata": {},
     "output_type": "execute_result"
    }
   ]
  },
  {
   "cell_type": "markdown",
   "metadata": {
    "id": "TfQbxbfNVp-p",
    "colab_type": "text"
   },
   "source": [
    "# 4. Какова средняя длительность фильмов?\n"
   ]
  },
  {
   "cell_type": "code",
   "metadata": {
    "trusted": true,
    "id": "5K6dKZYVVp-q",
    "colab_type": "code",
    "colab": {}
   },
   "source": [
    "answers['4'] = '2. 110'\n",
    "\n",
    "data.runtime.mean().round()"
   ],
   "execution_count": 334,
   "outputs": [
    {
     "data": {
      "text/plain": "110.0"
     },
     "execution_count": 334,
     "metadata": {},
     "output_type": "execute_result"
    }
   ]
  },
  {
   "cell_type": "markdown",
   "metadata": {
    "id": "r5TvbnT_Vp-u",
    "colab_type": "text"
   },
   "source": [
    "# 5. Каково медианное значение длительности фильмов? "
   ]
  },
  {
   "cell_type": "code",
   "metadata": {
    "trusted": true,
    "id": "iBROplKnVp-v",
    "colab_type": "code",
    "colab": {}
   },
   "source": [
    "answers['5'] = '1. 107'\n",
    "\n",
    "data.runtime.median().round()"
   ],
   "execution_count": 335,
   "outputs": [
    {
     "data": {
      "text/plain": "107.0"
     },
     "execution_count": 335,
     "metadata": {},
     "output_type": "execute_result"
    }
   ]
  },
  {
   "cell_type": "markdown",
   "metadata": {
    "id": "39P-deDSVp-y",
    "colab_type": "text"
   },
   "source": [
    "# 6. Какой самый прибыльный фильм?\n",
    "#### Внимание! Здесь и далее под «прибылью» или «убытками» понимается разность между сборами и бюджетом фильма. (прибыль = сборы - бюджет) в нашем датасете это будет (profit = revenue - budget) "
   ]
  },
  {
   "cell_type": "code",
   "metadata": {
    "trusted": true,
    "id": "UYZh4T9WVp-y",
    "colab_type": "code",
    "colab": {}
   },
   "source": [
    "answers['6'] = '5. Avatar (tt0499549)'\n",
    "\n",
    "data[data['profit'] == data['profit'].max()][['original_title', 'imdb_id']]\n",
    "\n",
    "# лучше код получения столбца profit вынести в Предобработку что в начале"
   ],
   "execution_count": 336,
   "outputs": [
    {
     "data": {
      "text/plain": "    original_title    imdb_id\n239         Avatar  tt0499549",
      "text/html": "<div>\n<style scoped>\n    .dataframe tbody tr th:only-of-type {\n        vertical-align: middle;\n    }\n\n    .dataframe tbody tr th {\n        vertical-align: top;\n    }\n\n    .dataframe thead th {\n        text-align: right;\n    }\n</style>\n<table border=\"1\" class=\"dataframe\">\n  <thead>\n    <tr style=\"text-align: right;\">\n      <th></th>\n      <th>original_title</th>\n      <th>imdb_id</th>\n    </tr>\n  </thead>\n  <tbody>\n    <tr>\n      <th>239</th>\n      <td>Avatar</td>\n      <td>tt0499549</td>\n    </tr>\n  </tbody>\n</table>\n</div>"
     },
     "execution_count": 336,
     "metadata": {},
     "output_type": "execute_result"
    }
   ]
  },
  {
   "cell_type": "markdown",
   "metadata": {
    "id": "M99JmIX4Vp-2",
    "colab_type": "text"
   },
   "source": [
    "# 7. Какой фильм самый убыточный? "
   ]
  },
  {
   "cell_type": "code",
   "metadata": {
    "trusted": true,
    "id": "w-D2m4XPVp-3",
    "colab_type": "code",
    "colab": {}
   },
   "source": [
    "answers['7'] = '5. The Lone Ranger\t (tt1210819)'\n",
    "\n",
    "data[data['profit'] == data['profit'].min()][['original_title', 'imdb_id']]"
   ],
   "execution_count": 337,
   "outputs": [
    {
     "data": {
      "text/plain": "       original_title    imdb_id\n1245  The Lone Ranger  tt1210819",
      "text/html": "<div>\n<style scoped>\n    .dataframe tbody tr th:only-of-type {\n        vertical-align: middle;\n    }\n\n    .dataframe tbody tr th {\n        vertical-align: top;\n    }\n\n    .dataframe thead th {\n        text-align: right;\n    }\n</style>\n<table border=\"1\" class=\"dataframe\">\n  <thead>\n    <tr style=\"text-align: right;\">\n      <th></th>\n      <th>original_title</th>\n      <th>imdb_id</th>\n    </tr>\n  </thead>\n  <tbody>\n    <tr>\n      <th>1245</th>\n      <td>The Lone Ranger</td>\n      <td>tt1210819</td>\n    </tr>\n  </tbody>\n</table>\n</div>"
     },
     "execution_count": 337,
     "metadata": {},
     "output_type": "execute_result"
    }
   ]
  },
  {
   "cell_type": "markdown",
   "metadata": {
    "id": "wEOM5ERVVp-6",
    "colab_type": "text"
   },
   "source": [
    "# 8. У скольких фильмов из датасета объем сборов оказался выше бюджета?"
   ]
  },
  {
   "cell_type": "code",
   "metadata": {
    "trusted": true,
    "id": "y00_7HD6Vp-7",
    "colab_type": "code",
    "colab": {}
   },
   "source": [
    "answers['8'] = '1. 1478'\n",
    "\n",
    "data[data['revenue'] > data['budget']]['imdb_id'].count()\n"
   ],
   "execution_count": 338,
   "outputs": [
    {
     "data": {
      "text/plain": "1478"
     },
     "execution_count": 338,
     "metadata": {},
     "output_type": "execute_result"
    }
   ]
  },
  {
   "cell_type": "markdown",
   "metadata": {
    "id": "xhpspA9KVp_A",
    "colab_type": "text"
   },
   "source": [
    "# 9. Какой фильм оказался самым кассовым в 2008 году?"
   ]
  },
  {
   "cell_type": "code",
   "metadata": {
    "trusted": true,
    "id": "MoUyQr9RVp_B",
    "colab_type": "code",
    "colab": {}
   },
   "source": [
    "answers['9'] = '4. The Dark Knight\t(tt0468569)'\n",
    "\n",
    "data.query('release_year == 2008').query('revenue == revenue.max()')[['original_title', 'imdb_id']]"
   ],
   "execution_count": 339,
   "outputs": [
    {
     "data": {
      "text/plain": "      original_title    imdb_id\n599  The Dark Knight  tt0468569",
      "text/html": "<div>\n<style scoped>\n    .dataframe tbody tr th:only-of-type {\n        vertical-align: middle;\n    }\n\n    .dataframe tbody tr th {\n        vertical-align: top;\n    }\n\n    .dataframe thead th {\n        text-align: right;\n    }\n</style>\n<table border=\"1\" class=\"dataframe\">\n  <thead>\n    <tr style=\"text-align: right;\">\n      <th></th>\n      <th>original_title</th>\n      <th>imdb_id</th>\n    </tr>\n  </thead>\n  <tbody>\n    <tr>\n      <th>599</th>\n      <td>The Dark Knight</td>\n      <td>tt0468569</td>\n    </tr>\n  </tbody>\n</table>\n</div>"
     },
     "execution_count": 339,
     "metadata": {},
     "output_type": "execute_result"
    }
   ]
  },
  {
   "cell_type": "markdown",
   "metadata": {
    "id": "Zi4hDKidVp_F",
    "colab_type": "text"
   },
   "source": [
    "# 10. Самый убыточный фильм за период с 2012 по 2014 г. (включительно)?\n"
   ]
  },
  {
   "cell_type": "code",
   "metadata": {
    "trusted": true,
    "id": "XqyRmufJVp_F",
    "colab_type": "code",
    "colab": {}
   },
   "source": [
    "answers['10'] = '5. The Lone Ranger\t(tt1210819)'\n",
    "\n",
    "data.query('release_year in [20012, 2013, 2014]').query('profit == profit.min()')[['original_title', 'imdb_id']]\n"
   ],
   "execution_count": 340,
   "outputs": [
    {
     "data": {
      "text/plain": "       original_title    imdb_id\n1245  The Lone Ranger  tt1210819",
      "text/html": "<div>\n<style scoped>\n    .dataframe tbody tr th:only-of-type {\n        vertical-align: middle;\n    }\n\n    .dataframe tbody tr th {\n        vertical-align: top;\n    }\n\n    .dataframe thead th {\n        text-align: right;\n    }\n</style>\n<table border=\"1\" class=\"dataframe\">\n  <thead>\n    <tr style=\"text-align: right;\">\n      <th></th>\n      <th>original_title</th>\n      <th>imdb_id</th>\n    </tr>\n  </thead>\n  <tbody>\n    <tr>\n      <th>1245</th>\n      <td>The Lone Ranger</td>\n      <td>tt1210819</td>\n    </tr>\n  </tbody>\n</table>\n</div>"
     },
     "execution_count": 340,
     "metadata": {},
     "output_type": "execute_result"
    }
   ]
  },
  {
   "cell_type": "markdown",
   "metadata": {
    "id": "EA7Sa9dkVp_I",
    "colab_type": "text"
   },
   "source": [
    "# 11. Какого жанра фильмов больше всего?"
   ]
  },
  {
   "cell_type": "code",
   "metadata": {
    "trusted": true,
    "id": "zsJAwJ8QVp_J",
    "colab_type": "code",
    "colab": {},
    "pycharm": {
     "name": "#%%\n"
    }
   },
   "source": [
    "answers['11'] = '3. Drama'\n",
    "\n",
    "result_genre.query('count_total == count_total.max()') # группировка проделана в постобработке\n",
    "\n",
    "\n",
    "\n",
    "# эту задачу тоже можно решать разными подходами, попробуй реализовать разные варианты\n",
    "# если будешь добавлять функцию - выноси ее в предобработку что в начале"
   ],
   "execution_count": 341,
   "outputs": [
    {
     "data": {
      "text/plain": "        count_total  count_profitable\ngenres                               \nDrama           782             560.0",
      "text/html": "<div>\n<style scoped>\n    .dataframe tbody tr th:only-of-type {\n        vertical-align: middle;\n    }\n\n    .dataframe tbody tr th {\n        vertical-align: top;\n    }\n\n    .dataframe thead th {\n        text-align: right;\n    }\n</style>\n<table border=\"1\" class=\"dataframe\">\n  <thead>\n    <tr style=\"text-align: right;\">\n      <th></th>\n      <th>count_total</th>\n      <th>count_profitable</th>\n    </tr>\n    <tr>\n      <th>genres</th>\n      <th></th>\n      <th></th>\n    </tr>\n  </thead>\n  <tbody>\n    <tr>\n      <th>Drama</th>\n      <td>782</td>\n      <td>560.0</td>\n    </tr>\n  </tbody>\n</table>\n</div>"
     },
     "execution_count": 341,
     "metadata": {},
     "output_type": "execute_result"
    }
   ]
  },
  {
   "cell_type": "markdown",
   "metadata": {
    "id": "Ax6g2C8SVp_M",
    "colab_type": "text"
   },
   "source": [
    "ВАРИАНТ 2"
   ]
  },
  {
   "cell_type": "code",
   "metadata": {
    "trusted": true,
    "id": "otO3SbrSVp_N",
    "colab_type": "code",
    "colab": {}
   },
   "source": [],
   "execution_count": 341,
   "outputs": []
  },
  {
   "cell_type": "markdown",
   "metadata": {
    "id": "T9_bPWpkVp_Q",
    "colab_type": "text"
   },
   "source": [
    "# 12. Фильмы какого жанра чаще всего становятся прибыльными?\n",
    "\n"
   ]
  },
  {
   "cell_type": "code",
   "metadata": {
    "trusted": true,
    "id": "Tmt8MaK1Vp_R",
    "colab_type": "code",
    "colab": {}
   },
   "source": [
    "answers['12'] = '1. Drama'\n",
    "\n",
    "result_genre.query('count_profitable == count_profitable.max()') # группировка проделана в постобработке"
   ],
   "execution_count": 342,
   "outputs": [
    {
     "data": {
      "text/plain": "        count_total  count_profitable\ngenres                               \nDrama           782             560.0",
      "text/html": "<div>\n<style scoped>\n    .dataframe tbody tr th:only-of-type {\n        vertical-align: middle;\n    }\n\n    .dataframe tbody tr th {\n        vertical-align: top;\n    }\n\n    .dataframe thead th {\n        text-align: right;\n    }\n</style>\n<table border=\"1\" class=\"dataframe\">\n  <thead>\n    <tr style=\"text-align: right;\">\n      <th></th>\n      <th>count_total</th>\n      <th>count_profitable</th>\n    </tr>\n    <tr>\n      <th>genres</th>\n      <th></th>\n      <th></th>\n    </tr>\n  </thead>\n  <tbody>\n    <tr>\n      <th>Drama</th>\n      <td>782</td>\n      <td>560.0</td>\n    </tr>\n  </tbody>\n</table>\n</div>"
     },
     "execution_count": 342,
     "metadata": {},
     "output_type": "execute_result"
    }
   ]
  },
  {
   "cell_type": "markdown",
   "metadata": {
    "id": "0F23bgsDVp_U",
    "colab_type": "text"
   },
   "source": [
    "# 13. У какого режиссера самые большие суммарные кассовые сбооры?"
   ]
  },
  {
   "cell_type": "code",
   "metadata": {
    "trusted": true,
    "id": "K6Z3J8ygVp_X",
    "colab_type": "code",
    "colab": {}
   },
   "source": [
    "answers['13'] = '5. Peter Jackson'\n",
    "\n",
    "data.groupby('director')['revenue'].sum().sort_values(ascending=False)"
   ],
   "execution_count": 343,
   "outputs": [
    {
     "data": {
      "text/plain": "director\nPeter Jackson        6490593685\nChristopher Nolan    4167548502\nDavid Yates          4154295625\nMichael Bay          3886938960\nJ.J. Abrams          3579169916\n                        ...    \nDavid MichÃ´d           2295423\nSteven Shainberg        2281089\nPaul Schrader           2062066\nKeanu Reeves            2054941\nSimon Hunter            2033165\nName: revenue, Length: 957, dtype: int64"
     },
     "execution_count": 343,
     "metadata": {},
     "output_type": "execute_result"
    }
   ]
  },
  {
   "cell_type": "markdown",
   "metadata": {
    "id": "PsYC9FgRVp_a",
    "colab_type": "text"
   },
   "source": [
    "# 14. Какой режисер снял больше всего фильмов в стиле Action?"
   ]
  },
  {
   "cell_type": "code",
   "metadata": {
    "trusted": true,
    "id": "wd2M-wHeVp_b",
    "colab_type": "code",
    "colab": {}
   },
   "source": [
    "answers['14'] = '3. Robert Rodriguez'\n",
    "\n",
    "#len(data_split_genres_directors['imdb_id'].unique()) == len(data['imdb_id'].unique())\n",
    "data_split_genres_directors.query('genres == \"Action\"').groupby('director')['imdb_id'].count().sort_values(ascending=False)\n",
    "\n"
   ],
   "execution_count": 344,
   "outputs": [
    {
     "data": {
      "text/plain": "director\nRobert Rodriguez      9\nPaul W.S. Anderson    7\nMichael Bay           7\nRidley Scott          6\nAntoine Fuqua         6\n                     ..\nJoe Cornish           1\nRoger Spottiswoode    1\nJimmy Hayward         1\nJim Gillespie         1\nJon Avnet             1\nName: imdb_id, Length: 364, dtype: int64"
     },
     "execution_count": 344,
     "metadata": {},
     "output_type": "execute_result"
    }
   ]
  },
  {
   "cell_type": "markdown",
   "metadata": {
    "id": "PQ0KciD7Vp_f",
    "colab_type": "text"
   },
   "source": [
    "# 15. Фильмы с каким актером принесли самые высокие кассовые сборы в 2012 году? "
   ]
  },
  {
   "cell_type": "code",
   "metadata": {
    "trusted": true,
    "id": "aga62oeKVp_g",
    "colab_type": "code",
    "colab": {}
   },
   "source": [
    "answers['15'] = '3. Chris Hemsworth'\n",
    "\n",
    "data_split_cast.query('release_year == 2012').groupby('cast').revenue.sum().sort_values(ascending=False)"
   ],
   "execution_count": 345,
   "outputs": [
    {
     "data": {
      "text/plain": "cast\nChris Hemsworth      2027450773\nDenis Leary          1629460639\nAnne Hathaway        1522851057\nChris Evans          1519557910\nRobert Downey Jr.    1519557910\n                        ...    \nJason Bateman           3428048\nDanny Huston            2106557\nSami Gayle              2106557\nJosh Lucas              2106557\nNicolas Cage            2106557\nName: revenue, Length: 466, dtype: int64"
     },
     "execution_count": 345,
     "metadata": {},
     "output_type": "execute_result"
    }
   ]
  },
  {
   "cell_type": "markdown",
   "metadata": {
    "id": "mWHyyL7QVp_j",
    "colab_type": "text"
   },
   "source": [
    "# 16. Какой актер снялся в большем количестве высокобюджетных фильмов?"
   ]
  },
  {
   "cell_type": "code",
   "metadata": {
    "trusted": true,
    "id": "qQtmHKTFVp_k",
    "colab_type": "code",
    "colab": {}
   },
   "source": [
    "answers['16'] = '3. Matt Damon'\n",
    "\n",
    "data_split_cast.query('budget > budget.mean()').groupby('cast')['imdb_id'].count().sort_values(ascending=False)"
   ],
   "execution_count": 346,
   "outputs": [
    {
     "data": {
      "text/plain": "cast\nMatt Damon           18\nAdam Sandler         17\nAngelina Jolie       16\nEddie Murphy         15\nSamuel L. Jackson    15\n                     ..\nLeslie Bibb           1\nLeonard Nimoy         1\nLennie James          1\nLena Olin             1\n50 Cent               1\nName: imdb_id, Length: 1505, dtype: int64"
     },
     "execution_count": 346,
     "metadata": {},
     "output_type": "execute_result"
    }
   ]
  },
  {
   "cell_type": "markdown",
   "metadata": {
    "id": "NIh6AaW5Vp_n",
    "colab_type": "text"
   },
   "source": [
    "# 17. В фильмах какого жанра больше всего снимался Nicolas Cage? "
   ]
  },
  {
   "cell_type": "code",
   "metadata": {
    "trusted": true,
    "id": "H74SJDIBVp_n",
    "colab_type": "code",
    "colab": {}
   },
   "source": [
    "answers['17'] = '2. Action'\n",
    "\n",
    "data_split_genres[data_split_genres.cast.str.contains('Nicolas Cage')].groupby('genres')['imdb_id']\\\n",
    "    .count().sort_values(ascending=False)\n"
   ],
   "execution_count": 347,
   "outputs": [
    {
     "data": {
      "text/plain": "genres\nAction             17\nThriller           15\nDrama              12\nCrime              10\nFantasy             8\nAdventure           7\nComedy              6\nScience Fiction     4\nMystery             3\nFamily              3\nAnimation           3\nHistory             2\nWar                 1\nRomance             1\nHorror              1\nName: imdb_id, dtype: int64"
     },
     "execution_count": 347,
     "metadata": {},
     "output_type": "execute_result"
    }
   ]
  },
  {
   "cell_type": "markdown",
   "metadata": {
    "id": "RqOmPRfWVp_q",
    "colab_type": "text"
   },
   "source": [
    "# 18. Самый убыточный фильм от Paramount Pictures"
   ]
  },
  {
   "cell_type": "code",
   "metadata": {
    "trusted": true,
    "id": "9E_B0Y96Vp_r",
    "colab_type": "code",
    "colab": {}
   },
   "source": [
    "answers['18'] = '1. K-19: The Widowmaker (tt0267626)'\n",
    "\n",
    "data[data['production_companies'].str.contains('Paramount Pictures')]\\\n",
    "    .query('profit == profit.min()')[['profit','original_title','imdb_id']]"
   ],
   "execution_count": 348,
   "outputs": [
    {
     "data": {
      "text/plain": "       profit        original_title    imdb_id\n925 -64831034  K-19: The Widowmaker  tt0267626",
      "text/html": "<div>\n<style scoped>\n    .dataframe tbody tr th:only-of-type {\n        vertical-align: middle;\n    }\n\n    .dataframe tbody tr th {\n        vertical-align: top;\n    }\n\n    .dataframe thead th {\n        text-align: right;\n    }\n</style>\n<table border=\"1\" class=\"dataframe\">\n  <thead>\n    <tr style=\"text-align: right;\">\n      <th></th>\n      <th>profit</th>\n      <th>original_title</th>\n      <th>imdb_id</th>\n    </tr>\n  </thead>\n  <tbody>\n    <tr>\n      <th>925</th>\n      <td>-64831034</td>\n      <td>K-19: The Widowmaker</td>\n      <td>tt0267626</td>\n    </tr>\n  </tbody>\n</table>\n</div>"
     },
     "execution_count": 348,
     "metadata": {},
     "output_type": "execute_result"
    }
   ]
  },
  {
   "cell_type": "markdown",
   "metadata": {
    "id": "vS8Ur6ddVp_u",
    "colab_type": "text"
   },
   "source": [
    "# 19. Какой год стал самым успешным по суммарным кассовым сборам?"
   ]
  },
  {
   "cell_type": "code",
   "metadata": {
    "trusted": true,
    "id": "Dnbt4GdIVp_v",
    "colab_type": "code",
    "colab": {}
   },
   "source": [
    "answers['19'] = '5. 2015'\n",
    "data.groupby('release_year')['revenue'].sum().sort_values(ascending=False)"
   ],
   "execution_count": 349,
   "outputs": [
    {
     "data": {
      "text/plain": "release_year\n2015    25449202382\n2014    23405862953\n2013    23213799791\n2012    23079001687\n2011    22676791872\n2010    21071204961\n2009    20261791024\n2008    18252781990\n2007    18162406801\n2004    15663430720\n2005    15309425558\n2006    14775042320\n2003    14346123312\n2002    14136361487\n2001    13017764865\n2000    10664099805\nName: revenue, dtype: int64"
     },
     "execution_count": 349,
     "metadata": {},
     "output_type": "execute_result"
    }
   ]
  },
  {
   "cell_type": "markdown",
   "metadata": {
    "id": "JAzJh4QAVp_z",
    "colab_type": "text"
   },
   "source": [
    "# 20. Какой самый прибыльный год для студии Warner Bros?"
   ]
  },
  {
   "cell_type": "code",
   "metadata": {
    "trusted": true,
    "id": "wgVu02DEVp_0",
    "colab_type": "code",
    "colab": {}
   },
   "source": [
    "answers['20'] = '1. 2014'\n",
    "\n",
    "data[data['production_companies'].str.contains('Warner Bros')]\\\n",
    "    .groupby('release_year')['profit'].sum().sort_values(ascending=False)"
   ],
   "execution_count": 350,
   "outputs": [
    {
     "data": {
      "text/plain": "release_year\n2014    2295464519\n2007    2201675217\n2008    2134595031\n2010    1974712985\n2011    1871393682\n2003    1855493377\n2009    1822454136\n2013    1636453400\n2004    1631933725\n2005    1551980298\n2001    1343545668\n2012    1258020056\n2002    1022709901\n2015     870368348\n2006     620170743\n2000     452631386\nName: profit, dtype: int64"
     },
     "execution_count": 350,
     "metadata": {},
     "output_type": "execute_result"
    }
   ]
  },
  {
   "cell_type": "markdown",
   "metadata": {
    "id": "8Im1S2HRVp_4",
    "colab_type": "text"
   },
   "source": [
    "# 21. В каком месяце за все годы суммарно вышло больше всего фильмов?"
   ]
  },
  {
   "cell_type": "code",
   "metadata": {
    "trusted": true,
    "id": "lev6TH7gVp_4",
    "colab_type": "code",
    "colab": {}
   },
   "source": [
    "answers['21'] = '4. Сентябрь'\n",
    "data.groupby('release_month')['imdb_id'].count().sort_values(ascending=False)\n"
   ],
   "execution_count": 351,
   "outputs": [
    {
     "data": {
      "text/plain": "release_month\nSep    227\nDec    190\nOct    186\nAug    161\nMar    156\nApr    149\nJun    147\nNov    146\nJul    142\nMay    140\nFeb    135\nJan    110\nName: imdb_id, dtype: int64"
     },
     "execution_count": 351,
     "metadata": {},
     "output_type": "execute_result"
    }
   ]
  },
  {
   "cell_type": "markdown",
   "metadata": {
    "id": "uAJsZ_NeVp_7",
    "colab_type": "text"
   },
   "source": [
    "# 22. Сколько суммарно вышло фильмов летом? (за июнь, июль, август)"
   ]
  },
  {
   "cell_type": "code",
   "metadata": {
    "trusted": true,
    "id": "Aa-hEREoVp_8",
    "colab_type": "code",
    "colab": {}
   },
   "source": [
    "answers['22'] = '2. 450'\n",
    "\n",
    "list_summer = ['Jun', 'Jul', 'Aug']\n",
    "data.query('release_month in @list_summer')['imdb_id'].count()"
   ],
   "execution_count": 352,
   "outputs": [
    {
     "data": {
      "text/plain": "450"
     },
     "execution_count": 352,
     "metadata": {},
     "output_type": "execute_result"
    }
   ]
  },
  {
   "cell_type": "markdown",
   "metadata": {
    "id": "G94ppOY1VqAA",
    "colab_type": "text"
   },
   "source": [
    "# 23. Для какого режиссера зима – самое продуктивное время года? "
   ]
  },
  {
   "cell_type": "code",
   "metadata": {
    "trusted": true,
    "id": "RhNTsamuVqAB",
    "colab_type": "code",
    "colab": {}
   },
   "source": [
    "answers['23'] = '3. Peter Jackson'\n",
    "\n",
    "list_winter = ['Dec', 'Jan', 'Feb']\n",
    "data_split_genres_directors.query('release_month in @list_winter')\\\n",
    "    .groupby('director')['imdb_id'].count().sort_values(ascending=False)"
   ],
   "execution_count": 353,
   "outputs": [
    {
     "data": {
      "text/plain": "director\nPeter Jackson         18\nSteven Soderbergh     14\nClint Eastwood        13\nRob Marshall          11\nAdam Shankman         11\n                      ..\nBill Condon            1\nJason Moore            1\nDavid Gordon Green     1\nRob Bowman             1\nJack Sholder           1\nName: imdb_id, Length: 358, dtype: int64"
     },
     "execution_count": 353,
     "metadata": {},
     "output_type": "execute_result"
    }
   ]
  },
  {
   "cell_type": "markdown",
   "metadata": {
    "id": "RBo0JVjVVqAF",
    "colab_type": "text"
   },
   "source": [
    "# 24. Какая студия дает самые длинные названия своим фильмам по количеству символов?\n",
    "\n"
   ]
  },
  {
   "cell_type": "code",
   "metadata": {
    "trusted": true,
    "id": "QRGS8L0iVqAG",
    "colab_type": "code",
    "colab": {}
   },
   "source": [
    "answers['24'] = '5. Four By Two Productions'\n",
    "data_split_production_companies.groupby('production_companies')['original_title_len'].max().sort_values(ascending=False)"
   ],
   "execution_count": 354,
   "outputs": [
    {
     "data": {
      "text/plain": "production_companies\nFour By Two Productions                   83\nTwentieth Century Fox Film Corporation    83\nWalden Media                              62\nWalt Disney                               62\nJim Henson Company, The                   59\n                                          ..\nEverest Entertainment                      3\nBerlanti Productions                       3\nXM2 Productions                            2\nGlobal Entertainment Group                 2\nIxtlan Productions                         2\nName: original_title_len, Length: 1771, dtype: int64"
     },
     "execution_count": 354,
     "metadata": {},
     "output_type": "execute_result"
    }
   ]
  },
  {
   "cell_type": "markdown",
   "metadata": {
    "id": "9G0hbvR7VqAK",
    "colab_type": "text"
   },
   "source": [
    "# 25. Описание фильмов какой студии в среднем самые длинные по количеству слов?"
   ]
  },
  {
   "cell_type": "code",
   "metadata": {
    "trusted": true,
    "id": "Ge2GsLNxVqAK",
    "colab_type": "code",
    "colab": {}
   },
   "source": [
    "answers['25'] = '3. Midnight Picture Show'\n",
    "\n",
    "data_split_production_companies.groupby('production_companies')['overview_words_count']\\\n",
    "    .mean().sort_values(ascending=False)"
   ],
   "execution_count": 355,
   "outputs": [
    {
     "data": {
      "text/plain": "production_companies\nMidnight Picture Show                    175.0\nRoom 9 Entertainment                     161.0\nHeineken Branded Entertainment           161.0\n98 MPH Productions                       159.0\nBrookwell-McNamara Entertainment         156.0\n                                         ...  \nLondon Boulevard                          13.0\nPhantom Four                              13.0\nHenceforth                                13.0\nEmpire Pictures                           11.0\nMotion Picture Corporation of America     11.0\nName: overview_words_count, Length: 1771, dtype: float64"
     },
     "execution_count": 355,
     "metadata": {},
     "output_type": "execute_result"
    }
   ]
  },
  {
   "cell_type": "markdown",
   "metadata": {
    "id": "FJ1AFt90VqAP",
    "colab_type": "text"
   },
   "source": [
    "# 26. Какие фильмы входят в 1 процент лучших по рейтингу? \n",
    "по vote_average"
   ]
  },
  {
   "cell_type": "code",
   "metadata": {
    "trusted": true,
    "id": "8qmJVq4CVqAQ",
    "colab_type": "code",
    "colab": {}
   },
   "source": [
    "answers['26'] = '1. Inside Out, The Dark Knight, 12 Years a Slave'\n",
    "\n",
    "data[data.vote_average >= data.vote_average.quantile(.99)][['original_title', 'vote_average']]\\\n",
    "    .sort_values('vote_average', ascending=False)"
   ],
   "execution_count": 356,
   "outputs": [
    {
     "data": {
      "text/plain": "                                         original_title  vote_average\n599                                     The Dark Knight           8.1\n9                                            Inside Out           8.0\n34                                                 Room           8.0\n118                                        Interstellar           8.0\n125                                  The Imitation Game           8.0\n370                                           Inception           7.9\n1191                                   12 Years a Slave           7.9\n1183                            The Wolf of Wall Street           7.9\n1081      The Lord of the Rings: The Return of the King           7.9\n872                                         The Pianist           7.9\n1800                                            Memento           7.9\n119                             Guardians of the Galaxy           7.9\n138                            The Grand Budapest Hotel           7.9\n128                                           Gone Girl           7.9\n283                                          Mr. Nobody           7.8\n1688                                There Will Be Blood           7.8\n1563              Eternal Sunshine of the Spotless Mind           7.8\n1444                                       The Prestige           7.8\n1213                                 Dallas Buyers Club           7.8\n1205                                          Prisoners           7.8\n124                                          Big Hero 6           7.8\n1188                                                Her           7.8\n316                                            3 Idiots           7.8\n863               The Lord of the Rings: The Two Towers           7.8\n155                            The Theory of Everything           7.8\n28                                            Spotlight           7.8\n177                              The Fault in Our Stars           7.8\n496   The Lord of the Rings: The Fellowship of the Ring           7.8",
      "text/html": "<div>\n<style scoped>\n    .dataframe tbody tr th:only-of-type {\n        vertical-align: middle;\n    }\n\n    .dataframe tbody tr th {\n        vertical-align: top;\n    }\n\n    .dataframe thead th {\n        text-align: right;\n    }\n</style>\n<table border=\"1\" class=\"dataframe\">\n  <thead>\n    <tr style=\"text-align: right;\">\n      <th></th>\n      <th>original_title</th>\n      <th>vote_average</th>\n    </tr>\n  </thead>\n  <tbody>\n    <tr>\n      <th>599</th>\n      <td>The Dark Knight</td>\n      <td>8.1</td>\n    </tr>\n    <tr>\n      <th>9</th>\n      <td>Inside Out</td>\n      <td>8.0</td>\n    </tr>\n    <tr>\n      <th>34</th>\n      <td>Room</td>\n      <td>8.0</td>\n    </tr>\n    <tr>\n      <th>118</th>\n      <td>Interstellar</td>\n      <td>8.0</td>\n    </tr>\n    <tr>\n      <th>125</th>\n      <td>The Imitation Game</td>\n      <td>8.0</td>\n    </tr>\n    <tr>\n      <th>370</th>\n      <td>Inception</td>\n      <td>7.9</td>\n    </tr>\n    <tr>\n      <th>1191</th>\n      <td>12 Years a Slave</td>\n      <td>7.9</td>\n    </tr>\n    <tr>\n      <th>1183</th>\n      <td>The Wolf of Wall Street</td>\n      <td>7.9</td>\n    </tr>\n    <tr>\n      <th>1081</th>\n      <td>The Lord of the Rings: The Return of the King</td>\n      <td>7.9</td>\n    </tr>\n    <tr>\n      <th>872</th>\n      <td>The Pianist</td>\n      <td>7.9</td>\n    </tr>\n    <tr>\n      <th>1800</th>\n      <td>Memento</td>\n      <td>7.9</td>\n    </tr>\n    <tr>\n      <th>119</th>\n      <td>Guardians of the Galaxy</td>\n      <td>7.9</td>\n    </tr>\n    <tr>\n      <th>138</th>\n      <td>The Grand Budapest Hotel</td>\n      <td>7.9</td>\n    </tr>\n    <tr>\n      <th>128</th>\n      <td>Gone Girl</td>\n      <td>7.9</td>\n    </tr>\n    <tr>\n      <th>283</th>\n      <td>Mr. Nobody</td>\n      <td>7.8</td>\n    </tr>\n    <tr>\n      <th>1688</th>\n      <td>There Will Be Blood</td>\n      <td>7.8</td>\n    </tr>\n    <tr>\n      <th>1563</th>\n      <td>Eternal Sunshine of the Spotless Mind</td>\n      <td>7.8</td>\n    </tr>\n    <tr>\n      <th>1444</th>\n      <td>The Prestige</td>\n      <td>7.8</td>\n    </tr>\n    <tr>\n      <th>1213</th>\n      <td>Dallas Buyers Club</td>\n      <td>7.8</td>\n    </tr>\n    <tr>\n      <th>1205</th>\n      <td>Prisoners</td>\n      <td>7.8</td>\n    </tr>\n    <tr>\n      <th>124</th>\n      <td>Big Hero 6</td>\n      <td>7.8</td>\n    </tr>\n    <tr>\n      <th>1188</th>\n      <td>Her</td>\n      <td>7.8</td>\n    </tr>\n    <tr>\n      <th>316</th>\n      <td>3 Idiots</td>\n      <td>7.8</td>\n    </tr>\n    <tr>\n      <th>863</th>\n      <td>The Lord of the Rings: The Two Towers</td>\n      <td>7.8</td>\n    </tr>\n    <tr>\n      <th>155</th>\n      <td>The Theory of Everything</td>\n      <td>7.8</td>\n    </tr>\n    <tr>\n      <th>28</th>\n      <td>Spotlight</td>\n      <td>7.8</td>\n    </tr>\n    <tr>\n      <th>177</th>\n      <td>The Fault in Our Stars</td>\n      <td>7.8</td>\n    </tr>\n    <tr>\n      <th>496</th>\n      <td>The Lord of the Rings: The Fellowship of the Ring</td>\n      <td>7.8</td>\n    </tr>\n  </tbody>\n</table>\n</div>"
     },
     "execution_count": 356,
     "metadata": {},
     "output_type": "execute_result"
    }
   ]
  },
  {
   "cell_type": "markdown",
   "metadata": {
    "id": "MdXsUXbCVqAV",
    "colab_type": "text"
   },
   "source": [
    "# 27. Какие актеры чаще всего снимаются в одном фильме вместе?"
   ]
  },
  {
   "cell_type": "code",
   "metadata": {
    "id": "4ymnxEVoVqAW",
    "colab_type": "text",
    "pycharm": {
     "name": "#%%\n"
    }
   },
   "source": [
    "answers['27'] = '5. Daniel Radcliffe & Rupert Grint'\n",
    "\n",
    "from itertools import combinations\n",
    "from collections import Counter\n",
    "pairs = []\n",
    "for group in [x.split('|') for x in data.cast]:\n",
    "    pairs.extend(list(combinations(group, 2)))\n",
    "counted_pairs = Counter(pairs)\n",
    "result = counted_pairs.most_common()\n",
    "result[0]\n"
   ],
   "execution_count": 357,
   "outputs": [
    {
     "data": {
      "text/plain": "(('Daniel Radcliffe', 'Rupert Grint'), 8)"
     },
     "execution_count": 357,
     "metadata": {},
     "output_type": "execute_result"
    }
   ]
  },
  {
   "cell_type": "markdown",
   "metadata": {
    "id": "U0nONFnGVqAX",
    "colab_type": "text"
   },
   "source": [
    "# Submission"
   ]
  },
  {
   "cell_type": "code",
   "metadata": {
    "trusted": true,
    "id": "IfcaRO9-VqAX",
    "colab_type": "code",
    "colab": {},
    "outputId": "0f132912-32bb-4196-c98c-abfbc4ad5a5f"
   },
   "source": [
    "# в конце можно посмотреть свои ответы к каждому вопросу\n",
    "answers"
   ],
   "execution_count": 358,
   "outputs": [
    {
     "data": {
      "text/plain": "{'1': '5. Pirates of the Caribbean: On Stranger Tides (tt1298650)',\n '2': '2. Gods and Generals (tt0279111)',\n '3': '3. Winnie the Pooh (tt1449283)',\n '4': '2. 110',\n '5': '1. 107',\n '6': '5. Avatar (tt0499549)',\n '7': '5. The Lone Ranger\\t (tt1210819)',\n '8': '1. 1478',\n '9': '4. The Dark Knight\\t(tt0468569)',\n '10': '5. The Lone Ranger\\t(tt1210819)',\n '11': '3. Drama',\n '12': '1. Drama',\n '13': '5. Peter Jackson',\n '14': '3. Robert Rodriguez',\n '15': '3. Chris Hemsworth',\n '16': '3. Matt Damon',\n '17': '2. Action',\n '18': '1. K-19: The Widowmaker (tt0267626)',\n '19': '5. 2015',\n '20': '1. 2014',\n '21': '4. Сентябрь',\n '22': '2. 450',\n '23': '3. Clint Eastwood',\n '24': '5. Four By Two Productions',\n '25': '3. Midnight Picture Show',\n '26': '1. Inside Out, The Dark Knight, 12 Years a Slave',\n '27': '5. Daniel Radcliffe & Rupert Grint'}"
     },
     "execution_count": 358,
     "metadata": {},
     "output_type": "execute_result"
    }
   ]
  },
  {
   "cell_type": "code",
   "metadata": {
    "trusted": true,
    "id": "SiRmHPl8VqAd",
    "colab_type": "code",
    "colab": {}
   },
   "source": [
    "# и убедиться что ни чего не пропустил)\n",
    "len(answers)"
   ],
   "execution_count": 359,
   "outputs": [
    {
     "data": {
      "text/plain": "27"
     },
     "execution_count": 359,
     "metadata": {},
     "output_type": "execute_result"
    }
   ]
  },
  {
   "cell_type": "code",
   "metadata": {
    "trusted": true,
    "id": "uCfuTkRbVqAg",
    "colab_type": "code",
    "colab": {}
   },
   "source": [
    ""
   ],
   "execution_count": 359,
   "outputs": []
  },
  {
   "cell_type": "code",
   "metadata": {
    "trusted": true,
    "id": "Vwx3NrkSVqAl",
    "colab_type": "code",
    "colab": {}
   },
   "source": [
    ""
   ],
   "execution_count": 359,
   "outputs": []
  }
 ]
}